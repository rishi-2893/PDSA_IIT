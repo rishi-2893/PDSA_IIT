{
 "cells": [
  {
   "cell_type": "code",
   "execution_count": 241,
   "id": "dc446277",
   "metadata": {
    "ExecuteTime": {
     "end_time": "2023-09-19T03:45:06.929686Z",
     "start_time": "2023-09-19T03:45:06.906650Z"
    }
   },
   "outputs": [],
   "source": [
    "import numpy as np\n",
    "def convert_to_Alist(WMat):\n",
    "    WList = {}\n",
    "    (rows, cols, x) = WMat.shape\n",
    "    for i in range(rows):\n",
    "        WList[i] = []\n",
    "        for j in range(cols):\n",
    "            if(WMat[i, j, 0]!=0):\n",
    "                WList[i].append((j,WMat[i, j, 1] ))    \n",
    "    return WList\n",
    "\n",
    "\n",
    "WMat = np.array([[(0, 0), (1, 6), (1, 2)],[(1, 4), (0, 0), (0, 0)],[(0, 0), (1, 1), (0, 0)]])\n",
    "WMatNeg = np.array([[(0, 0), (1, 1), (1, -1)], [(0, 0), (0, 0), (1, 2)], [(0, 0), (0, 0), (0, 0)]])\n",
    "WMatNegUD = np.array([[(0, 0), (1, 5), (1, 3)], [(1, 5), (0, 0), (1, -2)], [(1, 3), (1, -2), (0, 0)]])\n",
    "WList = convert_to_Alist(WMat)\n",
    "WListNeg = convert_to_Alist(WMatNeg)\n",
    "WListNegUD = convert_to_Alist(WMatNegUD)"
   ]
  },
  {
   "cell_type": "code",
   "execution_count": 242,
   "id": "814fd580",
   "metadata": {
    "ExecuteTime": {
     "end_time": "2023-09-19T03:45:07.227413Z",
     "start_time": "2023-09-19T03:45:07.208852Z"
    }
   },
   "outputs": [],
   "source": [
    "def dijkstra(WMat, s):\n",
    "    (rows, cols, x) = WMat.shape\n",
    "    (visited, distance) = ({},{})\n",
    "    inf = float('inf')\n",
    "    for i in range(rows):\n",
    "        (visited[i], distance[i]) = (False, inf)\n",
    "    distance[s] = 0\n",
    "    for _ in range(rows):\n",
    "        nextd = min([distance[v] for v in range(rows) if not visited[v]])\n",
    "        nextvlist = [v for v in range(rows) if distance[v]==nextd and not visited[v]]\n",
    "        if not nextvlist:\n",
    "            break\n",
    "        nextv = min(nextvlist)\n",
    "        visited[nextv] = True\n",
    "        for nbr in range(cols):\n",
    "            if WMat[nextv, nbr, 0] == 1 and not visited[nbr]:\n",
    "                distance[nbr] = min(distance[nbr], distance[nextv] + WMat[nextv, nbr, 1])\n",
    "    return distance"
   ]
  },
  {
   "cell_type": "code",
   "execution_count": 243,
   "id": "5a3743b6",
   "metadata": {
    "ExecuteTime": {
     "end_time": "2023-09-19T03:45:07.478765Z",
     "start_time": "2023-09-19T03:45:07.462357Z"
    }
   },
   "outputs": [],
   "source": [
    "def bellman(WMat, s):\n",
    "    (visited, distance) = ({},{})\n",
    "    (rows, cols, x) = WMat.shape\n",
    "    for i in range(rows):\n",
    "        distance[i] = float('inf')\n",
    "    distance[s] = 0\n",
    "    for i in range(rows):\n",
    "        for u in range(rows):\n",
    "            for v in range(rows):\n",
    "                if WMat[u, v, 0] == 1:\n",
    "                    distance[v] = min(distance[v], distance[u] + WMat[u, v, 1])\n",
    "    return distance"
   ]
  },
  {
   "cell_type": "code",
   "execution_count": 244,
   "id": "14f83bea",
   "metadata": {
    "ExecuteTime": {
     "end_time": "2023-09-19T03:45:07.713831Z",
     "start_time": "2023-09-19T03:45:07.701357Z"
    }
   },
   "outputs": [
    {
     "data": {
      "text/plain": [
       "[9, 4, 1]"
      ]
     },
     "execution_count": 244,
     "metadata": {},
     "output_type": "execute_result"
    }
   ],
   "source": [
    "list(map(lambda x : x**2, [3, 2, 1]))"
   ]
  },
  {
   "cell_type": "code",
   "execution_count": 245,
   "id": "977c2536",
   "metadata": {
    "ExecuteTime": {
     "end_time": "2023-09-19T03:45:08.042106Z",
     "start_time": "2023-09-19T03:45:08.024137Z"
    }
   },
   "outputs": [],
   "source": [
    "def floydwarshal(WMat):\n",
    "    (rows, cols, x) = WMat.shape\n",
    "    distance = np.zeros(shape=(rows, cols, x))\n",
    "    for i in range(rows):\n",
    "        for j in range(cols):\n",
    "            if WMat[i, j, 0] == 1:\n",
    "                distance[i, j] = WMat[i, j, 1]\n",
    "            else:\n",
    "                distance[i, j] = float('inf')\n",
    "    for k in range(rows):\n",
    "        for i in range(rows):\n",
    "            for j in range(rows):\n",
    "                distance[i, j] = min(distance[i, j], distance[i, k] + distance[k, j])\n",
    "    return distance"
   ]
  },
  {
   "cell_type": "code",
   "execution_count": 246,
   "id": "304f56ba",
   "metadata": {
    "ExecuteTime": {
     "end_time": "2023-09-19T03:45:08.591447Z",
     "start_time": "2023-09-19T03:45:08.554375Z"
    }
   },
   "outputs": [
    {
     "ename": "ValueError",
     "evalue": "The truth value of an array with more than one element is ambiguous. Use a.any() or a.all()",
     "output_type": "error",
     "traceback": [
      "\u001b[1;31m---------------------------------------------------------------------------\u001b[0m",
      "\u001b[1;31mValueError\u001b[0m                                Traceback (most recent call last)",
      "Input \u001b[1;32mIn [246]\u001b[0m, in \u001b[0;36m<cell line: 1>\u001b[1;34m()\u001b[0m\n\u001b[1;32m----> 1\u001b[0m \u001b[43mfloyd_warshall\u001b[49m\u001b[43m(\u001b[49m\u001b[43mWMatNeg\u001b[49m\u001b[43m)\u001b[49m\n",
      "Input \u001b[1;32mIn [235]\u001b[0m, in \u001b[0;36mfloyd_warshall\u001b[1;34m(G)\u001b[0m\n\u001b[0;32m     16\u001b[0m     \u001b[38;5;28;01mfor\u001b[39;00m i \u001b[38;5;129;01min\u001b[39;00m \u001b[38;5;28mrange\u001b[39m(nV):\n\u001b[0;32m     17\u001b[0m         \u001b[38;5;28;01mfor\u001b[39;00m j \u001b[38;5;129;01min\u001b[39;00m \u001b[38;5;28mrange\u001b[39m(nV):\n\u001b[1;32m---> 18\u001b[0m             distance[i][j] \u001b[38;5;241m=\u001b[39m \u001b[38;5;28;43mmin\u001b[39;49m\u001b[43m(\u001b[49m\u001b[43mdistance\u001b[49m\u001b[43m[\u001b[49m\u001b[43mi\u001b[49m\u001b[43m]\u001b[49m\u001b[43m[\u001b[49m\u001b[43mj\u001b[49m\u001b[43m]\u001b[49m\u001b[43m,\u001b[49m\u001b[43m \u001b[49m\u001b[43mdistance\u001b[49m\u001b[43m[\u001b[49m\u001b[43mi\u001b[49m\u001b[43m]\u001b[49m\u001b[43m[\u001b[49m\u001b[43mk\u001b[49m\u001b[43m]\u001b[49m\u001b[43m \u001b[49m\u001b[38;5;241;43m+\u001b[39;49m\u001b[43m \u001b[49m\u001b[43mdistance\u001b[49m\u001b[43m[\u001b[49m\u001b[43mk\u001b[49m\u001b[43m]\u001b[49m\u001b[43m[\u001b[49m\u001b[43mj\u001b[49m\u001b[43m]\u001b[49m\u001b[43m)\u001b[49m\n\u001b[0;32m     19\u001b[0m print_solution(distance)\n",
      "\u001b[1;31mValueError\u001b[0m: The truth value of an array with more than one element is ambiguous. Use a.any() or a.all()"
     ]
    }
   ],
   "source": [
    "floyd_warshall(WMatNeg)"
   ]
  },
  {
   "cell_type": "code",
   "execution_count": null,
   "id": "f405d7c8",
   "metadata": {},
   "outputs": [],
   "source": []
  }
 ],
 "metadata": {
  "kernelspec": {
   "display_name": "Python 3 (ipykernel)",
   "language": "python",
   "name": "python3"
  },
  "language_info": {
   "codemirror_mode": {
    "name": "ipython",
    "version": 3
   },
   "file_extension": ".py",
   "mimetype": "text/x-python",
   "name": "python",
   "nbconvert_exporter": "python",
   "pygments_lexer": "ipython3",
   "version": "3.9.12"
  }
 },
 "nbformat": 4,
 "nbformat_minor": 5
}
