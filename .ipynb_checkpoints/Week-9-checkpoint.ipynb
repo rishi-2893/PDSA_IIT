{
 "cells": [
  {
   "cell_type": "markdown",
   "id": "19bec81c",
   "metadata": {},
   "source": [
    "# Fibonacci: Naive Recursion\n",
    "---\n",
    "#### Code\n",
    "```python\n",
    "def fib(n):\n",
    "    if n <= 1:\n",
    "        return n\n",
    "    else:\n",
    "        return fib(n-1) + fib(n-2)\n",
    "```\n",
    "---\n",
    "#### The Problem\n",
    "<img src=\"./images/16.png\" width = 500 height = 500>\n",
    "\n",
    "- Notice we are doing wasteful re-computations\n",
    "    - `fib(2)` was computed 3 times\n",
    "    - `fib(3)` was computed 2 times\n",
    "- Due to this tree grows exponentially\n",
    "---\n",
    "# Fibonacci: Memoizing Recursive Implementation\n",
    "--- \n",
    "#### Code\n",
    "```python\n",
    "def fib(n):\n",
    "    if n in fibtable.keys():\n",
    "        return fibtable[n]\n",
    "    if n <= 1:\n",
    "        value = n\n",
    "    else:\n",
    "        value = fib(n-1) + fib(n-2)\n",
    "    fibtable[n] = value\n",
    "    return value\n",
    "```\n",
    "---\n",
    "#### Code: In general\n",
    "```python\n",
    "def f(x,y,z):\n",
    "    if (x,y,z) in ftable.keys():\n",
    "        return(ftable[(x,y,z)])\n",
    "    recursively compute value\n",
    "        from subproblems\n",
    "    ftable[(x,y,z)] = value\n",
    "    return(value)\n",
    "```"
   ]
  },
  {
   "attachments": {},
   "cell_type": "markdown",
   "id": "b4e623d9",
   "metadata": {},
   "source": [
    "# Grid Paths\n",
    "---\n",
    "#### Grid Paths\n",
    "- Rectangular grid of one-way roads\n",
    "- Can only go up and right\n",
    "- How many paths from $(0, 0)$ to $(m, n)$?\n",
    "<img src=\"./images/17.png\" width = 500 height = 500>\n",
    "---\n",
    "\n",
    "#### Combinatorial Solution\n",
    "- Every path from $(0, 0)$ to $(5, 10)$ has 15 segments\n",
    "    - On each segment you have two choices: move up or move right\n",
    "    - So in total you need to make 15 choices to reach $(5, 10)$\n",
    "- In general $m+n$ segments from $(0, 0)$ to $(m, n)$\n",
    "    - You need to make exactly $m+n$ choices to reach $(m, n)$\n",
    "- Out of 15 positions choose 5 of them to turn right\n",
    "    - $^{15}{C_{5}}=\\dfrac{15!}{5!10!}=3003$\n",
    "    - Same as $^{15}{C_{10}}$: Fix 10 moves up\n",
    "---\n",
    "\n",
    "#### Combinatorial Solution for Holes\n",
    "- What if an intersection is blocked, $(2, 4)$?\n",
    "- Discard paths passing through $(2, 4)$\n",
    "- Every path via $(2, 4)$ combines a path from $(0, 0)$ to $(2, 4)$ with a path from $(2, 4)$ to $(5, 10)$\n",
    "    - Count these separately\n",
    "    - $\\left(\\begin{array}{c} 2+4 \\\\ 2 \\end{array}\\right)=15$ paths $(0, 0)$ to $(2, 4)$\n",
    "    - $\\left(\\begin{array}{c} 3+6 \\\\ 3 \\end{array}\\right)=84$ paths $(2, 4)$ to $(5, 10)$\n",
    "    - $15 \\times 84=1260$ paths via $(2, 4)$\n",
    "    - $3003-1260=1743$ valid paths avoiding $(2, 4)$\n",
    "---\n",
    "\n",
    "#### More Holes\n",
    "<img src=\"./images/18.png\" width = 500 height = 500>\n",
    "\n",
    "- What if two intersections are blocked?\n",
    "- Discard paths via (2, 4), (4, 4)\n",
    "- Some paths are counted twice\n",
    "- Add back the paths that pass through both holes\n",
    "- **Inclusion-exclusion** — counting is messy\n",
    "---\n",
    "\n",
    "#### Inductive Formulation\n",
    "- How can a path reach (i, j)\n",
    "    - Move up from (i, j − 1)\n",
    "    - Move right from (i − 1, j)\n",
    "- Each path to these neighbours extends to a unique path to (i, j)\n",
    "- Recurrence for P(i, j), number of paths from (0, 0) to (i, j)\n",
    "    - P(i, j) = P(i − 1, j) + P(i, j − 1)\n",
    "    - P(0, 0) = 1 — base case\n",
    "        - Only one way to move from (0,0) to (0,0), by staying still\n",
    "    - P(i, 0) = P(i − 1, 0) — bottom row\n",
    "        - P(3, 0) = P(5, 0)\n",
    "        - This is because there is only one path — horizontal path\n",
    "    - P(0, j) = P(0, j − 1) — left column\n",
    "    - P(i, j) = 0 if there is a hole at (i, j)\n",
    "---\n",
    "\n",
    "#### Dynamic Programming\n",
    "<img src=\"./images/19.png\" width = 500 height = 500>\n",
    "\n",
    "- Identify DAG structure\n",
    "- P(0, 0) has no dependencies\n",
    "- Start at (0, 0)\n",
    "- Fill row by row or column by column or diagonal\n",
    "<img src=\"./images/20.png\" width = 500 height = 500>\n",
    "<img src=\"./images/21.png\" width = 500 height = 500>\n",
    "<img src=\"./images/22.png\" width = 500 height = 500>\n",
    "\n",
    "---\n",
    "\n",
    "#### Memoization vs dynamic programming\n",
    "<img src=\"./images/23.png\" width = 500 height = 500>\n",
    "\n",
    "- Memoization never explores the shaded region\n",
    "    - It starts from (5, 10) and never explores yellow region\n",
    "- Memo table has $O(m + n)$ entries\n",
    "- Dynamic programming blindly fills all $mn$ cells of the table\n",
    "    - It starts from (0, 0) and explores every cell\n",
    "    - Note: DP also explores the yellow region, but there exist no path from yellow region to (5, 10)\n",
    "- Tradeoff between recursion and iteration\n",
    "    - “Wasteful” dynamic programming still Dynamic Programming is better in general"
   ]
  },
  {
   "cell_type": "markdown",
   "id": "9bb1d59e",
   "metadata": {},
   "source": [
    "# Longest Common Subword: Dynamic Programming\n",
    "- See slides for more info about the problem\n",
    "---\n",
    "\n",
    "#### Time Complexity\n",
    "- Recall that brute force was $O\\left(m n^{2}\\right)$\n",
    "- Inductive solution is $O(mn)$, using dynamic programming or memoization\n",
    "    - Fill a table of size $O(mn)$\n",
    "    - Each table entry takes constant time to compute"
   ]
  },
  {
   "cell_type": "code",
   "execution_count": 35,
   "id": "5aaedfeb",
   "metadata": {},
   "outputs": [
    {
     "data": {
      "text/plain": [
       "5.0"
      ]
     },
     "execution_count": 35,
     "metadata": {},
     "output_type": "execute_result"
    }
   ],
   "source": [
    "# u and v are strings\n",
    "def LCW(u, v):\n",
    "    import numpy as np\n",
    "    (m , n) = (len(u), len(v))\n",
    "    # making m+1*n+1 matrix\n",
    "    lcw = np.zeros((m+1, n+1))\n",
    "    \n",
    "    # Used for tracking maximum entry in the matrix\n",
    "    maxlcw = 0\n",
    "    \n",
    "    # We start from last letter in both words\n",
    "    # Loop runs n times\n",
    "    # Stop on reaching 0, steps = -1\n",
    "    for c in range(n-1 , -1 , -1):\n",
    "        # loop runs m times, m-1, m-2,...1, 0\n",
    "        for r in range(m-1, -1, -1):\n",
    "            if u[r] == v[c]:\n",
    "                # we need to use lcw[r+1, c+1] and that is why we make (m+1)*(n+1) matrix\n",
    "                lcw[r, c] = 1 + lcw[r+1, c+1]\n",
    "            else:\n",
    "                lcw[r, c] = 0\n",
    "            if lcw[r, c] > maxlcw:\n",
    "                maxlcw = lcw[r, c]\n",
    "    return maxlcw\n",
    "\n",
    "LCW(\"bisect\", \"trisect\")"
   ]
  },
  {
   "cell_type": "markdown",
   "id": "1c5e2365",
   "metadata": {},
   "source": [
    "# Longest Common Subsequence: Dynamic Programming\n",
    "- See slides for more info about the problem\n",
    "---\n",
    "#### Time Complexity\n",
    "- Inductive solution is $O(mn)$, using dynamic programming or memoization \n",
    "- Fill a table of size $O(mn)$\n",
    "- Each table entry takes constant time to compute"
   ]
  },
  {
   "cell_type": "code",
   "execution_count": 37,
   "id": "42f5cc94",
   "metadata": {},
   "outputs": [
    {
     "data": {
      "text/plain": [
       "4.0"
      ]
     },
     "execution_count": 37,
     "metadata": {},
     "output_type": "execute_result"
    }
   ],
   "source": [
    "# u and v are strings\n",
    "def LCS(u, v):\n",
    "    import numpy as np\n",
    "    (m, n) = (len(u), len(v))\n",
    "    lcs = np.zeros((m+1, n+1))\n",
    "    \n",
    "    for c in range(n-1, -1, -1):\n",
    "        for r in range(m-1, -1, -1):\n",
    "            if u[r] == v[c]:\n",
    "                # diagonal + 1\n",
    "                lcs[r, c] = 1 + lcs[r+1, c+1]\n",
    "            else:\n",
    "                # take maximum of either\n",
    "                lcs[r, c] = max(lcs[r+1, c], lcs[r, c+1])\n",
    "                \n",
    "    # note: maximum number in the matrix will be always on (0, 0)\n",
    "    return lcs[0, 0]\n",
    "\n",
    "LCS(\"bisect\", \"secret\") # sect"
   ]
  },
  {
   "cell_type": "markdown",
   "id": "405270c2",
   "metadata": {},
   "source": [
    "# Edit Distance: DP\n",
    "- See slides for more info about the problem\n",
    "---\n",
    "#### Time Complexity\n",
    "- Inductive solution is $O(mn)$, using dynamic programming or memoization \n",
    "- Fill a table of size $O(mn)$\n",
    "- Each table entry takes constant time to compute"
   ]
  },
  {
   "cell_type": "code",
   "execution_count": 55,
   "id": "a082646f",
   "metadata": {},
   "outputs": [
    {
     "data": {
      "text/plain": [
       "4.0"
      ]
     },
     "execution_count": 55,
     "metadata": {},
     "output_type": "execute_result"
    }
   ],
   "source": [
    "# u and v are strings\n",
    "# Goal is to find difference between them using number of operations needed to make both equal\n",
    "def ED(u, v):\n",
    "    import numpy as np\n",
    "    (m, n) = (len(u), len(v))\n",
    "    ed = np.zeros((m+1, n+1))\n",
    "    \n",
    "    # Filling last column\n",
    "    for i in range(m-1, -1, -1):\n",
    "        ed[i, n] = m - i\n",
    "    # Filling last row\n",
    "    for j in range(n-1, -1, -1):\n",
    "        ed[m, j] = n - j\n",
    "        \n",
    "    for j in range(n-1, -1, -1):\n",
    "        for i in range(m-1, -1, -1):\n",
    "            # when equal\n",
    "            if u[i] == v[j]:\n",
    "                ed[i, j] = ed[i+1, j+1]\n",
    "            else:\n",
    "                # note here ed[i+1, j+1] is for SUBSTITUTION\n",
    "                ed[i, j] = 1 + min(ed[i+1, j+1], ed[i, j+1], ed[i+1, j])\n",
    "    \n",
    "    # Answer is always on index (0, 0)\n",
    "    return ed[0, 0]\n",
    "\n",
    "ED(\"bisect\", \"secret\")"
   ]
  },
  {
   "cell_type": "markdown",
   "id": "e41d97a5",
   "metadata": {},
   "source": [
    "# Matrix Multiplication: DP\n",
    "- See slides for more info about the problem\n",
    "---\n",
    "#### Time Complexity\n",
    "- We have to fill a table of size $O(n^2)$\n",
    "- Filling each entry takes $O(n)$\n",
    "- Overall, $O(n^3)$"
   ]
  },
  {
   "cell_type": "code",
   "execution_count": 54,
   "id": "8c262ae5",
   "metadata": {},
   "outputs": [
    {
     "data": {
      "text/plain": [
       "200.0"
      ]
     },
     "execution_count": 54,
     "metadata": {},
     "output_type": "execute_result"
    }
   ],
   "source": [
    "import numpy as np\n",
    "# dim: dimension matrix,\n",
    "# dim contains dimensions of matrices to be multiplied\n",
    "# dim = [(r0, c0), (r1, c1), ... ,(rn-1, cn-1)]\n",
    "def C(dim):\n",
    "    # use [0] as .shape returns tuple (n,)\n",
    "    # n is the number of matrices to multiply\n",
    "    n = dim.shape[0] \n",
    "    # C stores min cost to compute product of matrices i to j, 0 <= i, j < n\n",
    "    C = np.zeros((n,n))\n",
    "    \n",
    "    # Explicitly initializing base cases i.e, C(i, i) to 0\n",
    "    # This is not necessary as we already have initialized values of matrix to 0\n",
    "    for i in range(n):\n",
    "        # main diagonal elements\n",
    "        # C(i, i) is zero as product of single matrix is the matrix itself, thus nothing to compute => cost = 0\n",
    "        C[i,i] = 0\n",
    "    \n",
    "    # See slide no. 6 for visualization of diff\n",
    "    # Now that we have filled base cases we fill up diagonals one by one\n",
    "    # Pattern: for base case (i.e, main diagonal) j-i = 0\n",
    "    # For the next diagonal j-i=1, for next j-i=2....\n",
    "    # At last we reach the top row and last column so i=0 and j=n-1, j-i = n-1\n",
    "    # diff = j-i, diff goes from 1 (as base case already filled with 0) to n-1\n",
    "    # See the slide-6 for visualizing\n",
    "    # Now we will fill one diagonal on each iteration till we reach (0, n-1)\n",
    "    for diff in range(1,n):\n",
    "        # We are filling diagonal from top to bottom\n",
    "        # n-diff = gives upper bound for i\n",
    "        # We know diff is 1 for the diagonal above main diagonal (lets call it d1)\n",
    "        # So for d1, i starts from 0 and can go till n-1-1=n-2 (as diff = 1)\n",
    "        # So for d2, i starts from 0 and can go till n-2-1=n-3 (as diff = 2)\n",
    "        # ...\n",
    "        # So for dn-1, i starts from 0 and can go till n-(n-1)-1=0 (as diff = n-1)\n",
    "        for i in range(0,n-diff):\n",
    "            # Get the corresponding value of j (note diff = j-i)\n",
    "            # j = i + (j-i) = j\n",
    "            j = i + diff\n",
    "            # Setting C[i, j] to the first possible cost among the available sequences\n",
    "            # Ensures the minimum cost cannot go above this\n",
    "            # C[i,i] = C(i, i)\n",
    "            # C[i+1,j] = C(i+1, j)\n",
    "            # dim[i][0]*... = cost of multiplying the above two resulting matrices (remember m*n*p?)\n",
    "            # Factors are (M_i) * (M_i+1 * M_i+1 ... M_j)\n",
    "            # m = dim[i][0], n = dim[i+1][0], p = dim[j][1]\n",
    "            C[i,j] = C[i,i] + C[i+1,j] + dim[i][0]*dim[i+1][0]*dim[j][1]\n",
    "            \n",
    "            # Finding minimum value of C[i, j]\n",
    "            # We already computed C[i, j] for k = i\n",
    "            # See slide number 5 to see how k breaks the problem into two factors\n",
    "            for k in range(i+1,j+1):\n",
    "                C[i,j] = min(C[i,j], C[i,k-1] + C[k,j] + dim[i][0]*dim[k][0]*dim[j][1])\n",
    "    \n",
    "    # Returns the MINIMUM number of steps requried to multiply n matrices\n",
    "    return(C[0,n-1])\n",
    "\n",
    "dim = np.array([(1, 100), (100, 1), (1, 100)])\n",
    "# A: 1*100, B: 100*1, C: 1*100\n",
    "C(dim)"
   ]
  },
  {
   "cell_type": "markdown",
   "id": "feae6fba",
   "metadata": {},
   "source": [
    "# Notes\n",
    "---\n",
    "#### Fibonacci\n",
    "- We know $fib(n)\\ =\\ fib(n-1)\\ +\\ fib(n-2)$\n",
    "- This implies we need at least two numbers to begin with\n",
    "- So, $fib(0)\\ =\\ 0$ and $fib(1)\\ =\\ 1$"
   ]
  },
  {
   "cell_type": "code",
   "execution_count": null,
   "id": "1d4c4cce",
   "metadata": {},
   "outputs": [],
   "source": []
  }
 ],
 "metadata": {
  "kernelspec": {
   "display_name": "Python 3 (ipykernel)",
   "language": "python",
   "name": "python3"
  },
  "language_info": {
   "codemirror_mode": {
    "name": "ipython",
    "version": 3
   },
   "file_extension": ".py",
   "mimetype": "text/x-python",
   "name": "python",
   "nbconvert_exporter": "python",
   "pygments_lexer": "ipython3",
   "version": "3.9.12"
  }
 },
 "nbformat": 4,
 "nbformat_minor": 5
}
