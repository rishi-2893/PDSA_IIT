{
 "cells": [
  {
   "cell_type": "markdown",
   "id": "c7da235f",
   "metadata": {},
   "source": [
    "## Quick Sort\n",
    "- `l`: Start index\n",
    "- `r`: End of list, end is excluded\n",
    "    - `r` can be interpreted as length of list to be sorted"
   ]
  },
  {
   "cell_type": "code",
   "execution_count": 67,
   "id": "2673f4a3",
   "metadata": {},
   "outputs": [
    {
     "data": {
      "text/plain": [
       "[1, 2, 2, 3, 5, 5, 6, 7, 8, 8]"
      ]
     },
     "execution_count": 67,
     "metadata": {},
     "output_type": "execute_result"
    }
   ],
   "source": [
    "def quicksort(L, l, r): # sort L[l:r]\n",
    "    if (r - l <= 1):\n",
    "        return L\n",
    "    (pivot, lower, upper) = (L[l], l+1, l+1)\n",
    "    for i in range(l+1, r):\n",
    "        if(L[i] > pivot): # Extend the upper segment\n",
    "            upper += 1\n",
    "        else:\n",
    "            (L[i], L[lower]) = (L[lower], L[i])  # exchange with first element of upper\n",
    "            (lower, upper) = (lower +1, upper +1) # increment both\n",
    "    # Move pivot\n",
    "    (L[l], L[lower - 1]) = (L[lower -1 ], L[l])\n",
    "    lower -= 1\n",
    "    # Recursive calls\n",
    "    quicksort(L, l, lower)\n",
    "    quicksort(L, lower+1, r)\n",
    "    return (L)\n",
    "\n",
    "L = [5, 3, 2, 7, 8, 2,6, 1, 5, 8]\n",
    "quicksort(L, 0, len(L))\n",
    "L # Sorted in place"
   ]
  },
  {
   "attachments": {},
   "cell_type": "markdown",
   "id": "85067ca0",
   "metadata": {},
   "source": [
    "## Implementing Lists in Python\n",
    "---\n",
    "#### Creating Lists\n",
    "- `l1 = Node()`: empty list\n",
    "- `l2 = Node(5)`: singleton list\n",
    "- `l1.isempty() == True`\n",
    "---\n",
    "#### Appending to List: Recursive Approach\n",
    "- A list is empty when created as `Node()`\n",
    "    - You just need to update `self.value` with `v`\n",
    "- When appending to a node, end of the list\n",
    "    - Change `self.next` to a Node object\n",
    "- When appending to a node, middle of the list\n",
    "    - Recursively call the `append()` method of next Node object\n",
    "    - Stops when reaches last node\n",
    "```python\n",
    "def append(self, v):\n",
    "    if self.isempty():\n",
    "        # if empty, just update with the new value\n",
    "        self.value = v\n",
    "    elif self.next == None: \n",
    "        # If this is last node then append here \n",
    "        self.next = Node(v)\n",
    "    else: \n",
    "        # if this isn't the last node\n",
    "        self.next.append(v) \n",
    "        # recursively append, base case is the last node\n",
    "```\n",
    "---\n",
    "#### Appending to List: Iterative Approach\n",
    "```python\n",
    "    def append(self, v):\n",
    "        if self.isempty(): \n",
    "            self.value = v\n",
    "            return\n",
    "        \n",
    "        temp = self\n",
    "        while(temp.next != None):\n",
    "            # Stop the loop when temp is the last node\n",
    "            temp = temp.next\n",
    "        temp.next = Node(v)\n",
    "        # Assign temp.next to new Node object\n",
    "```\n",
    "---\n",
    "#### Insert at the Start\n",
    "- You want to insert `v` at the start <img src =\"./images/5.png\" width=470 height = 450 style=\"display:inline\">\n",
    "- Exchange the values of `v` and `v0` <img src =\"./images/6.png\" width=470 height = 450 style=\"display:inline\">\n",
    "- Make new node point to `head.next`. Make `head.next` point to new node <img src =\"./images/7.png\" width=470 height = 450 style=\"display:inline\">\n",
    "```python\n",
    "    def insert(self, v):\n",
    "        if self.isempty():\n",
    "            self.value = v\n",
    "            return\n",
    "        \n",
    "        newnode = Node(v)\n",
    "        # Exchange values\n",
    "        (self.value, newnode.value) = (newnode.value, self.value)\n",
    "        #Switch links\n",
    "        (self.next, newnode.next) = (newnode, self.next)\n",
    "        return\n",
    "```\n",
    "---\n",
    "#### Delete a Value `v`: Recursive Implementation\n",
    "- Remove the first occurance of `v`\n",
    "- Scan list for `v` recursively: Look ahead at the next node\n",
    "- If next node value is `v` bypass it\n",
    "- Cannot bypass the first node in the list\n",
    "    - Instead, copy the second value to head\n",
    "    - Bypass the second node\n",
    "```python\n",
    "    def delete(self, v):\n",
    "        if self.isempty():\n",
    "            # When the list is empty\n",
    "            return\n",
    "        if self.value == v:\n",
    "            self.value = None\n",
    "            if self.next != None: \n",
    "                self.value = self.next.value\n",
    "                self.next = self.next.next\n",
    "                return\n",
    "        else:\n",
    "            if self.next != None: # If you do not check this, on next line it will call None.delete() // Error\n",
    "                self.next.delete(v) # Move forward until reach a node with value `v`\n",
    "                if self.next.value == None:\n",
    "                    self.next = None\n",
    "        return\n",
    "```\n"
   ]
  },
  {
   "cell_type": "code",
   "execution_count": 8,
   "id": "9d41d62e",
   "metadata": {},
   "outputs": [],
   "source": [
    "class Node:\n",
    "    def __init__(self, v = None):\n",
    "        self.value = v\n",
    "        self.next = None\n",
    "        return\n",
    "    def isempty(self):\n",
    "        if self.value == None:\n",
    "            return True\n",
    "        else:\n",
    "            return False\n",
    "\n",
    "    def append(self, v):\n",
    "        # Recursive approach\n",
    "        if self.isempty(): \n",
    "            # if empty, just update with the new value\n",
    "            self.value = v\n",
    "        elif self.next == None: \n",
    "            # If this is last node then append here \n",
    "            self.next = Node(v)\n",
    "        else: \n",
    "            # if this isn't the last node\n",
    "            self.next.append(v) \n",
    "            # recursively append, base case is the last node\n",
    "            \n",
    "    def appendi(self, v):\n",
    "        # Iterative approach\n",
    "        if self.isempty(): \n",
    "            self.value = v\n",
    "            return\n",
    "        temp = self\n",
    "        while(temp.next != None):\n",
    "            temp = temp.next\n",
    "        temp.next = Node(v)\n",
    "        \n",
    "    def insert(self, v):\n",
    "        # Insert new node at the start\n",
    "        if self.isempty():\n",
    "            self.value = v\n",
    "            return \n",
    "        newnode = Node(v)\n",
    "        # Exchange values\n",
    "        (self.value, newnode.value) = (newnode.value, self.value)\n",
    "        # Switch links\n",
    "        (self.next, newnode.next) = (newnode, self.next)\n",
    "        return\n",
    "    \n",
    "    def delete(self, v):\n",
    "        if self.isempty():\n",
    "            # When the list is empty\n",
    "            return\n",
    "        if self.value == v:\n",
    "            self.value = None # as this is to be deleted, make value None to delete\n",
    "            if self.next != None: # If this is not the last node\n",
    "                # NOTE: previous node is still pointing to self\n",
    "                # You want to remove self, but removing it will lose following nodes\n",
    "                # SOLUTION: Make self point where next node is pointing\n",
    "                # Copy the value of next to self, logically now `v` is deleted\n",
    "                self.value = self.next.value # copy value\n",
    "                self.next = self.next.next # bypass second node\n",
    "                return\n",
    "        else:\n",
    "            if self.next != None:\n",
    "                self.next.delete(v) \n",
    "                # Move forward until reach a node with value `v`\n",
    "                # We call delete on the next node to traverse the list until `v` is found\n",
    "                if self.next.value == None:\n",
    "                    # This if is executed when the node deleted was the last node\n",
    "                    # This means that the nested if statement of the second if statement (above) was not called\n",
    "                    # Thus, we need to ensure this node does not point to deleted node\n",
    "                    # This is now the LAST node\n",
    "                    self.next = None\n",
    "        return"
   ]
  },
  {
   "cell_type": "markdown",
   "id": "36cc63e0",
   "metadata": {},
   "source": [
    "## Creating Matrix\n",
    "---\n",
    "#### Do not no this\n",
    "```python\n",
    "zerolist = [0, 0, 0]\n",
    "zeromatrix = [zerolist, zerolist, zerolist]\n",
    "zeromatrix[1][1] = 1 # This changes the zerolist, changes every row\n",
    "print(zeromatrix)\n",
    "# [[0, 1, 0], [0, 1, 0], [0, 1, 0]]\n",
    "```\n",
    "---\n",
    "#### Instead use list comprehension\n",
    "```python\n",
    "zeromatrix = [[0 for i in range(3)] for i in range(3)]\n",
    "zeromatrix[1][1] = 1\n",
    "print(zeromatrix)\n",
    "# [[0, 0, 0], [0, 1, 0], [0, 0, 0]]\n",
    "```"
   ]
  },
  {
   "cell_type": "markdown",
   "id": "0cf941f6",
   "metadata": {},
   "source": [
    "## Numpy Arrays\n",
    "- Using numpy arrays is **less efficient** than python lists on algorithms like\n",
    "    - Merge sort\n",
    "    - Insertion sort\n",
    "    - Naive search\n",
    "    - Quick sort\n",
    "    - and more\n",
    "- Using numpy arrays results in longer run time than python lists.\n",
    "---\n",
    "#### When to use Numpy Arrays?\n",
    "- Use numpy arrays When you are working on multi-dimensional lists\n",
    "    - like matrices\n",
    "    - provides methods to manipulate matrices easily\n",
    "    - Less efficient for searching and sorting algoritms *(except binary search)*\n",
    "---\n",
    "#### When to use Python Lists\n",
    "- Use these when you are simply working on 1D lists\n",
    "- More efficient than Numpy arrays when working with algorithms"
   ]
  },
  {
   "cell_type": "code",
   "execution_count": null,
   "id": "462c3065",
   "metadata": {
    "scrolled": true
   },
   "outputs": [],
   "source": [
    "import numpy as np\n",
    "\n",
    "# Creating zero matrix without list comprehension\n",
    "zeromatrix = np.zeros(shape=(3,3))\n",
    "print(\"Using np.zeros \\n\", zeromatrix, '\\n')\n",
    "\n",
    "# Converting normal list into an array\n",
    "identitymatrix = np.array([[1, 0], [0, 1]])\n",
    "print(\"Converting list to array object \\n\", identitymatrix, '\\n')\n",
    "\n",
    "# arange - is array range function, similar to range\n",
    "row2 = np.arange(3)\n",
    "print(\"Creating an array object using arange() \\n\", row2, '\\n')\n",
    "\n",
    "# Arithmetic operations possible on numpy arrays\n",
    "A = np.array([[3, 2],[5, 2]])\n",
    "B = np.array([[0, 1],[2, 2]])\n",
    "print(\"Adding two matrices \\n\", B + A, '\\n')"
   ]
  },
  {
   "cell_type": "markdown",
   "id": "3eb8b32e",
   "metadata": {},
   "source": [
    "## Experiments"
   ]
  },
  {
   "cell_type": "code",
   "execution_count": 46,
   "id": "bf8f3ad5",
   "metadata": {},
   "outputs": [
    {
     "name": "stdout",
     "output_type": "stream",
     "text": [
      "CPU times: total: 2.89 s\n",
      "Wall time: 3.28 s\n"
     ]
    }
   ],
   "source": [
    "%%time\n",
    "\"\"\"\n",
    "1. As a pointer at the end is maintined appending takes O(1)\n",
    "\"\"\"\n",
    "L =[]\n",
    "for i in range(10**7):\n",
    "    L.append(i)"
   ]
  },
  {
   "cell_type": "code",
   "execution_count": 45,
   "id": "f435bc6c",
   "metadata": {},
   "outputs": [
    {
     "name": "stdout",
     "output_type": "stream",
     "text": [
      "CPU times: total: 4.39 s\n",
      "Wall time: 4.63 s\n"
     ]
    }
   ],
   "source": [
    "%%time\n",
    "\"\"\"\n",
    "1. Inserting at the start takes O(n^2)\n",
    "2. This is because python lists are implemented as arrays\n",
    "\"\"\"\n",
    "L =[]\n",
    "for i in range(10**5):\n",
    "    L.insert(0, i)"
   ]
  },
  {
   "cell_type": "code",
   "execution_count": 44,
   "id": "8ae0b454",
   "metadata": {},
   "outputs": [
    {
     "name": "stdout",
     "output_type": "stream",
     "text": [
      "CPU times: total: 17.5 s\n",
      "Wall time: 18.2 s\n"
     ]
    }
   ],
   "source": [
    "%%time\n",
    "\"\"\"\n",
    "1. As it is O(n^2), appending twice must 4X the run time \n",
    "\"\"\"\n",
    "L =[]\n",
    "for i in range(2*10**5):\n",
    "    L.insert(0, i)"
   ]
  },
  {
   "cell_type": "markdown",
   "id": "35194516",
   "metadata": {},
   "source": [
    "## Playground"
   ]
  },
  {
   "cell_type": "code",
   "execution_count": null,
   "id": "0b7dab14",
   "metadata": {},
   "outputs": [],
   "source": []
  }
 ],
 "metadata": {
  "kernelspec": {
   "display_name": "Python 3 (ipykernel)",
   "language": "python",
   "name": "python3"
  },
  "language_info": {
   "codemirror_mode": {
    "name": "ipython",
    "version": 3
   },
   "file_extension": ".py",
   "mimetype": "text/x-python",
   "name": "python",
   "nbconvert_exporter": "python",
   "pygments_lexer": "ipython3",
   "version": "3.9.12"
  }
 },
 "nbformat": 4,
 "nbformat_minor": 5
}
