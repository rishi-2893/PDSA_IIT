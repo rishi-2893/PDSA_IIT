{
 "cells": [
  {
   "cell_type": "markdown",
   "id": "0b50706b",
   "metadata": {
    "heading_collapsed": true
   },
   "source": [
    "# Counting Inversions\n",
    "---\n",
    "### Algorithm\n",
    "- Count inversions while merging\n",
    "- Assume L and R are sorted\n",
    "- If we add $i_{m}$ from R to the output, $i_{m}$ is smaller than elements currently in L\n",
    "- $i_{m}$ is hence inverted with respect to elements currently in L\n",
    "- Add current size of L to inversion count"
   ]
  },
  {
   "cell_type": "code",
   "execution_count": 24,
   "id": "a434d0e8",
   "metadata": {
    "hidden": true
   },
   "outputs": [],
   "source": [
    "def mergeAndCount(A, B): # Assume A and B are sorted\n",
    "    (m, n) = (len(A), len(B))\n",
    "    # C: merged list\n",
    "    # i, j, k: pointers to A, B and C\n",
    "    # count: number of inversions\n",
    "    (C, i, j, k, count) = ([], 0, 0, 0, 0)\n",
    "    # Stop when A and B are merged\n",
    "    while k < m+n:\n",
    "        \n",
    "        # When A is exhuasted, append element from B will not contribute to inversion\n",
    "        # As B is already sorted appending from it alone results in no inversion\n",
    "        if i == m:\n",
    "            C.append(B[j])\n",
    "            (j, k) = (j+1, k+1)\n",
    "        \n",
    "        # When B is exhausted\n",
    "        elif j == n:\n",
    "            C.append(A[i])\n",
    "            (i, k) = (i+1, k+1)\n",
    "            \n",
    "        # When element of B is greater it will not contribute to inversion\n",
    "        # Values on the right (i.e B) should be bigger \n",
    "        # But is values on the left (i.e A) are bigger, cause inversion\n",
    "        elif A[i] < B[j]:\n",
    "            C.append(A[i])\n",
    "            (i, k) = (i+1, k+1)\n",
    "        \n",
    "        # When value from left (i.e A) is bigger...cause inversion\n",
    "        # (m-i): number of values left in A\n",
    "        # In other words, B[j] forms inversions with all values of A[i:]\n",
    "        else:\n",
    "            C.append(B[j])\n",
    "            (j,k,count) = (j+1,k+1,count+(m-i))\n",
    "        \n",
    "    return (C, count)"
   ]
  },
  {
   "cell_type": "code",
   "execution_count": 25,
   "id": "4a81d784",
   "metadata": {
    "hidden": true
   },
   "outputs": [
    {
     "name": "stdout",
     "output_type": "stream",
     "text": [
      "([1, 2, 3, 4], 0)\n",
      "([1, 2, 3, 4], 6)\n",
      "([1, 2, 3, 4], 4)\n"
     ]
    }
   ],
   "source": [
    "def sortAndCount(A): # Count number of inversions in the list A\n",
    "    n = len(A)\n",
    "    if n <= 1:\n",
    "        return (A, 0)\n",
    "    \n",
    "    # Divide the problem into sub problems\n",
    "    # countL: number of inversions in list L\n",
    "    (L, countL) = sortAndCount(A[:n//2])\n",
    "    (R, countR) = sortAndCount(A[n//2:])\n",
    "    \n",
    "    # Merge the sub problem solutions efficiently\n",
    "    # L and R are now sorted\n",
    "    (B, countB) = mergeAndCount(L, R)\n",
    "    \n",
    "    # A is now sorted list as B\n",
    "    # Return this count: inversions in L + inversions in R + inversions between L and R when merging it to B\n",
    "    return (B, countL+countR+countB)\n",
    "\n",
    "print(sortAndCount([1, 2, 3, 4]))\n",
    "print(sortAndCount([4, 3, 2, 1]))\n",
    "print(sortAndCount([4, 1, 3, 2]))"
   ]
  },
  {
   "cell_type": "markdown",
   "id": "859ce466",
   "metadata": {},
   "source": [
    "# Quick Select: Divide and Conquer\n",
    "- First half of the code is quick sort\n",
    "- Worst case Time Complexity is $O(n^2)$\n",
    "    - Occurs when the list is sorted in ascending or descending order"
   ]
  },
  {
   "cell_type": "code",
   "execution_count": 14,
   "id": "6d2367c7",
   "metadata": {},
   "outputs": [
    {
     "name": "stdout",
     "output_type": "stream",
     "text": [
      "1\n",
      "9\n"
     ]
    }
   ],
   "source": [
    "def quickselect(L, l, r, k): # Select k-th smallest in L[l:r]\n",
    "    if (k < 1) or (k > r-l):\n",
    "        return None\n",
    "    \n",
    "    # lower, upper are pointers, they are one step ahead from there boundaries\n",
    "    (pivot, lower, upper) = (L[l], l+1, l+1)\n",
    "    for i in range(l+1, r):\n",
    "        if L[i] > pivot: # Extend Upper segment\n",
    "            upper += 1\n",
    "        else: # Exchange L[i] with start of upper segment\n",
    "            (L[i], L[lower]) = (L[lower], L[i])\n",
    "            (lower, upper) = (lower+1, upper+1)\n",
    "    # Move the pivot\n",
    "    (L[l], L[lower-1]) = (L[lower-1], L[l])\n",
    "    lower -= 1\n",
    "    \n",
    "    # Recursive calls based on k\n",
    "    lowerlen = lower - l\n",
    "    \n",
    "    # Note: lowerlen is the index where lower part ends\n",
    "    # If we want k-th largest, and if k is less than lowerlen\n",
    "    # This implies k-th largest lies inside lower part, thus we only sort lower segment\n",
    "    if k <= lowerlen:\n",
    "        # We only sort till r = lower (lower not included)\n",
    "        # We still want k-th largest in this modified list\n",
    "        return quickselect(L, l, lower, k)\n",
    "    \n",
    "    # lowerlen + 1 = pivot\n",
    "    # lower = pivot\n",
    "    elif k == (lowerlen + 1):\n",
    "        return (L[lower])\n",
    "    \n",
    "    # lower + 1 = start of upper segment\n",
    "    # Earlier we wanted to find k-th largest in L\n",
    "    # Now list has narrowed down to upper segment\n",
    "    # Now if we try to find k-th largest on updated list, we may get OutOfIndex Error as new len(list) may be less than k\n",
    "    else:\n",
    "        return quickselect(L, lower+1, r, k-(lowerlen+1))\n",
    "    \n",
    "L = [8, 4, 2, 9, 10, 14, 1]\n",
    "print(quickselect(L, 0, len(L), 1)) # gives 1st smallest value\n",
    "print(quickselect(L, 0, len(L), 5)) # gives 5th smallest value"
   ]
  },
  {
   "attachments": {},
   "cell_type": "markdown",
   "id": "b2ef5823",
   "metadata": {},
   "source": [
    "# Median of Medians\n",
    "---\n",
    "### Proof: Why is this pivot good?\n",
    "**Lemma**: The median of medians will return a pivot element that is greater than and less than at least 30% of all elements in the whole list.\n",
    "\n",
    "**proof**:\n",
    "<img src=\"./images/14.png\">\n",
    "- Each vertical line is a block of 5 elements\n",
    "- Each vertical line has median, present inside the blue band\n",
    "- Each block is sorted in ascending order (to to bottom)\n",
    "- Consider `Mom()` resulted in the blue box as the median\n",
    "- So all the elements on the left of median (blue box) will be less and all elements on the right of it would be bigger\n",
    "- As each block is sorted, elements in red region are less than median (blue box)\n",
    "- And elements in greed region are greater than median\n",
    "- **so how many elements are less than and greater than median (blue box)?**\n",
    "- On doing math you will find that median block lies between $3len(L)/10$ and $7len(L)/10$\n",
    "<img src=\"./images/14.png\">"
   ]
  },
  {
   "cell_type": "code",
   "execution_count": 11,
   "id": "6a34b98e",
   "metadata": {
    "scrolled": true
   },
   "outputs": [
    {
     "data": {
      "text/plain": [
       "5"
      ]
     },
     "execution_count": 11,
     "metadata": {},
     "output_type": "execute_result"
    }
   ],
   "source": [
    "def MoM(L):\n",
    "    # Base case, return median of L\n",
    "    if len(L) <= 5:\n",
    "        L.sort()\n",
    "        # return approximate median\n",
    "        return (L[len(L)//2])\n",
    "    \n",
    "    # Construct list of block medians\n",
    "    M = []\n",
    "    \n",
    "    # Filling M with block medians\n",
    "    for i in range(0, len(L), 5):\n",
    "        X = L[i:i+5]\n",
    "        X.sort()\n",
    "        M.append(X[len(X)//2])\n",
    "    \n",
    "    return MoM(M)\n",
    "\n",
    "L = [5, 2, 9, 2, 6, 4] # [2, 2, 4, 5, 6, 9]\n",
    "MoM(L)"
   ]
  },
  {
   "cell_type": "markdown",
   "id": "a5227892",
   "metadata": {},
   "source": [
    "# Fast Select\n",
    "- Use median of block medians to locate pivot for `quickselect()`\n",
    "    - We can name this `fastselect()`\n",
    "---\n",
    "### Time Complexity\n",
    "---\n",
    "#### MoM is $O(n)$\n",
    "- $T(1)\\ =\\ 1$\n",
    "- $T(n)\\ =\\ T(n/5)\\ +\\ n$\n",
    "- By master theorem we get $T(n)\\ =\\ O(n)$\n",
    "    - Each term is decreasing\n",
    "    - Root dominates the sum\n",
    "---    \n",
    "#### `fastselect` Recurrence\n",
    "- $T(1)\\ =\\ 1$\n",
    "- $T(n)\\ =\\ max(T(3m\\ /\\ 10),\\ T(7m\\ /\\ 10))\\ +\\ n$\n",
    "    - Where `m = len(lower)`\n",
    "- $T(n)$ is $O(n)$\n",
    "    - Found using master theorem\n",
    "    - Each term is decreasing\n",
    "    - Root dominates the sum\n",
    "---\n",
    "#### `quicksort`\n",
    "- Using `MoM` you can make quicksort $O(n\\ logn)$ even in the worst case"
   ]
  },
  {
   "cell_type": "code",
   "execution_count": 17,
   "id": "e6ac8f3d",
   "metadata": {},
   "outputs": [
    {
     "name": "stdout",
     "output_type": "stream",
     "text": [
      "1\n",
      "9\n"
     ]
    }
   ],
   "source": [
    "def quickselect(L, l, r, k): # Select k-th smallest in L[l:r]\n",
    "    if (k < 1) or (k > r-l):\n",
    "        return None\n",
    "    \n",
    "    # Find MoM pivot and move to L[l] to ensure rest of code remains same as QuickSelect\n",
    "    # Choosing MoM pivot ensures better partitioning\n",
    "    pivot = MoM(L[l:r])\n",
    "    # Now we need to find where MoM pivot is located in the array\n",
    "    # Get position of the first MoM pivot (as there could be duplicates)\n",
    "    pivotpos = min([i for i in range(l, r) if L[i]==pivot])\n",
    "    # Swap both to ensure rest works the same as quickselect\n",
    "    (L[l], L[pivotpos]) = (L[pivotpos], L[l])\n",
    "    \n",
    "    (pivot, lower, upper) = (L[l], l+1, l+1)\n",
    "    for i in range(l+1, r):\n",
    "        if L[i] > pivot:\n",
    "            upper += 1\n",
    "        else:\n",
    "            (L[i], L[lower]) = (L[lower], L[i])\n",
    "            (lower, upper) = (lower+1, upper+1)\n",
    "    (L[l], L[lower-1]) = (L[lower-1], L[l])\n",
    "    lower -= 1\n",
    "    lowerlen = lower - l\n",
    "    if k <= lowerlen:\n",
    "        return quickselect(L, l, lower, k)\n",
    "    elif k == (lowerlen + 1):\n",
    "        return (L[lower])\n",
    "    else:\n",
    "        return quickselect(L, lower+1, r, k-(lowerlen+1))\n",
    "    \n",
    "L = [8, 4, 2, 9, 10, 14, 1]\n",
    "print(quickselect(L, 0, len(L), 1)) # gives 1st smallest value\n",
    "print(quickselect(L, 0, len(L), 5)) # gives 5th smallest value"
   ]
  },
  {
   "cell_type": "markdown",
   "id": "574f39e8",
   "metadata": {},
   "source": [
    "# Experiments"
   ]
  },
  {
   "cell_type": "code",
   "execution_count": 27,
   "id": "61126d43",
   "metadata": {
    "scrolled": true
   },
   "outputs": [
    {
     "name": "stdout",
     "output_type": "stream",
     "text": [
      "30% ends here 308\n",
      "True median 498\n",
      "70% starts here 690\n",
      "Approximate median by MoM 480\n"
     ]
    }
   ],
   "source": [
    "# PROVING THAT MoM ALWAYS GIVES A MEDIAN IN THE 30%-70% RANGE\n",
    "from random import *\n",
    "A = [randrange(1000) for i in range(200)]\n",
    "B = sorted(A)\n",
    "\n",
    "# Finding ranges and median from the sorted list: B\n",
    "print(\"30% ends here\", B[3*len(B)//10])\n",
    "print(\"True median\", B[len(B)//2])\n",
    "print(\"70% starts here\", B[7*len(B)//10])\n",
    "\n",
    "# MoM will always give a median between 30% and 70% range\n",
    "print(\"Approximate median by MoM\", MoM(A))"
   ]
  },
  {
   "cell_type": "code",
   "execution_count": 26,
   "id": "478729f7",
   "metadata": {
    "scrolled": true
   },
   "outputs": [
    {
     "name": "stdout",
     "output_type": "stream",
     "text": [
      "None\n",
      "1\n",
      "1\n",
      "2\n",
      "4\n",
      "4\n",
      "4\n",
      "4\n",
      "4\n",
      "5\n",
      "6\n",
      "9\n",
      "10\n",
      "10\n",
      "11\n",
      "13\n",
      "14\n",
      "16\n",
      "18\n",
      "18\n",
      "18\n",
      "18\n",
      "19\n",
      "20\n",
      "20\n",
      "21\n",
      "21\n",
      "21\n",
      "21\n",
      "22\n",
      "23\n",
      "23\n",
      "25\n",
      "26\n",
      "26\n",
      "26\n",
      "27\n",
      "28\n",
      "29\n",
      "29\n",
      "30\n",
      "31\n",
      "31\n",
      "32\n",
      "34\n",
      "34\n",
      "36\n",
      "37\n",
      "40\n",
      "40\n",
      "41\n",
      "42\n",
      "43\n",
      "44\n",
      "45\n",
      "45\n",
      "46\n",
      "46\n",
      "49\n",
      "49\n",
      "49\n",
      "51\n",
      "53\n",
      "53\n",
      "54\n",
      "58\n",
      "60\n",
      "62\n",
      "62\n",
      "63\n",
      "64\n",
      "65\n",
      "65\n",
      "66\n",
      "67\n",
      "68\n",
      "69\n",
      "71\n",
      "72\n",
      "72\n",
      "72\n",
      "76\n",
      "77\n",
      "78\n",
      "80\n",
      "82\n",
      "83\n",
      "84\n",
      "85\n",
      "90\n",
      "90\n",
      "90\n",
      "92\n",
      "92\n",
      "93\n",
      "94\n",
      "96\n",
      "97\n",
      "98\n",
      "98\n",
      "99\n",
      "None\n"
     ]
    }
   ],
   "source": [
    "# RUNNING QUICKSELECT - IMPLICITLY SORTING IN ASCENDING ORDER\n",
    "C = [randrange(100) for i in range(100)]\n",
    "for i in range(len(C)+2):\n",
    "    print(quickselect(C, 0, len(C), i))"
   ]
  }
 ],
 "metadata": {
  "kernelspec": {
   "display_name": "Python 3 (ipykernel)",
   "language": "python",
   "name": "python3"
  },
  "language_info": {
   "codemirror_mode": {
    "name": "ipython",
    "version": 3
   },
   "file_extension": ".py",
   "mimetype": "text/x-python",
   "name": "python",
   "nbconvert_exporter": "python",
   "pygments_lexer": "ipython3",
   "version": "3.9.12"
  }
 },
 "nbformat": 4,
 "nbformat_minor": 5
}
