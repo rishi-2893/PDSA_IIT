{
 "cells": [
  {
   "cell_type": "code",
   "execution_count": 315,
   "id": "a3a61dc5",
   "metadata": {
    "ExecuteTime": {
     "end_time": "2023-09-20T09:30:04.909749Z",
     "start_time": "2023-09-20T09:30:04.893370Z"
    }
   },
   "outputs": [],
   "source": [
    "def mergeCount(A, B):\n",
    "    (n, m, C) = (len(A), len(B), [])\n",
    "    (i, j, k) = (0, 0, 0)\n",
    "    count = 0\n",
    "    while(k  < m + n):\n",
    "        if i == n:\n",
    "            C.append(B[j])\n",
    "            (j, k) = (j+1, k+1)\n",
    "        elif j == m :\n",
    "            C.append(A[i])\n",
    "            (i, k) = (i+1, k+1)\n",
    "        elif A[i] > B[j]:\n",
    "            C.append(B[j])\n",
    "            (j, k) = (j+1, k+1)\n",
    "            count += n - i\n",
    "        else:\n",
    "            C.append(A[i])\n",
    "            (i, k) = (i+1, k+1)\n",
    "    return (C, count)\n",
    "\n",
    "def sortCount(A):\n",
    "    n = len(A)\n",
    "    if n <= 1:\n",
    "        return (A, 0)\n",
    "    mid = n//2\n",
    "    (L, countL) = sortCount(A[:mid])\n",
    "    (R, countR) = sortCount(A[mid:])\n",
    "    (B, countB) = mergeCount(L, R)\n",
    "    \n",
    "    return (B,countL + countB + countR)\n",
    "\n",
    "print(sortCount([1, 2, 3, 4]))\n",
    "print(sortCount([4, 3, 2, 1]))\n",
    "print(sortCount([4, 1, 3, 2]))"
   ]
  },
  {
   "cell_type": "code",
   "execution_count": 330,
   "id": "6282b773",
   "metadata": {
    "ExecuteTime": {
     "end_time": "2023-09-20T10:29:27.253431Z",
     "start_time": "2023-09-20T10:29:27.242900Z"
    }
   },
   "outputs": [],
   "source": [
    "def quickselect(L, l, r, k):\n",
    "    if k < 1 or k > r-l:\n",
    "        return None\n",
    "    (pivot, lower, upper) = (L[l], l+1, l+1)\n",
    "    for i in range(l+1, r):\n",
    "        if L[i] > pivot:\n",
    "            upper += 1\n",
    "        else:\n",
    "            (L[i], L[lower]) = (L[lower], L[i])\n",
    "            (lower, upper) = (lower+1, upper+1)\n",
    "    (L[lower-1], L[l]) = (L[l], L[lower-1])\n",
    "    lower -= 1\n",
    "    \n",
    "    lowerlen = lower - l\n",
    "    if k <= lowerlen:\n",
    "        return quickselect(L, l, lower, k)\n",
    "    elif k == lowerlen + 1:\n",
    "        return L[lower]\n",
    "    else:\n",
    "        return quickselect(L, lower+1, r, k-(lowerlen + 1))"
   ]
  },
  {
   "cell_type": "code",
   "execution_count": 336,
   "id": "2662a353",
   "metadata": {
    "ExecuteTime": {
     "end_time": "2023-09-20T11:15:08.244183Z",
     "start_time": "2023-09-20T11:15:08.233336Z"
    }
   },
   "outputs": [],
   "source": [
    "def MoM(L):\n",
    "    if len(L) <= 5:\n",
    "        L.sort()\n",
    "        return L[len(L)//2]\n",
    "    M = []\n",
    "    for i in range(0,len(L), 5):\n",
    "        X = L[i:i+5]\n",
    "        X.sort()\n",
    "        M.append(X[len(X)//2])\n",
    "    return MoM(M)"
   ]
  },
  {
   "cell_type": "code",
   "execution_count": null,
   "id": "d7b919d2",
   "metadata": {},
   "outputs": [],
   "source": []
  }
 ],
 "metadata": {
  "kernelspec": {
   "display_name": "Python 3 (ipykernel)",
   "language": "python",
   "name": "python3"
  },
  "language_info": {
   "codemirror_mode": {
    "name": "ipython",
    "version": 3
   },
   "file_extension": ".py",
   "mimetype": "text/x-python",
   "name": "python",
   "nbconvert_exporter": "python",
   "pygments_lexer": "ipython3",
   "version": "3.9.12"
  }
 },
 "nbformat": 4,
 "nbformat_minor": 5
}
