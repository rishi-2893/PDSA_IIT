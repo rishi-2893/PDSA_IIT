{
 "cells": [
  {
   "cell_type": "code",
   "execution_count": 19,
   "id": "24f24210",
   "metadata": {},
   "outputs": [
    {
     "name": "stdout",
     "output_type": "stream",
     "text": [
      "3\n"
     ]
    }
   ],
   "source": [
    "# Prefix code\n",
    "def BFSListPathLevel(AList, v):\n",
    "    level, parent = {}, {}\n",
    "    for i in AList.keys():\n",
    "        level[i] = -1\n",
    "        parent[i] = -1\n",
    "    q = []\n",
    "\n",
    "    level[v] = 0\n",
    "    q.append(v)\n",
    "\n",
    "    while len(q) > 0:\n",
    "        j = q.pop(0)\n",
    "        for k in AList[j]:\n",
    "            if level[k] == -1:\n",
    "                level[k] = level[j]+1\n",
    "                parent[k] = j\n",
    "                q.append(k)\n",
    "    return level, parent\n",
    "# Write Solution code below\n",
    "def minimumhops(AL, start, end):\n",
    "    level, parent = BFSListPathLevel(AL, start)\n",
    "    if parent[end] == -1:\n",
    "        return [start]\n",
    "    curr_node = end\n",
    "    path = []\n",
    "    while(parent[curr_node] != start):\n",
    "        path.append(curr_node)\n",
    "        curr_node = parent[curr_node]\n",
    "    return path\n",
    "# Suffix code\n",
    "start = 8\n",
    "end = 7\n",
    "AList = {0: [8], 8: [0, 9], 1: [3, 5, 8], 3: [1, 7, 2], 5: [4], 2: [8, 9], 9: [1], 7: [8], 4: [2, 6], 6: [9]}\n",
    "shortestpath = minimumhops(AList, start, end)\n",
    "print(len(shortestpath))"
   ]
  }
 ],
 "metadata": {
  "kernelspec": {
   "display_name": "Python 3 (ipykernel)",
   "language": "python",
   "name": "python3"
  },
  "language_info": {
   "codemirror_mode": {
    "name": "ipython",
    "version": 3
   },
   "file_extension": ".py",
   "mimetype": "text/x-python",
   "name": "python",
   "nbconvert_exporter": "python",
   "pygments_lexer": "ipython3",
   "version": "3.12.2"
  }
 },
 "nbformat": 4,
 "nbformat_minor": 5
}
