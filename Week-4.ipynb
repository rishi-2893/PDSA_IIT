{
 "cells": [
  {
   "cell_type": "markdown",
   "id": "6c980075",
   "metadata": {},
   "source": [
    "## Adjacency Matrix and Lists"
   ]
  },
  {
   "cell_type": "code",
   "execution_count": 46,
   "id": "278f941e",
   "metadata": {},
   "outputs": [
    {
     "name": "stdout",
     "output_type": "stream",
     "text": [
      "Adjacency matrix for directed graph\n",
      " [[0. 1. 1. 0.]\n",
      " [0. 0. 1. 0.]\n",
      " [0. 0. 0. 0.]\n",
      " [0. 0. 1. 0.]] \n",
      "\n",
      "Adjacency matrix for un-directed graph\n",
      " [[0. 1. 1. 0.]\n",
      " [1. 0. 1. 0.]\n",
      " [1. 1. 0. 1.]\n",
      " [0. 0. 1. 0.]] \n",
      "\n",
      "Neighbours of vertex 0 are\n",
      " [1, 2] \n",
      "\n",
      "Adjacency list for the undirected graph\n",
      " {0: [1, 2], 1: [2], 2: [], 3: [2]} \n",
      "\n"
     ]
    }
   ],
   "source": [
    "# V = {0, 1, 2, 3}\n",
    "edges = [(0, 1), (0, 2), (1, 2), (3, 2)]\n",
    "\n",
    "import numpy as np\n",
    "\n",
    "# DIRECTED GRPAH - Adjacency matrix\n",
    "A_d = np.zeros(shape = (len(edges), len(edges)))\n",
    "for (i, j) in edges:\n",
    "    A_d[i, j] = 1 # If i->j then change value to 1 in the matrix\n",
    "print(\"Adjacency matrix for directed graph\\n\",A_d,'\\n')\n",
    "\n",
    "\n",
    "# UNDIRECTED GRPAH - Adjacency matrix\n",
    "A_ud = np.zeros(shape = (len(edges), len(edges)))\n",
    "for (i, j) in edges:\n",
    "    A_ud[i, j] = 1\n",
    "    A_ud[j, i] = 1\n",
    "print(\"Adjacency matrix for un-directed graph\\n\",A_ud,'\\n')\n",
    "\n",
    "\n",
    "# COMPUTING NEIGHBOURS\n",
    "def neighbours(AMat, i): # returns list of neighbours of i\n",
    "    nbrs = []\n",
    "    (rows, cols) = AMat.shape # numpy attribute\n",
    "    for j in range(cols):\n",
    "        if AMat[i, j] == 1:\n",
    "            nbrs.append(j)\n",
    "    return nbrs\n",
    "print(f\"Neighbours of vertex 0 are\\n\", neighbours(A_d, 0), '\\n' )\n",
    "\n",
    "\n",
    "# ADJECENCY LISTS\n",
    "AList = {}\n",
    "(rows, cols) = A_d.shape\n",
    "for i in range(rows):\n",
    "    AList[i] = []\n",
    "for (i, j) in edges:\n",
    "    AList[i].append(j)\n",
    "print(\"Adjacency list for the undirected graph\\n\", AList,'\\n')"
   ]
  },
  {
   "cell_type": "markdown",
   "id": "d8796c77",
   "metadata": {},
   "source": [
    "## Queue\n",
    "- First in First Out data structure"
   ]
  },
  {
   "cell_type": "code",
   "execution_count": 15,
   "id": "de3134a2",
   "metadata": {},
   "outputs": [
    {
     "name": "stdout",
     "output_type": "stream",
     "text": [
      "append:  [0]\n",
      "append:  [0, 1]\n",
      "append:  [0, 1, 2]\n",
      "delete:  [1, 2]\n",
      "delete:  [2]\n",
      "delete:  []\n"
     ]
    }
   ],
   "source": [
    "class Queue:\n",
    "    def __init__(self):\n",
    "        self.queue = [] # underlying structure is a list\n",
    "    def addq(self, v):\n",
    "        self.queue.append(v) # append at the end\n",
    "    def deleteq(self):\n",
    "        v = None\n",
    "        if not self.isempty():\n",
    "            v = self.queue[0]\n",
    "            self.queue = self.queue[1:] # slice the list, ignoring 0th element\n",
    "        return v\n",
    "    def isempty(self):\n",
    "        return (self.queue == [])\n",
    "    def __str__(self):\n",
    "        return str(self.queue) # return the list (helps to print the queue)\n",
    "    \n",
    "queue = Queue()\n",
    "for i in range(3):\n",
    "    queue.addq(i)\n",
    "    print(\"append: \", queue)\n",
    "for i in range(3):\n",
    "    queue.deleteq()\n",
    "    print(\"delete: \",queue)"
   ]
  },
  {
   "cell_type": "markdown",
   "id": "031fd726",
   "metadata": {},
   "source": [
    "## BFS: Adjacency Matrix"
   ]
  },
  {
   "cell_type": "code",
   "execution_count": 16,
   "id": "5a46e498",
   "metadata": {},
   "outputs": [
    {
     "data": {
      "text/plain": [
       "{0: True, 1: True, 2: True, 3: False}"
      ]
     },
     "execution_count": 16,
     "metadata": {},
     "output_type": "execute_result"
    }
   ],
   "source": [
    "def BFS(AMat, v): # v is starting vertex, we want to check reachability of v\n",
    "    (rows, cols) = AMat.shape\n",
    "    visited = {} # key: vertex, value: true if it is reachable from v\n",
    "    for i in range(rows):\n",
    "        visited[i] = False # initializing each vertex to \"not-visited\"\n",
    "    q = Queue()\n",
    "    visited[v] = True # setting True for v\n",
    "    q.addq(v) # v is to be explored first\n",
    "    while(not q.isempty()): # while queue is not empty, keep exploring\n",
    "        j = q.deleteq() # return the head of queue, now j is the index to be explored\n",
    "        for k in neighbours(AMat, j): # visiting neighbours of j\n",
    "            if (not visited[k]): # used to avoid adding visited index again in the queue\n",
    "                visited[k] = True\n",
    "                q.addq(k)\n",
    "    return(visited) # all indexes which are set to True are reachable from vertex v\n",
    "\n",
    "BFS(A_d, 0)"
   ]
  },
  {
   "cell_type": "markdown",
   "id": "88778ae8",
   "metadata": {},
   "source": [
    "## BFS: Adjacency List"
   ]
  },
  {
   "cell_type": "code",
   "execution_count": 17,
   "id": "abce6e2d",
   "metadata": {},
   "outputs": [
    {
     "data": {
      "text/plain": [
       "{0: True, 1: True, 2: True, 3: False}"
      ]
     },
     "execution_count": 17,
     "metadata": {},
     "output_type": "execute_result"
    }
   ],
   "source": [
    "def BFSList(AList, v): # AList is a dictionary (check above)\n",
    "    visited = {}\n",
    "    for i in AList.keys(): # list of indexes\n",
    "        visited[i] = False\n",
    "    q = Queue()\n",
    "    visited[v] = True\n",
    "    q.addq(v)\n",
    "    while(not q.isempty()):\n",
    "        j = q.deleteq()\n",
    "        for k in AList[j]: \n",
    "            if (not visited[k]): \n",
    "                visited[k] = True\n",
    "                q.addq(k)\n",
    "    return(visited) \n",
    "\n",
    "BFSList(AList, 0)"
   ]
  },
  {
   "cell_type": "markdown",
   "id": "3484dba4",
   "metadata": {},
   "source": [
    "## Enhancing BFS to Record Paths"
   ]
  },
  {
   "cell_type": "code",
   "execution_count": 18,
   "id": "a7a67c44",
   "metadata": {},
   "outputs": [
    {
     "data": {
      "text/plain": [
       "({0: True, 1: True, 2: True, 3: False}, {0: -1, 1: 0, 2: 0, 3: -1})"
      ]
     },
     "execution_count": 18,
     "metadata": {},
     "output_type": "execute_result"
    }
   ],
   "source": [
    "def BFSListPath(AList, v):\n",
    "    (visited, parent) = ({},{})\n",
    "    for i in AList.keys():\n",
    "        visited[i] = False\n",
    "        parent[i] = -1\n",
    "    visited[v] = True # Parent of v is always -1\n",
    "    q = Queue()\n",
    "    q.addq(v) \n",
    "    while(not q.isempty()):\n",
    "        j = q.deleteq()\n",
    "        for k in AList[j]:\n",
    "            if(not visited[k]):\n",
    "                visited[k] = True\n",
    "                parent[k] = j\n",
    "                q.addq(k)\n",
    "    return(visited, parent)\n",
    "\n",
    "BFSListPath(AList, 0)"
   ]
  },
  {
   "cell_type": "markdown",
   "id": "62ed6a15",
   "metadata": {},
   "source": [
    "## Enhancing BFS to Record Distance"
   ]
  },
  {
   "cell_type": "code",
   "execution_count": 19,
   "id": "523760b2",
   "metadata": {},
   "outputs": [
    {
     "data": {
      "text/plain": [
       "({0: 0, 1: 1, 2: 1, 3: -1}, {0: -1, 1: 0, 2: 0, 3: -1})"
      ]
     },
     "execution_count": 19,
     "metadata": {},
     "output_type": "execute_result"
    }
   ],
   "source": [
    "def BFSListPathLevel(AList, v):\n",
    "    (level, parent) = ({},{})\n",
    "    for i in AList.keys():\n",
    "        level[i] = -1 # level is -1 => it is not visited\n",
    "        parent[i] = -1\n",
    "    level[v] = 0 # set level of v to be zero\n",
    "    q = Queue()\n",
    "    q.addq(v)\n",
    "    while(not q.isempty()):\n",
    "        j = q.deleteq()\n",
    "        for k in AList[j]:\n",
    "            if (level[k] == -1): # if not visited\n",
    "                level[k] = level[j] + 1 # child level = parent level + 1\n",
    "                parent[k] = j\n",
    "                q.addq(k)\n",
    "    return(level, parent)\n",
    "\n",
    "BFSListPathLevel(AList, 0)"
   ]
  },
  {
   "cell_type": "markdown",
   "id": "80a5b14f",
   "metadata": {},
   "source": [
    "## DFS\n",
    "- You need to create two functions\n",
    "    - Initialization function, which intializes `visited` and `parent` according to size of input matrix/list\n",
    "    - DFS function, which performs the DFS\n",
    "- If you initialize `visited` and `parent` inside DFS then it would *re-initialize* values to `False` and `-1` on every recursive call"
   ]
  },
  {
   "cell_type": "code",
   "execution_count": 20,
   "id": "a7bfa50c",
   "metadata": {},
   "outputs": [
    {
     "data": {
      "text/plain": [
       "({0: True, 1: True, 2: True, 3: False}, {0: -1, 1: 0, 2: 1, 3: -1})"
      ]
     },
     "execution_count": 20,
     "metadata": {},
     "output_type": "execute_result"
    }
   ],
   "source": [
    "def DFSInit(AMat): # initialize visited and parent according to size of AMat\n",
    "    (visited, parent) = ({}, {})\n",
    "    (rows, cols) = AMat.shape\n",
    "    for i in range(rows):\n",
    "        visited[i] = False\n",
    "        parent[i] = -1\n",
    "    return (visited, parent)\n",
    "\n",
    "def DFS(AMat, visited, parent, v):\n",
    "    visited[v] = True\n",
    "    for k in neighbours(AMat, v): # loop through the list of neighbours\n",
    "        if (not visited[k]):\n",
    "            parent[k] = v\n",
    "            (visited, parent) = DFS(AMat,visited, parent, k) # suspend exploring v, explore k instead\n",
    "    return (visited, parent) # returning these so that next call gets an updated visited, parent dictionary\n",
    "\n",
    "(visited, parent) = DFSInit(A_d)\n",
    "DFS(A_d, visited, parent, 0)"
   ]
  },
  {
   "cell_type": "markdown",
   "id": "9295fbdf",
   "metadata": {},
   "source": [
    "## DFS: Global Implementation\n",
    "- We will keep `visited` and `parent` in global scope\n",
    "- This makes it easier to handle these dictionaries"
   ]
  },
  {
   "cell_type": "code",
   "execution_count": 21,
   "id": "89ebe7e1",
   "metadata": {},
   "outputs": [
    {
     "data": {
      "text/plain": [
       "({0: True, 1: True, 2: True, 3: False}, {0: -1, 1: 0, 2: 1, 3: -1})"
      ]
     },
     "execution_count": 21,
     "metadata": {},
     "output_type": "execute_result"
    }
   ],
   "source": [
    "(visited, parent) = ({},{}) # intializing globally\n",
    "\n",
    "def DFSInitGlobal(AMat):\n",
    "    (rows, cols) = AMat.shape\n",
    "    for i in range(rows):\n",
    "        visited[i] = False\n",
    "        parent[i] = -1\n",
    "    return\n",
    "\n",
    "def DFSGlobal(AMat, v):\n",
    "    visited[v] = True\n",
    "    for k in neighbours(AMat, v):\n",
    "        if(not visited[k]):\n",
    "            # visited[k] = True You do not need this! Think why...\n",
    "            parent[k]  = v\n",
    "            DFSGlobal(AMat, k)\n",
    "    return # no need to return anything, both dicts are updated (as passed by reference)\n",
    "\n",
    "DFSInitGlobal(A_d)\n",
    "DFSGlobal(A_d, 0)\n",
    "(visited, parent)"
   ]
  },
  {
   "cell_type": "markdown",
   "id": "2e904c66",
   "metadata": {},
   "source": [
    "## DFS: Adjacency List"
   ]
  },
  {
   "cell_type": "code",
   "execution_count": 22,
   "id": "a8ee5a62",
   "metadata": {},
   "outputs": [
    {
     "data": {
      "text/plain": [
       "({0: True, 1: True, 2: True, 3: False}, {0: -1, 1: 0, 2: 1, 3: -1})"
      ]
     },
     "execution_count": 22,
     "metadata": {},
     "output_type": "execute_result"
    }
   ],
   "source": [
    "(visited, parent) = ({}, {})\n",
    "\n",
    "def DFSInitListGlobal(AList):\n",
    "    for i in AList.keys():\n",
    "        visited[i] = False\n",
    "        parent[i] = -1\n",
    "    return\n",
    "\n",
    "def DFSListGlobal(AList, v):\n",
    "    visited[v] = True\n",
    "    for k in AList[v]:\n",
    "        if (not visited[k]):\n",
    "            parent[k] = v\n",
    "            DFSListGlobal(AList, k) # suspend exploring v, explore k now\n",
    "    return\n",
    "\n",
    "DFSInitListGlobal(AList)\n",
    "DFSListGlobal(AList, 0)\n",
    "(visited, parent)"
   ]
  },
  {
   "cell_type": "markdown",
   "id": "b5b74392",
   "metadata": {},
   "source": [
    "## Identifying Connected Components"
   ]
  },
  {
   "cell_type": "code",
   "execution_count": 79,
   "id": "007ae3a8",
   "metadata": {},
   "outputs": [
    {
     "data": {
      "text/plain": [
       "{0: 0, 1: 1, 2: 0, 3: 0, 4: 2}"
      ]
     },
     "execution_count": 79,
     "metadata": {},
     "output_type": "execute_result"
    }
   ],
   "source": [
    "def Components(AList):\n",
    "    component = {} # key = node, value = component number\n",
    "    for i in AList.keys():\n",
    "        component[i] = -1 # initially each vertex belongs to component no. -1\n",
    "    (compid, seen) = (0, 0) # seen = total number of nodes visited, helps to stop loop\n",
    "    while seen <= max(AList.keys()): # Equivalent to seen < len(AList.keys())\n",
    "        startv = min([i for i in AList.keys() if component[i]==-1]) # start by taking the minimum vertex which is not visited        \n",
    "        visited = BFSList(AList, startv) # this gives all reachable vertex from startv, which belong to one component\n",
    "        for i in visited.keys():\n",
    "            if visited[i]: # if we can reach i from startv => belongs to this component\n",
    "                seen += 1\n",
    "                component[i] = compid\n",
    "        compid += 1 # increment to denote the next component\n",
    "    return component\n",
    "\n",
    "\n",
    "AList ={0: [2],1: [],2: [0, 3],3: [2],4:[]}\n",
    "Components(AList)"
   ]
  },
  {
   "cell_type": "markdown",
   "id": "25928a03",
   "metadata": {},
   "source": [
    "## DFS: Detecting Cycle"
   ]
  },
  {
   "cell_type": "code",
   "execution_count": 68,
   "id": "feab1fcd",
   "metadata": {
    "scrolled": true
   },
   "outputs": [
    {
     "name": "stdout",
     "output_type": "stream",
     "text": [
      "Visited:  {0: True, 1: True, 2: True, 3: False}\n",
      "Pre:  {0: 0, 1: 1, 2: 2, 3: -1}\n",
      "Post:  {0: 5, 1: 4, 2: 3, 3: -1}\n"
     ]
    }
   ],
   "source": [
    "(visited, pre, post) = ({}, {}, {})\n",
    "\n",
    "def DFSInitPrePost(AList):\n",
    "    for i in AList.keys():\n",
    "        visited[i] = False\n",
    "        (pre[i], post[i]) = (-1, -1) # -ve pre => not visited, -ve post => still exploring, not finished\n",
    "\n",
    "def DFSPrePost(AList, v, count=0): # count increments by one every time a new node is visited or finished exploring\n",
    "    visited[v] = True\n",
    "    pre[v] = count\n",
    "    count += 1\n",
    "    for k in AList[v]:\n",
    "        if (not visited[k]):\n",
    "            count = DFSPrePost(AList, k, count)\n",
    "    post[v] = count\n",
    "    count += 1\n",
    "    return count # return count to keep track of the number accross recursive calls\n",
    "\n",
    "AList = {0: [1, 2], 1: [0, 2], 2: [1, 2], 3: []}\n",
    "DFSInitPrePost(AList)\n",
    "DFSPrePost(AList, 0)\n",
    "print(\"Visited: \", visited)\n",
    "print(\"Pre: \", pre)\n",
    "print(\"Post: \", post)"
   ]
  },
  {
   "cell_type": "markdown",
   "id": "e0fb475f",
   "metadata": {},
   "source": [
    "## Topological Sort: Adjacency Matrix\n",
    "- Compute indegrees by scanning columns of adjacency matrix\n",
    "- List a vertex with indegree 0 and remove it from the DAG\n",
    "- Update indegrees\n",
    "- Repeat till all vertices are listed\n",
    "- Time complxity: $O(n^2)$"
   ]
  },
  {
   "cell_type": "code",
   "execution_count": 69,
   "id": "d188b49b",
   "metadata": {
    "scrolled": true
   },
   "outputs": [
    {
     "data": {
      "text/plain": [
       "[0, 1, 3, 2]"
      ]
     },
     "execution_count": 69,
     "metadata": {},
     "output_type": "execute_result"
    }
   ],
   "source": [
    "def toposort(AMat):\n",
    "    (rows, cols) = AMat.shape\n",
    "    indegree = {} # keep track of indegrees of nodes\n",
    "    toposortlist = [] # sorted sequence according to dependencies\n",
    "    for c in range(cols): # computing indegrees of each node (runs n times)\n",
    "        indegree[c] = 0\n",
    "        for r in range(rows): # runs n times\n",
    "            if AMat[r, c] == 1: # if r -> c, increment indegree of c\n",
    "                indegree[c] += 1\n",
    "    for i in range(rows): # runs n times (loop to enumerate vertices)\n",
    "        j = min([k for k in range(cols) if indegree[k]==0]) # give the minimum node having no dependency (runs n times)\n",
    "        toposortlist.append(j)\n",
    "        indegree[j] -= 1 # make indegree -1  \n",
    "        for k in range(cols): # updating indegrees of child nodes, runs n times\n",
    "            if AMat[j, k] == 1:\n",
    "                indegree[k] -= 1\n",
    "    return toposortlist\n",
    "\n",
    "toposort(A_d)"
   ]
  },
  {
   "cell_type": "markdown",
   "id": "d44696f8",
   "metadata": {},
   "source": [
    "## Topological Sort: Adjacency List\n",
    "- Compute indegrees by scanning adjacency lists\n",
    "- Maintain queue of vertices with indegree 0\n",
    "- Enumerate head of queue, update indegrees, add indegree 0 to queue\n",
    "- Repeat till queue is empty\n",
    "- Time complxity: $O(m+n)$"
   ]
  },
  {
   "cell_type": "code",
   "execution_count": 72,
   "id": "f8bfdcea",
   "metadata": {},
   "outputs": [
    {
     "data": {
      "text/plain": [
       "[0, 3, 1, 2]"
      ]
     },
     "execution_count": 72,
     "metadata": {},
     "output_type": "execute_result"
    }
   ],
   "source": [
    "def toposortlist(AList):\n",
    "    (indegree, toposortlist) = ({}, [])\n",
    "    for u in AList.keys(): # initializing indegrees of nodes to 0, runs n times\n",
    "        indegree[u] = 0\n",
    "    for u in AList.keys(): # runs n times\n",
    "        for v in AList[u]: # in total runs m times (amortised analysis) -- Total number of out degrees = m\n",
    "            indegree[v] += 1\n",
    "    zerodegreeq = Queue()\n",
    "    for u in AList.keys(): # run n times\n",
    "        if indegree[u] == 0:\n",
    "            zerodegreeq.addq(u) # add all nodes with no dependencies initially\n",
    "    while (not zerodegreeq.isempty()): # runs n times (loop to enumerate vertices)\n",
    "        j = zerodegreeq.deleteq() # deal with the first node in the queue with indegree=0\n",
    "        toposortlist.append(j)\n",
    "        indegree[j] -= 1 # make indegree -1\n",
    "        for k in AList[j]: # in total runs m times (amortised analysis)\n",
    "            indegree[k] -= 1  # update indegree of child node\n",
    "            if indegree[k] == 0:\n",
    "                zerodegreeq.addq(k) # add the child to queue\n",
    "    return toposortlist\n",
    "\n",
    "AList = {0: [1, 2], 1: [2], 2: [], 3: [2]} \n",
    "toposortlist(AList)"
   ]
  },
  {
   "cell_type": "markdown",
   "id": "f20201f9",
   "metadata": {},
   "source": [
    "## Longest Path: Adjacency List\n",
    "- Compute indegrees by scanning adjacency lists\n",
    "- Maintain queue of vertices with indegree 0\n",
    "- Process head of queue: update indegrees, update queue, update longest paths\n",
    "- Repeat till queue is empty\n",
    "- Time complexity: $O(m+n)$"
   ]
  },
  {
   "cell_type": "code",
   "execution_count": 75,
   "id": "f486f3d8",
   "metadata": {},
   "outputs": [
    {
     "data": {
      "text/plain": [
       "{0: 0, 1: 1, 2: 2, 3: 0}"
      ]
     },
     "execution_count": 75,
     "metadata": {},
     "output_type": "execute_result"
    }
   ],
   "source": [
    "def longestpathlist(AList):\n",
    "    (indegree, lpath) = ({}, {}) # lpath: key=node value= longest path length to the node\n",
    "    for u in AList.keys():\n",
    "        (indegree[u], lpath[u]) = (0, 0) # setting longest path lengths to 0 \n",
    "    for u in AList.keys():\n",
    "        for v in AList[u]: # Total number of out degrees = m, runs m times\n",
    "            indegree[v] += 1 # finding indegrees of each node\n",
    "    zerodegreeq = Queue()\n",
    "    for u in AList.keys():\n",
    "        if indegree[u] == 0:\n",
    "            zerodegreeq.addq(u) # adding nodes with indegrees = 0 to the queue\n",
    "    while(not zerodegreeq.isempty()): # runs n times (loop to enumerate vertices)\n",
    "        j = zerodegreeq.deleteq() # deal with the node at the head of queue\n",
    "        indegree[j] -= 1 # indegree becomes -1\n",
    "        for k in AList[j]:\n",
    "            indegree[k] -= 1 # update indegree\n",
    "            lpath[k] = max(lpath[k], lpath[j]+1) # update lpath\n",
    "            if indegree[k] == 0:\n",
    "                zerodegreeq.addq(k)\n",
    "    return lpath\n",
    "\n",
    "AList = {0: [1, 2], 1: [2], 2: [], 3: [2]} \n",
    "longestpathlist(AList)"
   ]
  },
  {
   "cell_type": "markdown",
   "id": "327cf6f6",
   "metadata": {},
   "source": [
    "## Extra Notes"
   ]
  },
  {
   "cell_type": "code",
   "execution_count": null,
   "id": "129bcfe4",
   "metadata": {},
   "outputs": [],
   "source": [
    "\"\"\"\n",
    "You can start slicing i > len(lis)\n",
    "    It does not give error\n",
    "    You will get an []\n",
    "\"\"\"\n",
    "a = [2]\n",
    "a[6:]"
   ]
  },
  {
   "cell_type": "code",
   "execution_count": null,
   "id": "8982953c",
   "metadata": {},
   "outputs": [],
   "source": [
    "\"\"\"\n",
    "Dictionary is Passed-By-Reference\n",
    "\"\"\"\n",
    "d = {'a': 1, 'b': 3}\n",
    "def add_c(dictionary):\n",
    "    dictionary['c'] = 2\n",
    "func(d)\n",
    "d"
   ]
  }
 ],
 "metadata": {
  "kernelspec": {
   "display_name": "Python 3 (ipykernel)",
   "language": "python",
   "name": "python3"
  },
  "language_info": {
   "codemirror_mode": {
    "name": "ipython",
    "version": 3
   },
   "file_extension": ".py",
   "mimetype": "text/x-python",
   "name": "python",
   "nbconvert_exporter": "python",
   "pygments_lexer": "ipython3",
   "version": "3.9.12"
  }
 },
 "nbformat": 4,
 "nbformat_minor": 5
}
