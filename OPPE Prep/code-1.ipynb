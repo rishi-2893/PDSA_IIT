{
 "cells": [
  {
   "cell_type": "markdown",
   "metadata": {},
   "source": [
    "QUICK SORT"
   ]
  },
  {
   "cell_type": "code",
   "execution_count": 4,
   "metadata": {},
   "outputs": [
    {
     "data": {
      "text/plain": [
       "[2, 2, 4, 2, 6, 7, 7, 8]"
      ]
     },
     "execution_count": 4,
     "metadata": {},
     "output_type": "execute_result"
    }
   ],
   "source": [
    "def quickSort(L,l,r):\n",
    "    if l >= r:\n",
    "        return L\n",
    "    (pivot,lower,upper) = (L[l],l+1, l+1)\n",
    "    for i in range(lower,r):\n",
    "        if L[i] >= pivot:\n",
    "            upper += 1 \n",
    "        elif L[i] < pivot:\n",
    "            L[i], L[lower] = L[lower], L[i]\n",
    "            upper+=1\n",
    "            lower+=1\n",
    "    \n",
    "    (L[lower-1],L[l]) = (L[lower-1],L[lower-1])\n",
    "    lower-=1\n",
    "\n",
    "    quickSort(L,l,lower)\n",
    "    quickSort(L,lower+1,upper)\n",
    "    return L \n",
    "\n",
    "l = [5,2,6,8,4,8,2,7]\n",
    "quickSort(l,0,len(l))"
   ]
  },
  {
   "cell_type": "markdown",
   "metadata": {},
   "source": [
    "PRIMS"
   ]
  },
  {
   "cell_type": "code",
   "execution_count": 11,
   "metadata": {},
   "outputs": [
    {
     "name": "stdout",
     "output_type": "stream",
     "text": [
      "[(0, 1), (1, 3), (1, 2), (2, 4)]\n"
     ]
    }
   ],
   "source": [
    "def primlist(WL):\n",
    "    TE = []\n",
    "    src = 0\n",
    "    distance = {k:float('inf') for k in WL.keys()}\n",
    "    visited = {k:False for k in WL.keys()}\n",
    "    visited[src] = True \n",
    "    distance[src] = 0\n",
    "    for v,d in WL[src]:\n",
    "        distance[v] = d\n",
    "    for i in range(len(WL.keys())-1):\n",
    "        nextv = None \n",
    "        mind = float('inf') \n",
    "        for u in WL.keys():\n",
    "            if visited[u]:\n",
    "                for v,d in WL[u]:\n",
    "                    if not visited[v] and mind > d:\n",
    "                        mind = d \n",
    "                        nextv = v \n",
    "                        parent = u \n",
    "        TE.append((parent,nextv))\n",
    "        visited[nextv] = True \n",
    "        for j,d in WL[nextv]:\n",
    "            if not visited[j]:\n",
    "                distance[j]  = d\n",
    "    return TE\n",
    "\n",
    "\n",
    "\n",
    "\n",
    "dedges = [(0,1,10),(0,3,18),(1,2,20),(1,3,6),(2,4,8),(3,4,70)]\n",
    "edges = dedges + [(j,i,w) for (i,j,w) in dedges]\n",
    "size = 5\n",
    "WL = {}\n",
    "for i in range(size):\n",
    "    WL[i] = []\n",
    "for (i,j,d) in edges:\n",
    "    WL[i].append((j,d))\n",
    "print(primlist(WL))"
   ]
  },
  {
   "cell_type": "markdown",
   "metadata": {},
   "source": [
    "KRUSKALS"
   ]
  },
  {
   "cell_type": "code",
   "execution_count": 13,
   "metadata": {},
   "outputs": [
    {
     "name": "stdout",
     "output_type": "stream",
     "text": [
      "[(6, 5), (2, 1), (1, 0), (5, 4), (4, 1), (3, 2)]\n"
     ]
    }
   ],
   "source": [
    "def kruskal(WL):\n",
    "    TE = []\n",
    "    edges = []\n",
    "    component = {}\n",
    "    for u in WL.keys():\n",
    "        component[u] = u\n",
    "        for v,d in WL[u]:\n",
    "            edges.append((d,u,v))\n",
    "    edges.sort()\n",
    "    for d,v,u in edges:\n",
    "        if component[v] != component[u]:\n",
    "            TE.append((u,v))\n",
    "            v_comp = component[v]\n",
    "            component[v] = component[u]\n",
    "            for j in WL.keys():\n",
    "                if component[j] == v_comp:\n",
    "                    component[j] = component[u]\n",
    "    return TE\n",
    "\n",
    "\n",
    "dedges = [(0,1,10),(0,2,18),(1,2,6),(1,4,20),(2,3,70),(4,5,10),(4,6,10),(5,6,5)]\n",
    "edges = dedges + [(j,i,w) for (i,j,w) in dedges]\n",
    "size = 7\n",
    "WL = {}\n",
    "for i in range(size):\n",
    "    WL[i] = []\n",
    "for (i,j,d) in edges:\n",
    "    WL[i].append((j,d))\n",
    "print(kruskal(WL))"
   ]
  },
  {
   "cell_type": "markdown",
   "metadata": {},
   "source": [
    "MAXHEAP"
   ]
  },
  {
   "cell_type": "code",
   "execution_count": 21,
   "metadata": {},
   "outputs": [
    {
     "name": "stdout",
     "output_type": "stream",
     "text": [
      "[6, 5, 3, 4, 2, 1]\n",
      "[7, 5, 6, 4, 2, 1, 3]\n",
      "[8, 7, 6, 5, 2, 1, 3, 4]\n",
      "8\n",
      "7\n",
      "[6, 5, 3, 4, 2, 1]\n"
     ]
    }
   ],
   "source": [
    "class maxheap:\n",
    "    def __init__(self):\n",
    "        self.A = []\n",
    "    def max_heapify(self,k):\n",
    "        largest = k\n",
    "        l = 2*k + 1\n",
    "        r = 2*k + 2\n",
    "        if l < len(self.A) and self.A[l] > self.A[largest]:\n",
    "            largest = l \n",
    "        if r < len(self.A) and self.A[r] > self.A[largest]:\n",
    "            largest = r \n",
    "        if largest != k:\n",
    "            self.A[k], self.A[largest] = self.A[largest], self.A[k]\n",
    "            self.max_heapify(largest)\n",
    "    def build_max_heap(self,L):\n",
    "        self.A = []\n",
    "        for v in L:\n",
    "            self.A.append(v)\n",
    "        n = int((len(self.A)//2)-1)\n",
    "        for i in range(n,-1,-1):\n",
    "            self.max_heapify(i)\n",
    "    def delete_max(self):\n",
    "        if self.A == []:\n",
    "            return\n",
    "        m = self.A[0]\n",
    "        self.A[0],self.A[-1] = self.A[-1], self.A[0]\n",
    "        self.A.pop()\n",
    "        self.max_heapify(0)\n",
    "        return m\n",
    "    def insert_in_maxheap(self,v):\n",
    "        self.A.append(v)\n",
    "        index = len(self.A) - 1\n",
    "        parent = (index - 1)//2\n",
    "        while (index > 0):\n",
    "            if self.A[parent] < self.A[index]:\n",
    "                self.A[index],self.A[parent] = self.A[parent],self.A[index]\n",
    "                index = parent \n",
    "                parent = (index - 1)//2 \n",
    "            else:\n",
    "                break \n",
    "\n",
    "heap = maxheap()\n",
    "heap.build_max_heap([1,2,3,4,5,6])\n",
    "print(heap.A)\n",
    "heap.insert_in_maxheap(7)\n",
    "print(heap.A)\n",
    "heap.insert_in_maxheap(8)\n",
    "print(heap.A)\n",
    "print(heap.delete_max())\n",
    "print(heap.delete_max())\n",
    "print(heap.A)"
   ]
  },
  {
   "cell_type": "markdown",
   "metadata": {},
   "source": [
    "HEAP SORT"
   ]
  },
  {
   "cell_type": "code",
   "execution_count": 14,
   "metadata": {},
   "outputs": [
    {
     "name": "stdout",
     "output_type": "stream",
     "text": [
      "[3, 4, 5, 6, 8, 9, 61, 6666]\n"
     ]
    }
   ],
   "source": [
    "def max_heapify(L, size, k):\n",
    "    largest = k \n",
    "    l = 2*k + 1\n",
    "    r = 2*k + 2\n",
    "    if l < size and L[l] > L[largest]:\n",
    "        largest = l \n",
    "    if r < size and L[r] > L[largest]:\n",
    "        largest = r \n",
    "    if largest != k:\n",
    "        L[k],L[largest] = L[largest],L[k]\n",
    "        max_heapify(L,size,largest)\n",
    "\n",
    "def build_max_heap(L):\n",
    "    n = len(L)//2\n",
    "    for i in range(n-1, -1, -1):\n",
    "        max_heapify(L,len(L),i)\n",
    "\n",
    "def heap_sort(A):\n",
    "    build_max_heap(A)\n",
    "    n = len(A)\n",
    "    for i in range(n-1,-1,-1):\n",
    "        A[0], A[i] = A[i], A[0]\n",
    "        max_heapify(A,i,0)\n",
    "\n",
    "A = [8,6,9,3,4,5,61,6666]\n",
    "heap_sort(A)\n",
    "print(A)"
   ]
  },
  {
   "cell_type": "markdown",
   "metadata": {},
   "source": [
    "INTERVAL SCHEDULING"
   ]
  },
  {
   "cell_type": "code",
   "execution_count": 21,
   "metadata": {},
   "outputs": [
    {
     "name": "stdout",
     "output_type": "stream",
     "text": [
      "4\n"
     ]
    }
   ],
   "source": [
    "def intervalscheduling(L):\n",
    "    L = sorted(L, key=lambda x: x[2])\n",
    "    count = 0\n",
    "    accepted = []\n",
    "    last_finished_time = L[0][2]\n",
    "    for job in L:\n",
    "        start_time = job[1]\n",
    "        end_time = job[2]\n",
    "        if last_finished_time <= start_time:\n",
    "            accepted.append(job)\n",
    "            last_finished_time = end_time\n",
    "            count+=1 \n",
    "    return count\n",
    "        \n",
    "\n",
    "# (index, start_time, end_time)\n",
    "L = [(0, 1, 2),(1, 1, 3),(2, 1, 5),(3, 3, 4),(4, 4, 5),(5, 5, 8),(6, 7, 9),(7, 10, 13),(8, 11, 12)]\n",
    "print(intervalscheduling(L))"
   ]
  },
  {
   "cell_type": "markdown",
   "metadata": {},
   "source": [
    "MINIMIZE LATENESS"
   ]
  },
  {
   "cell_type": "code",
   "execution_count": 24,
   "metadata": {},
   "outputs": [
    {
     "name": "stdout",
     "output_type": "stream",
     "text": [
      "Maximum lateness is :1\n",
      "JobId= 1, start time= 0, finish time= 3\n",
      "JobId= 3, start time= 3, finish time= 4\n",
      "JobId= 2, start time= 4, finish time= 6\n",
      "JobId= 4, start time= 6, finish time= 10\n",
      "JobId= 5, start time= 10, finish time= 13\n",
      "JobId= 6, start time= 13, finish time= 15\n"
     ]
    }
   ],
   "source": [
    "def minimizelateness(jobs):\n",
    "    max_lateness = 0\n",
    "    scheduled_jobs = []\n",
    "    jobs = sorted(jobs, key=lambda x : x[2])\n",
    "    last_finish_time = 0\n",
    "    for job in jobs:\n",
    "        job_id = job[0]\n",
    "        start_time = last_finish_time \n",
    "        finish_time = start_time + job[1]\n",
    "        if max_lateness < (finish_time - job[2]):\n",
    "            max_lateness = finish_time - job[2]\n",
    "        last_finish_time = finish_time\n",
    "        scheduled_jobs.append((job_id, start_time, finish_time))\n",
    "    return max_lateness, scheduled_jobs\n",
    "\n",
    "\n",
    "jobs = [(1, 3, 6), (2, 2, 9), (3, 1, 8), (4, 4, 9), (5, 3, 14), (6, 2, 15)]\n",
    "max_lateness, sc = minimizelateness(jobs)\n",
    "print (\"Maximum lateness is :\" + str(max_lateness))\n",
    "for t in sc:\n",
    "    print ('JobId= {0}, start time= {1}, finish time= {2}'.format(t[0],t[1],t[2]))"
   ]
  },
  {
   "cell_type": "markdown",
   "metadata": {},
   "source": [
    "HUFFMAN CODING"
   ]
  },
  {
   "cell_type": "code",
   "execution_count": 40,
   "metadata": {},
   "outputs": [
    {
     "name": "stdout",
     "output_type": "stream",
     "text": [
      "a 10\n",
      "b 01\n",
      "c 110\n",
      "d 00\n",
      "e 111\n"
     ]
    }
   ],
   "source": [
    "class Node:\n",
    "    def __init__(self, frequency, symbol=None, left=None, right=None):\n",
    "        self.frequency = frequency\n",
    "        self.symbol = symbol \n",
    "        self.left = left \n",
    "        self.right = right \n",
    "\n",
    "def Huffman(s):\n",
    "    unique_char = set(list(s))\n",
    "    frequency = {}\n",
    "    for char in unique_char:\n",
    "        frequency[char] = s.count(char)\n",
    "    node_list = []\n",
    "    for char in unique_char:\n",
    "        node = Node(frequency[char], char)\n",
    "        node_list.append((frequency[char],node))\n",
    "    node_list.sort(key=lambda x : x[0])\n",
    "    new_node = None\n",
    "    while len(node_list) > 1:\n",
    "        _, node_1 =node_list.pop(0)\n",
    "        _, node_2 = node_list.pop(0)\n",
    "        joint_frequency = node_1.frequency + node_2.frequency\n",
    "        joint_symbol = node_1.symbol + node_2.symbol\n",
    "        new_node = Node(joint_frequency, joint_symbol, node_1, node_2)\n",
    "        node_list.append((joint_frequency,new_node))\n",
    "        node_list.sort(key=lambda x : x[0])\n",
    "    \n",
    "    huffman_code = {}\n",
    "    for char in unique_char:\n",
    "        code = ''\n",
    "        curr_node = new_node \n",
    "        while curr_node.symbol != char:\n",
    "            if char in curr_node.left.symbol:\n",
    "                curr_node = curr_node.left \n",
    "                code += '0'\n",
    "            else:\n",
    "                curr_node = curr_node.right \n",
    "                code += '1' \n",
    "        huffman_code[char] = code\n",
    "    \n",
    "    return huffman_code\n",
    "\n",
    "\n",
    "\n",
    "s = 'abbcaaaabbcdddeee'\n",
    "res = Huffman(s)\n",
    "for char in sorted(res):\n",
    "    print(char,res[char])"
   ]
  },
  {
   "cell_type": "code",
   "execution_count": null,
   "metadata": {},
   "outputs": [],
   "source": [
    "class Node:\n",
    "    def __init__(self, frequency, symbol=None, left=None, right=None):\n",
    "        self.frequency = frequency\n",
    "        self.symbol = symbol \n",
    "        self.left = left \n",
    "        self.right = right \n",
    "\n",
    "def Huffman(s):\n",
    "    unique_char = set(list(s))\n",
    "    frequency = {}\n",
    "    for char in unique_char:\n",
    "        frequency[char] = s.count(char)\n",
    "    node_list = []\n",
    "    for char in unique_char:\n",
    "        node = Node(frequency[char], char)\n",
    "        node_list.append((frequency[char],node))\n",
    "    node_list.sort(key=lambda x : x[0])\n",
    "    new_node = None\n",
    "    for i in range(len(node_list)):\n",
    "        if len(node_list) < 2:\n",
    "            break\n",
    "        node_1 = node_list[i][1]\n",
    "        node_2 = node_list[i+1][1]\n",
    "        joint_frequency = node_1.frequency + node_2.frequency\n",
    "        joint_symbol = node_1.symbol + node_2.symbol\n",
    "        new_node = Node(joint_frequency, joint_symbol, node_1, node_2)\n",
    "        node_list.append((joint_frequency,new_node))\n",
    "        node_list.pop(0)\n",
    "        node_list.pop(0)\n",
    "        node_list.sort(key=lambda x : x[0])\n",
    "    \n",
    "    huffman_code = {}\n",
    "    for char in unique_char:\n",
    "        code = ''\n",
    "        curr_node = new_node \n",
    "        while curr_node.symbol != char:\n",
    "            if char in new_node.left.symbol:\n",
    "                curr_node = new_node.left \n",
    "                code += '0'\n",
    "            else:\n",
    "                curr_node = new_node.right \n",
    "                code += '1' \n",
    "        huffman_code[char] = code\n",
    "    \n",
    "    return huffman_code\n",
    "\n",
    "\n",
    "\n",
    "s = 'abbcaaaabbcdddeee'\n",
    "res = Huffman(s)\n",
    "for char in sorted(res):\n",
    "    print(char,res[char])"
   ]
  },
  {
   "cell_type": "markdown",
   "metadata": {},
   "source": [
    "COUNTING INVERSIONS"
   ]
  },
  {
   "cell_type": "code",
   "execution_count": 44,
   "metadata": {},
   "outputs": [
    {
     "name": "stdout",
     "output_type": "stream",
     "text": [
      "(4, [1, 2, 3, 4, 5])\n"
     ]
    }
   ],
   "source": [
    "def mergeAndCount(A, B):\n",
    "    inv_count = 0 \n",
    "    (i, j, k) = (0,0,0)\n",
    "    (n, m, C) = (len(A), len(B), [])\n",
    "    while k < n+m:\n",
    "        if i==n:\n",
    "            C.append(B[j])\n",
    "            j+= 1\n",
    "            k+=1\n",
    "        elif j==m:\n",
    "            C.append(A[i])\n",
    "            k+=1\n",
    "            i+=1\n",
    "        elif B[j] > A[i]:\n",
    "            C.append(A[i])\n",
    "            i+=1\n",
    "            k+=1\n",
    "        else:\n",
    "            C.append(B[j])\n",
    "            k+=1\n",
    "            j+=1\n",
    "            inv_count += (n-i)\n",
    "    return inv_count, C\n",
    "\n",
    "def inversionCount(A):\n",
    "    if len(A) <= 1:\n",
    "        return 0,A\n",
    "    n = len(A)\n",
    "    countL, L = inversionCount(A[:n//2])\n",
    "    countR, R = inversionCount(A[n//2:])\n",
    "    countB,B = mergeAndCount(L,R)\n",
    "    return (countL + countR + countB, B)\n",
    "\n",
    "L = [2,4,3,1,5]\n",
    "print(inversionCount(L))"
   ]
  },
  {
   "cell_type": "markdown",
   "metadata": {},
   "source": [
    "KARATSUBA ALGORITHM"
   ]
  },
  {
   "cell_type": "code",
   "execution_count": 45,
   "metadata": {},
   "outputs": [
    {
     "data": {
      "text/plain": [
       "30765312"
      ]
     },
     "execution_count": 45,
     "metadata": {},
     "output_type": "execute_result"
    }
   ],
   "source": [
    "def karatsuba(x,y):\n",
    "    if x<10 or y<10:\n",
    "        return x*y \n",
    "    n = max(len(str(x)), len(str(y)))\n",
    "    half = n//2 \n",
    "    a = x // 10**half\n",
    "    b = x % 10**half\n",
    "    c = y // 10**half\n",
    "    d = y % 10**half\n",
    "    ac = karatsuba(a,c)\n",
    "    bd = karatsuba(b,d)\n",
    "    ad_plus_bc = karatsuba(a+b,c+d) - ac - bd \n",
    "    return ((ac * 10**n) + (ad_plus_bc*10**half) + bd)\n",
    "\n",
    "\n",
    "karatsuba(3456,8902)"
   ]
  },
  {
   "cell_type": "markdown",
   "metadata": {},
   "source": [
    "QUICK SELECT"
   ]
  },
  {
   "cell_type": "code",
   "execution_count": 54,
   "metadata": {},
   "outputs": [
    {
     "name": "stdout",
     "output_type": "stream",
     "text": [
      "2\n"
     ]
    }
   ],
   "source": [
    "def quickselect(L, l, r, k):\n",
    "    if l >= r: \n",
    "        return \n",
    "    (pivot, lower, upper) = (L[l], l+1, l+1)\n",
    "    for i in range(lower, r):\n",
    "        if L[i] > pivot:\n",
    "            upper += 1\n",
    "        else:\n",
    "            L[lower], L[i] = L[i], L[lower]\n",
    "            upper+=1\n",
    "            lower+=1\n",
    "    L[l], L[lower-1] = L[lower-1], L[l]\n",
    "    lower-=1\n",
    "    pivot_idx = lower\n",
    "    if pivot_idx == k:\n",
    "        return L[pivot_idx]\n",
    "    elif pivot_idx < k:\n",
    "        return quickselect(L,lower+1,upper,k-(lower-l+1))\n",
    "    else:\n",
    "        return quickselect(L,l,lower,k)\n",
    "\n",
    "print(quickselect([5,3,7,2,1],0,5,2))"
   ]
  },
  {
   "cell_type": "markdown",
   "metadata": {},
   "source": [
    "MEDIAN OF MEDIANS"
   ]
  },
  {
   "cell_type": "code",
   "execution_count": 56,
   "metadata": {},
   "outputs": [
    {
     "name": "stdout",
     "output_type": "stream",
     "text": [
      "8\n"
     ]
    }
   ],
   "source": [
    "def MoM(L):\n",
    "    n = len(L)\n",
    "    if n <=5:\n",
    "        L.sort()\n",
    "        return L[n//2]\n",
    "    mom = []\n",
    "    for i in range(0, n, 5):\n",
    "        l = L[i:i+5]\n",
    "        l.sort()\n",
    "        mom.append(l[5//2])\n",
    "    return MoM(mom)\n",
    "\n",
    "print(MoM([4,3,5,6,2,1,8,9,7,10,13,15,18,17,11]))"
   ]
  }
 ],
 "metadata": {
  "kernelspec": {
   "display_name": "Python 3",
   "language": "python",
   "name": "python3"
  },
  "language_info": {
   "codemirror_mode": {
    "name": "ipython",
    "version": 3
   },
   "file_extension": ".py",
   "mimetype": "text/x-python",
   "name": "python",
   "nbconvert_exporter": "python",
   "pygments_lexer": "ipython3",
   "version": "3.12.2"
  }
 },
 "nbformat": 4,
 "nbformat_minor": 2
}
