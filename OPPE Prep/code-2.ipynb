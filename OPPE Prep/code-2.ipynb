{
 "cells": [
  {
   "cell_type": "markdown",
   "metadata": {},
   "source": [
    "QUICK SORT"
   ]
  },
  {
   "cell_type": "code",
   "execution_count": 3,
   "metadata": {},
   "outputs": [
    {
     "data": {
      "text/plain": [
       "[2, 2, 4, 5, 6, 7, 8, 8]"
      ]
     },
     "execution_count": 3,
     "metadata": {},
     "output_type": "execute_result"
    }
   ],
   "source": [
    "def quicksort(L, l, r):\n",
    "    if l >= r:\n",
    "        return L\n",
    "    (pivot, lower, upper) = (L[l], l+1, l+1)\n",
    "    for i in range(lower, r):\n",
    "        if L[i] > pivot: \n",
    "            upper+=1\n",
    "        else:\n",
    "            L[i], L[lower] = L[lower], L[i]\n",
    "            lower+=1\n",
    "            upper+=1 \n",
    "    L[l],L[lower-1] = L[lower-1], L[l]\n",
    "    lower-=1\n",
    "\n",
    "    quicksort(L, l, lower)\n",
    "    quicksort(L, lower+1, upper)\n",
    "    return L\n",
    "\n",
    "l = [5,2,6,8,4,8,2,7]\n",
    "quicksort(l,0,len(l))"
   ]
  },
  {
   "cell_type": "markdown",
   "metadata": {},
   "source": [
    "TOPO SORT"
   ]
  },
  {
   "cell_type": "code",
   "execution_count": 5,
   "metadata": {},
   "outputs": [],
   "source": [
    "class Queue:\n",
    "    def __init__(self):\n",
    "        self.queue = []\n",
    "    def enqueue(self,v):\n",
    "        self.queue.append(v)\n",
    "    def isempty(self):\n",
    "        return(self.queue == [])    \n",
    "    def dequeue(self):\n",
    "        v = None\n",
    "        if not self.isempty():\n",
    "            v = self.queue[0]\n",
    "            self.queue = self.queue[1:]\n",
    "        return(v)    \n",
    "    def __str__(self):\n",
    "        return(str(self.queue))"
   ]
  },
  {
   "cell_type": "code",
   "execution_count": 13,
   "metadata": {},
   "outputs": [
    {
     "name": "stdout",
     "output_type": "stream",
     "text": [
      "[0, 1, 3, 4, 2, 5, 6, 7]\n"
     ]
    }
   ],
   "source": [
    "def toposortlist(AL):\n",
    "    indegree= {k:0 for k in AL.keys()}\n",
    "    for u in AL.keys():\n",
    "        for v in AL[u]:\n",
    "            indegree[v] += 1\n",
    "    L = []\n",
    "    q = Queue()\n",
    "    for k in AL.keys():\n",
    "        if indegree[k] == 0:\n",
    "            q.enqueue(k)\n",
    "    while(not q.isempty()):\n",
    "        j = q.dequeue()\n",
    "        L.append(j)\n",
    "        for neighbor in AL[j]:\n",
    "            indegree[neighbor] -= 1\n",
    "            if indegree[neighbor] == 0:\n",
    "                q.enqueue(neighbor)\n",
    "    return L \n",
    "\n",
    "\n",
    "AList={0: [2, 3, 4], 1: [2, 7], 2: [5], 3: [5, 7], 4: [7], 5: [6], 6: [7], 7: []}\n",
    "print(toposortlist(AList))"
   ]
  },
  {
   "cell_type": "markdown",
   "metadata": {},
   "source": [
    "LONGEST PATH TOPO SORT"
   ]
  },
  {
   "cell_type": "code",
   "execution_count": 18,
   "metadata": {},
   "outputs": [
    {
     "name": "stdout",
     "output_type": "stream",
     "text": [
      "{0: 0, 1: 0, 2: 1, 3: 1, 4: 1, 5: 2, 6: 3, 7: 4}\n"
     ]
    }
   ],
   "source": [
    "def longestpathlist(AL):\n",
    "    lpath = {k:0 for k in AL.keys()}\n",
    "    indegree = {k:0 for k in AL.keys()}\n",
    "    for u in AL.keys():\n",
    "        for v in AL[u]:\n",
    "            indegree[v] += 1\n",
    "    L = []\n",
    "    q = Queue()\n",
    "    for k in AL.keys():\n",
    "        if indegree[k] == 0:\n",
    "            q.enqueue(k)\n",
    "    while(not q.isempty()):\n",
    "        j = q.dequeue()\n",
    "        L.append(j)\n",
    "        for neighbor in AL[j]:\n",
    "            indegree[neighbor] -= 1\n",
    "            lpath[neighbor] = max(lpath[neighbor], lpath[j]+1)\n",
    "            if indegree[neighbor] == 0:\n",
    "                q.enqueue(neighbor)\n",
    "    return lpath \n",
    "\n",
    "\n",
    "AList={0: [2, 3, 4], 1: [2, 7], 2: [5], 3: [5, 7], 4: [7], 5: [6], 6: [7], 7: []}\n",
    "print(longestpathlist(AList))"
   ]
  },
  {
   "cell_type": "markdown",
   "metadata": {},
   "source": [
    "DIJKSTRA ALGORITHM"
   ]
  },
  {
   "cell_type": "code",
   "execution_count": 19,
   "metadata": {},
   "outputs": [
    {
     "name": "stdout",
     "output_type": "stream",
     "text": [
      "{0: 0, 1: 10, 2: 16, 3: 86, 4: 30, 5: 80, 6: 35}\n"
     ]
    }
   ],
   "source": [
    "def dijkstralist(WL, s):\n",
    "    visited = {k:False for k in WL.keys()}\n",
    "    distance = {k:float('inf') for k in WL.keys()}\n",
    "    distance[s] = 0 \n",
    "    for _ in WL.keys():\n",
    "        mind = min([distance[k] for k in WL.keys() if not visited[k]])\n",
    "        nextv = min([u for u in WL.keys() if not visited[u] and distance[u]==mind])\n",
    "        visited[nextv] = True \n",
    "        for v,d in WL[nextv]:\n",
    "            if not visited[v]:\n",
    "                if distance[nextv] + d < distance[v]:\n",
    "                    distance[v] = distance[nextv] + d \n",
    "    return distance\n",
    "\n",
    "dedges = [(0,1,10),(0,2,80),(1,2,6),(1,4,20),(2,3,70),(4,5,50),(4,6,5),(5,6,10)]\n",
    "size = 7\n",
    "WL = {}\n",
    "for i in range(size):\n",
    "    WL[i] = []\n",
    "for (i,j,d) in dedges:\n",
    "    WL[i].append((j,d))\n",
    "print(dijkstralist(WL,0))"
   ]
  },
  {
   "cell_type": "markdown",
   "metadata": {},
   "source": [
    "PRIMS ALGORITHM"
   ]
  },
  {
   "cell_type": "code",
   "execution_count": 21,
   "metadata": {},
   "outputs": [
    {
     "name": "stdout",
     "output_type": "stream",
     "text": [
      "[(0, 1), (1, 3), (1, 2), (2, 4)]\n"
     ]
    }
   ],
   "source": [
    "def primlist(WL):\n",
    "    s = 0\n",
    "    TE = []\n",
    "    distance = {k:float('inf') for k in WL.keys()}\n",
    "    visited = {k:False for k in WL.keys()}\n",
    "    distance[s] = 0\n",
    "    for u,d in WL[s]:\n",
    "        distance[u] = d \n",
    "    visited[s] = True \n",
    "    for _ in range(1, len(WL.keys())):\n",
    "        min_d = float('inf')\n",
    "        nexte = None \n",
    "        nextv = None \n",
    "        for u in WL.keys():\n",
    "            for v,d in WL[u]:\n",
    "                if visited[u] and not visited[v] and min_d > d:\n",
    "                    min_d = d \n",
    "                    nextv = v\n",
    "                    nexte = (u,v)\n",
    "        TE.append(nexte)\n",
    "        visited[nextv] = True \n",
    "        for v,d in WL[nextv]:\n",
    "            distance[v] = d \n",
    "    return TE \n",
    "\n",
    "dedges = [(0,1,10),(0,3,18),(1,2,20),(1,3,6),(2,4,8),(3,4,70)]\n",
    "edges = dedges + [(j,i,w) for (i,j,w) in dedges]\n",
    "size = 5\n",
    "WL = {}\n",
    "for i in range(size):\n",
    "    WL[i] = []\n",
    "for (i,j,d) in edges:\n",
    "    WL[i].append((j,d))\n",
    "print(primlist(WL))"
   ]
  },
  {
   "cell_type": "markdown",
   "metadata": {},
   "source": [
    "KRUSKALS ALGORITHM"
   ]
  },
  {
   "cell_type": "code",
   "execution_count": 23,
   "metadata": {},
   "outputs": [
    {
     "name": "stdout",
     "output_type": "stream",
     "text": [
      "[(5, 6), (1, 2), (0, 1), (4, 5), (1, 4), (2, 3)]\n"
     ]
    }
   ],
   "source": [
    "def kruskal(WL):\n",
    "    component = {k:-1 for k in WL.keys()}\n",
    "    for u in WL.keys():\n",
    "        component[u] = u \n",
    "    edges = []\n",
    "    for u in WL.keys():\n",
    "        for v,d in WL[u]:\n",
    "            edges.append((d,u,v))\n",
    "    \n",
    "    edges.sort()\n",
    "\n",
    "    TE = []\n",
    "    for d,u,v in edges:\n",
    "        if component[u] != component[v]:\n",
    "            temp_v = component[v]\n",
    "            component[v] = component[u]\n",
    "            for k in WL.keys():\n",
    "                if component[k] == temp_v:\n",
    "                    component[k] = component[u]\n",
    "            TE.append((u,v))\n",
    "    return TE\n",
    "\n",
    "\n",
    "dedges = [(0,1,10),(0,2,18),(1,2,6),(1,4,20),(2,3,70),(4,5,10),(4,6,10),(5,6,5)]\n",
    "edges = dedges + [(j,i,w) for (i,j,w) in dedges]\n",
    "size = 7\n",
    "WL = {}\n",
    "for i in range(size):\n",
    "    WL[i] = []\n",
    "for (i,j,d) in edges:\n",
    "    WL[i].append((j,d))\n",
    "print(kruskal(WL))"
   ]
  },
  {
   "cell_type": "markdown",
   "metadata": {},
   "source": [
    "MAXHEAP"
   ]
  },
  {
   "cell_type": "code",
   "execution_count": 29,
   "metadata": {},
   "outputs": [
    {
     "name": "stdout",
     "output_type": "stream",
     "text": [
      "[6, 5, 3, 4, 2, 1]\n",
      "[7, 5, 6, 4, 2, 1, 3]\n",
      "[8, 7, 6, 5, 2, 1, 3, 4]\n",
      "8\n",
      "7\n",
      "[6, 5, 3, 4, 2, 1]\n"
     ]
    }
   ],
   "source": [
    "# ATTEMPT - 1\n",
    "class maxheap:\n",
    "    def __init__(self):\n",
    "        self.A = []\n",
    "    def max_heapify(self,k):\n",
    "        largest = k\n",
    "        l = 2*k + 1\n",
    "        r = 2*k + 2\n",
    "        if len(self.A) > l and self.A[l] > self.A[largest]:\n",
    "            largest = l \n",
    "        if len(self.A) > r and self.A[r] > self.A[largest]:\n",
    "            largest = r \n",
    "        if largest != k:\n",
    "            self.A[largest], self.A[k] = self.A[k], self.A[largest]\n",
    "            self.max_heapify(largest)\n",
    "    def build_max_heap(self,L):\n",
    "        for v in L:\n",
    "            self.A.append(v)\n",
    "        n = len(self.A)//2\n",
    "        for i in range(n-1, -1, -1):\n",
    "            self.max_heapify(i)\n",
    "    def delete_max(self):\n",
    "        if self.A == []:\n",
    "            return []\n",
    "        self.A[0], self.A[-1] = self.A[-1], self.A[0]\n",
    "        v = self.A.pop()\n",
    "        self.max_heapify(0)\n",
    "        return v \n",
    "    def insert_in_maxheap(self,val):\n",
    "        self.A.append(val)\n",
    "        idx = len(self.A) - 1\n",
    "        parent = (idx-1)//2\n",
    "        while(self.A[idx] > self.A[parent] and idx>0): # forgot idx>0\n",
    "            self.A[idx], self.A[parent] = self.A[parent], self.A[idx]\n",
    "            idx = parent \n",
    "            parent = (idx-1)//2\n",
    "\n",
    "\n",
    "heap = maxheap()\n",
    "heap.build_max_heap([1,2,3,4,5,6])\n",
    "print(heap.A)\n",
    "heap.insert_in_maxheap(7)\n",
    "print(heap.A)\n",
    "heap.insert_in_maxheap(8)\n",
    "print(heap.A)\n",
    "print(heap.delete_max())\n",
    "print(heap.delete_max())\n",
    "print(heap.A)"
   ]
  },
  {
   "cell_type": "markdown",
   "metadata": {},
   "source": [
    "BST"
   ]
  },
  {
   "cell_type": "code",
   "execution_count": 40,
   "metadata": {},
   "outputs": [
    {
     "name": "stdout",
     "output_type": "stream",
     "text": [
      "Element in BST are:=  [1, 2, 3, 4, 5, 6, 7, 8, 9]\n",
      "Maximum element in BST are:=  9\n",
      "Minimum element in BST are:=  1\n",
      "4 is present or not =  True\n",
      "Element in BST after delete 3:=  [1, 2, 3, 4, 5, 6, 7, 8, 9]\n"
     ]
    }
   ],
   "source": [
    "class Tree:\n",
    "    def __init__(self,initval=None):\n",
    "        self.value = initval\n",
    "        if self.value:\n",
    "            self.left = Tree()\n",
    "            self.right = Tree()\n",
    "        else:\n",
    "            self.right = None \n",
    "            self.left = None \n",
    "    def isempty(self):\n",
    "        return (self.value == None)\n",
    "    \n",
    "    def isleaf(self):\n",
    "        return (not self.isempty() and self.left.isempty() and self.right.isempty())\n",
    "    \n",
    "    def inorder(self):\n",
    "        if self.isempty():\n",
    "            return []\n",
    "        else:\n",
    "            return self.left.inorder() + [self.value] + self.right.inorder()\n",
    "        \n",
    "    def __str__(self):\n",
    "        return str(self.inorder())\n",
    "\n",
    "    def find(self,v):\n",
    "        if self.isempty():\n",
    "            return False\n",
    "        if self.value == v:\n",
    "            return True \n",
    "        if v > self.value:\n",
    "            return self.right.find(v)\n",
    "        else:\n",
    "            return self.left.find(v)\n",
    "    \n",
    "    def minval(self):\n",
    "        if self.left.isempty():\n",
    "            return self.value \n",
    "        return self.left.minval()\n",
    "    def maxval(self):\n",
    "        if self.right.isempty():\n",
    "            return self.value \n",
    "        return self.right.minval()\n",
    "    def insert(self,v):\n",
    "        if self.value == None:\n",
    "            self.value = v\n",
    "            self.left = Tree()\n",
    "            self.right = Tree()\n",
    "        if self.isleaf():\n",
    "            if self.value > v:\n",
    "                self.left = Tree(v)\n",
    "\n",
    "            else:\n",
    "                self.right = Tree(v)\n",
    "        if v > self.value:\n",
    "            self.right.insert(v)\n",
    "        else:\n",
    "            self.left.insert(v)\n",
    "    def delete(self,v):\n",
    "        if self.value == None:\n",
    "            return \n",
    "        if self.value == v:\n",
    "            if self.right.isempty():\n",
    "                self.copyleft()\n",
    "            elif self.left.isempty():\n",
    "                self.copyright()\n",
    "            else:\n",
    "                maxval = self.left.maxval()\n",
    "                self.value = maxval\n",
    "                self.left.delete(maxval)\n",
    "                \n",
    "    def makeempty(self):\n",
    "        self.value = None \n",
    "        self.left = None \n",
    "        self.right = None \n",
    "    def copyleft(self):\n",
    "        self.value = self.left.value \n",
    "        self.right = self.left.right \n",
    "        self.left = self.left.left \n",
    "    def copyright(self):\n",
    "        self.value  = self.right.value \n",
    "        self.left = self.right.left \n",
    "        self.right = self.right.right\n",
    "\n",
    "T = Tree()\n",
    "bst = [9,8,7,6,5,4,3,2,1]\n",
    "k = 4\n",
    "for i in bst:\n",
    "    T.insert(i)\n",
    "print('Element in BST are:= ',T.inorder())\n",
    "print('Maximum element in BST are:= ',T.maxval())\n",
    "print('Minimum element in BST are:= ',T.minval())\n",
    "print(k,'is present or not = ',T.find(k))\n",
    "T.delete(3)\n",
    "print('Element in BST after delete 3:= ',T.inorder())"
   ]
  }
 ],
 "metadata": {
  "kernelspec": {
   "display_name": "Python 3",
   "language": "python",
   "name": "python3"
  },
  "language_info": {
   "codemirror_mode": {
    "name": "ipython",
    "version": 3
   },
   "file_extension": ".py",
   "mimetype": "text/x-python",
   "name": "python",
   "nbconvert_exporter": "python",
   "pygments_lexer": "ipython3",
   "version": "3.12.2"
  }
 },
 "nbformat": 4,
 "nbformat_minor": 2
}
