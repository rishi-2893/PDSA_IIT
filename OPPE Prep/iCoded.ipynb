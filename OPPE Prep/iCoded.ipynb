{
 "cells": [
  {
   "cell_type": "markdown",
   "metadata": {},
   "source": [
    "# Master Coding Algorithms\n",
    "- First read the code, make sure you understand it.\n",
    "- Once you are confident...`CodeTheAlgorithm()`.\n",
    "```python\n",
    "def CodeTheAlgorithm():\n",
    "    print(\"Try to code it without seeing actual code\")\n",
    "    if saw the actual code:\n",
    "        CodeTheAlgorithm()\n",
    "    else:\n",
    "        Move to next algorithm\n",
    "```"
   ]
  },
  {
   "cell_type": "markdown",
   "metadata": {},
   "source": [
    "##### Binary Search - Iterative Implementation"
   ]
  },
  {
   "cell_type": "code",
   "execution_count": 12,
   "metadata": {},
   "outputs": [],
   "source": [
    "# ATTEMPT - 1\n",
    "def binarysearch(L,v):\n",
    "    n = len(L)\n",
    "    if n < 1:\n",
    "        return False \n",
    "    high = n \n",
    "    low = 0\n",
    "    mid = (high + low)//2\n",
    "    while (high - low) > 0:\n",
    "        if L[mid] == v:\n",
    "            return True \n",
    "        elif v > L[mid]:\n",
    "            low = mid + 1\n",
    "        else:\n",
    "            high = mid - 1\n",
    "    return False"
   ]
  },
  {
   "cell_type": "code",
   "execution_count": 13,
   "metadata": {},
   "outputs": [
    {
     "data": {
      "text/plain": [
       "False"
      ]
     },
     "execution_count": 13,
     "metadata": {},
     "output_type": "execute_result"
    }
   ],
   "source": [
    "# ATTEMPT - 2\n",
    "# Previous mistakes\n",
    "    # Did not update the mid point in the while loop\n",
    "    # high was set to n instead of last index n-1\n",
    "\n",
    "# Learnings\n",
    "    # While coding keep in mind that we are working with index\n",
    "\n",
    "def binarysearch(L,v):\n",
    "    n = len(L)\n",
    "    high = n-1 # based on index\n",
    "    low = 0 # based on index \n",
    "    while (high - low) > 0:\n",
    "        mid = (high + low)//2\n",
    "        if L[mid] == v:\n",
    "            return True \n",
    "        elif v > L[mid]:\n",
    "            low = mid + 1\n",
    "        else:\n",
    "            high = mid - 1\n",
    "    return False\n",
    "\n",
    "l = [2, 4, 6, 8, 12, 34, 67, 98]\n",
    "binarysearch(l, 12)"
   ]
  },
  {
   "cell_type": "code",
   "execution_count": 14,
   "metadata": {},
   "outputs": [
    {
     "data": {
      "text/plain": [
       "True"
      ]
     },
     "execution_count": 14,
     "metadata": {},
     "output_type": "execute_result"
    }
   ],
   "source": [
    "# ATTEMPT - 3\n",
    "# Previous Mistake\n",
    "    # Condition to end while was wrong. Using >= instead of >\n",
    "\n",
    "def binarysearch(L, v):\n",
    "    n = len(L)\n",
    "    high = n - 1\n",
    "    low = 0\n",
    "    while (high - low ) >= 0:\n",
    "        mid = (high + low)//2\n",
    "        if L[mid] == v:\n",
    "            return True \n",
    "        elif v > L[mid]:\n",
    "            low = mid + 1 \n",
    "        else:\n",
    "            high = mid - 1\n",
    "    return False \n",
    "\n",
    "l = [2, 4, 6, 8, 12, 34, 67, 98]\n",
    "binarysearch(l, 2)"
   ]
  },
  {
   "cell_type": "markdown",
   "metadata": {},
   "source": [
    "##### Binary Search Recursive Implementation - Without Slicing"
   ]
  },
  {
   "cell_type": "code",
   "execution_count": 15,
   "metadata": {},
   "outputs": [],
   "source": [
    "# ATTEMPT - 1\n",
    "def binarysearch(L, low, high, v):\n",
    "    mid = (low + high)//2\n",
    "    if L[mid] == v:\n",
    "        return mid \n",
    "    elif v > L[mid]:\n",
    "        return binarysearch(L, mid+1, high,v)\n",
    "    else:\n",
    "        if v < L[mid]:\n",
    "            return binarysearch(L, low, mid-1,v)\n",
    "    return False "
   ]
  },
  {
   "cell_type": "code",
   "execution_count": 2,
   "metadata": {},
   "outputs": [
    {
     "data": {
      "text/plain": [
       "6"
      ]
     },
     "execution_count": 2,
     "metadata": {},
     "output_type": "execute_result"
    }
   ],
   "source": [
    "# ATTEMPT - 2\n",
    "# Previous Mistakes\n",
    "    # Did not stop condition\n",
    "# Learnings\n",
    "    # high is the index of last element --- AGAIN!!\n",
    "\n",
    "def binarysearch(L,low,high,v):\n",
    "    if (high - low) < 0:\n",
    "        return False \n",
    "    mid = (high + low)//2\n",
    "    if L[mid] == v:\n",
    "        return mid \n",
    "    elif v > L[mid]:\n",
    "        return binarysearch(L,mid+1,high,v)\n",
    "    else:\n",
    "        return binarysearch(L,low,mid-1,v)\n",
    "\n",
    "l = [2, 4, 6, 8, 12, 34, 67, 98]\n",
    "binarysearch(l,0,len(l)-1,67)"
   ]
  },
  {
   "cell_type": "markdown",
   "metadata": {},
   "source": [
    "##### Selection Sort"
   ]
  },
  {
   "cell_type": "code",
   "execution_count": 17,
   "metadata": {},
   "outputs": [
    {
     "data": {
      "text/plain": [
       "[2, 2, 4, 5, 6, 7, 8, 8]"
      ]
     },
     "execution_count": 17,
     "metadata": {},
     "output_type": "execute_result"
    }
   ],
   "source": [
    "# ATTEMPT - 1\n",
    "def selectionsort(L):\n",
    "    n = len(L)\n",
    "    if n <= 1:\n",
    "        return L\n",
    "    for i in range(n):\n",
    "        minpos = i\n",
    "        for j in range(i+1,n):\n",
    "            if L[j] < L[minpos]:\n",
    "                minpos = j\n",
    "        (L[i],L[minpos]) = (L[minpos],L[i])\n",
    "    return L \n",
    "\n",
    "l = [5,2,6,8,4,8,2,7]\n",
    "selectionsort(l)"
   ]
  },
  {
   "cell_type": "markdown",
   "metadata": {},
   "source": [
    "##### Insertion Sort"
   ]
  },
  {
   "cell_type": "code",
   "execution_count": 18,
   "metadata": {},
   "outputs": [
    {
     "data": {
      "text/plain": [
       "[2, 2, 4, 5, 6, 7, 8, 8]"
      ]
     },
     "execution_count": 18,
     "metadata": {},
     "output_type": "execute_result"
    }
   ],
   "source": [
    "# ATTEMPT - 1\n",
    "def insertionsort(L):\n",
    "    n = len(L)\n",
    "    if n <= 1:\n",
    "        return L \n",
    "    for i in range(n):\n",
    "        j = i\n",
    "        while((j > 0) & (L[j-1] > L[j])):\n",
    "            (L[j],L[j-1]) = (L[j-1],L[j])\n",
    "            j -= 1\n",
    "    return L\n",
    "\n",
    "l = [5,2,6,8,4,8,2,7]\n",
    "insertionsort(l)"
   ]
  },
  {
   "cell_type": "markdown",
   "metadata": {},
   "source": [
    "##### Merge Sort"
   ]
  },
  {
   "cell_type": "code",
   "execution_count": 19,
   "metadata": {},
   "outputs": [
    {
     "data": {
      "text/plain": [
       "[2, 2, 4, 5, 6, 7, 8, 8]"
      ]
     },
     "execution_count": 19,
     "metadata": {},
     "output_type": "execute_result"
    }
   ],
   "source": [
    "# ATTEMPT - 1\n",
    "def merge(A,B):\n",
    "    (m,n) = (len(A),len(B))\n",
    "    (C,i,j,k) = ([],0,0,0)\n",
    "    while k < (m + n):\n",
    "        if i == m:\n",
    "            C.extend(B[j:])\n",
    "            k += (n - j)\n",
    "            j = n\n",
    "        elif j == n:\n",
    "            C.extend(A[i:])\n",
    "            k += (m - i)\n",
    "            i = m\n",
    "        elif A[i] > B[j]:\n",
    "            C.append(B[j])\n",
    "            j += 1\n",
    "            k += 1\n",
    "        else:\n",
    "            C.append(A[i])\n",
    "            i += 1\n",
    "            k += 1\n",
    "    return C \n",
    "\n",
    "def mergesort(A):\n",
    "    n = len(A)\n",
    "    if n <= 1:\n",
    "        return A \n",
    "    L = mergesort(A[:n//2])\n",
    "    R = mergesort(A[n//2:])\n",
    "    B = merge(L,R)\n",
    "    return B\n",
    "\n",
    "\n",
    "l = [5,2,6,8,4,8,2,7]\n",
    "mergesort(l)"
   ]
  },
  {
   "cell_type": "markdown",
   "metadata": {},
   "source": [
    "##### Quick Sort"
   ]
  },
  {
   "cell_type": "code",
   "execution_count": 20,
   "metadata": {},
   "outputs": [],
   "source": [
    "# ATTEMPT - 1\n",
    "# Learnings\n",
    "    # Remember that all arguments are in terms of index\n",
    "def quicksort(L,l,r):\n",
    "    if (r - l) <= 1:\n",
    "        return L \n",
    "    (pivot,lower,upper) = (L[l],l+1,r+1)\n",
    "    for i in range(lower,upper):\n",
    "        if pivot >= L[i]:\n",
    "            lower+= 1\n",
    "            upper += 1\n",
    "        elif pivot < L[i]:\n",
    "            upper += 1\n",
    "    (L[lower],L[l]) = (L[l],L[lower])\n",
    "\n",
    "    quicksort(L,l,lower-1)\n",
    "    quicksort(L,lower,upper-1)"
   ]
  },
  {
   "cell_type": "code",
   "execution_count": 21,
   "metadata": {},
   "outputs": [],
   "source": [
    "# ATTEMPT - 2\n",
    "# Previous Mistakes\n",
    "    # Wrote wrong code for case L[i] < pivot\n",
    "# Learnings\n",
    "    # `lower` is the first element of upper (i.e., greater than pivot)\n",
    "    # When L[i] < pivot --- Confused? Visualize this scenario to write the correct code\n",
    "    \n",
    "\n",
    "def quicksort(L,l,r):\n",
    "    if(r - l <= 1):\n",
    "        return L \n",
    "    (pivot, lower, upper) = (L[l],l+1,l+1)\n",
    "    for i in range(lower,r):\n",
    "        if L[i] > pivot:\n",
    "            upper += 1\n",
    "        else:\n",
    "            (L[i],L[lower]) = (L[lower],L[i])\n",
    "            lower+=1\n",
    "            upper+=1\n",
    "    (L[l],L[lower-1]) = (L[lower-1],L[l])\n",
    "\n",
    "    quicksort(L,l,lower-1)\n",
    "    quicksort(L,lower,r)\n",
    "\n",
    "l = [5,2,6,8,4,8,2,7]\n",
    "quicksort(l,0,len(l)-1)"
   ]
  },
  {
   "cell_type": "code",
   "execution_count": 22,
   "metadata": {},
   "outputs": [
    {
     "data": {
      "text/plain": [
       "[2, 2, 4, 5, 6, 7, 8, 8]"
      ]
     },
     "execution_count": 22,
     "metadata": {},
     "output_type": "execute_result"
    }
   ],
   "source": [
    "# ATTEMPT - 3\n",
    "# Previous Mistakes\n",
    "    # Forgot add `return L` at the last\n",
    "    # Forgot to update `lower` after switching pivot position\n",
    "# Learnings\n",
    "    # In quicksort `r` is the length instead of index\n",
    "\n",
    "\n",
    "def quicksort(L,l,r):\n",
    "    if (r-l <= 1):\n",
    "        return L \n",
    "    (pivot,lower,upper) = (L[l],l+1,l+1)\n",
    "    for i in range(lower,r):\n",
    "        if pivot >= L[i]:\n",
    "            (L[lower],L[i]) = (L[i],L[lower])\n",
    "            upper+=1\n",
    "            lower+=1\n",
    "        else:\n",
    "            upper+=1\n",
    "        \n",
    "    (L[lower-1],L[l]) = (L[l],L[lower-1])\n",
    "    lower-=1\n",
    "\n",
    "    quicksort(L,l,lower)\n",
    "    quicksort(L,lower+1,upper)\n",
    "    return L\n",
    "\n",
    "l = [5,2,6,8,4,8,2,7]\n",
    "quicksort(l,0,len(l))"
   ]
  },
  {
   "cell_type": "markdown",
   "metadata": {},
   "source": [
    "##### BFS for adjacency list of graph"
   ]
  },
  {
   "cell_type": "code",
   "execution_count": 23,
   "metadata": {},
   "outputs": [],
   "source": [
    "class Queue:\n",
    "    def __init__(self):\n",
    "        self.queue = []\n",
    "    def enqueue(self,v):\n",
    "        self.queue.append(v)\n",
    "    def isempty(self):\n",
    "        return(self.queue == [])    \n",
    "    def dequeue(self):\n",
    "        v = None\n",
    "        if not self.isempty():\n",
    "            v = self.queue[0]\n",
    "            self.queue = self.queue[1:]\n",
    "        return(v)    \n",
    "    def __str__(self):\n",
    "        return(str(self.queue))"
   ]
  },
  {
   "cell_type": "code",
   "execution_count": 24,
   "metadata": {},
   "outputs": [
    {
     "name": "stdout",
     "output_type": "stream",
     "text": [
      "{0: True, 1: True, 2: True, 3: True, 4: True}\n"
     ]
    }
   ],
   "source": [
    "# ATTEMPT - 1\n",
    "def BFSList(AList,s):\n",
    "    visited = {k:False for k in AList.keys()}\n",
    "    q = Queue()\n",
    "    q.enqueue(s)\n",
    "    visited[s] = True \n",
    "    while(not q.isempty()):\n",
    "        u = q.dequeue()\n",
    "        for v in AList[u]:\n",
    "            if not visited[v]:\n",
    "                q.enqueue(v)\n",
    "                visited[v] = True \n",
    "    return visited\n",
    "\n",
    "\n",
    "AList = {0: [1, 2], 1: [3, 4], 2: [4, 3], 3: [4], 4: []}\n",
    "print(BFSList(AList,0))"
   ]
  },
  {
   "cell_type": "markdown",
   "metadata": {},
   "source": [
    "##### Find parent of each vertex using BFS"
   ]
  },
  {
   "cell_type": "code",
   "execution_count": 25,
   "metadata": {},
   "outputs": [
    {
     "name": "stdout",
     "output_type": "stream",
     "text": [
      "{0: 0, 1: 0, 2: 0, 3: 1, 4: 1}\n"
     ]
    }
   ],
   "source": [
    "# ATTEMPT - 1\n",
    "def BFSListPath(AList, s):\n",
    "    parent = {k:-1 for k in AList.keys()}\n",
    "    q = Queue()\n",
    "    q.enqueue(s)\n",
    "    parent[s] = 0\n",
    "    while(not q.isempty()):\n",
    "        u = q.dequeue()\n",
    "        for v in AList[u]:\n",
    "            if parent[v] == -1:\n",
    "                q.enqueue(v)\n",
    "                parent[v] = u \n",
    "    return parent\n",
    "\n",
    "\n",
    "AList ={0: [1, 2], 1: [3, 4], 2: [4, 3], 3: [4], 4: []}\n",
    "print(BFSListPath(AList,0))"
   ]
  },
  {
   "cell_type": "code",
   "execution_count": 26,
   "metadata": {},
   "outputs": [
    {
     "name": "stdout",
     "output_type": "stream",
     "text": [
      "{0: -1, 1: 0, 2: 0, 3: 1, 4: 1}\n"
     ]
    }
   ],
   "source": [
    "# ATTEMPT - 2\n",
    "# Previous Mistake\n",
    "    # Did not take visited dictionary and initialized parent of `s` to 0 which\n",
    "    # is wrong\n",
    "def BFSListPath(AList, s):\n",
    "    parent = {k:-1 for k in AList.keys()}\n",
    "    visited = {k:False for k in AList.keys()}\n",
    "    q = Queue()\n",
    "    q.enqueue(s)\n",
    "    visited[s] = True\n",
    "    while(not q.isempty()):\n",
    "        u = q.dequeue()\n",
    "        for v in AList[u]:\n",
    "            if not visited[v]:\n",
    "                visited[v] = True\n",
    "                q.enqueue(v)\n",
    "                parent[v] = u \n",
    "    return parent\n",
    "\n",
    "\n",
    "AList ={0: [1, 2], 1: [3, 4], 2: [4, 3], 3: [4], 4: []}\n",
    "print(BFSListPath(AList,0))"
   ]
  },
  {
   "cell_type": "markdown",
   "metadata": {},
   "source": [
    "##### Find level number of vertices using BFS"
   ]
  },
  {
   "cell_type": "code",
   "execution_count": 27,
   "metadata": {},
   "outputs": [
    {
     "name": "stdout",
     "output_type": "stream",
     "text": [
      "{0: -1, 1: 0, 2: 0, 3: 1, 4: 1}\n"
     ]
    }
   ],
   "source": [
    "# ATTEMPT - 1\n",
    "def BFSListPathLevel(AList,s):\n",
    "    visited = {k:False for k in AList.keys()}\n",
    "    level = {k:-1 for k in AList.keys()}\n",
    "    q = Queue()\n",
    "    q.enqueue(s)\n",
    "    visited[s] = True\n",
    "    while(not q.isempty()):\n",
    "        u = q.dequeue()\n",
    "        for v in AList[u]:\n",
    "            if not visited[v]:\n",
    "                level[v] = level[u] + 1\n",
    "                q.enqueue(v)\n",
    "                visited[v] = True \n",
    "    return level\n",
    "\n",
    "AList ={0: [1, 2], 1: [3, 4], 2: [4, 3], 3: [4], 4: []}\n",
    "print(BFSListPathLevel(AList,0))"
   ]
  },
  {
   "cell_type": "markdown",
   "metadata": {},
   "source": [
    "##### Implementation of DFS for adjacency list of graph - Stack Implementation"
   ]
  },
  {
   "cell_type": "code",
   "execution_count": 28,
   "metadata": {},
   "outputs": [
    {
     "name": "stdout",
     "output_type": "stream",
     "text": [
      "{0: True, 1: False, 2: False, 3: False, 4: False}\n"
     ]
    }
   ],
   "source": [
    "# ATTEMPT - 1\n",
    "class Stack:\n",
    "    def __init__(self):\n",
    "        self.list = []\n",
    "    def isEmpty(self):\n",
    "        return (self.list == [])\n",
    "    def push(self,v):\n",
    "        self.list.append(v)\n",
    "    def pop(self):\n",
    "        if not self.isEmpty():\n",
    "            return self.list.pop()\n",
    "    \n",
    "def DFSList(Alist,s):\n",
    "    visited = {k:False for k in AList.keys()}\n",
    "    stack = Stack()\n",
    "    stack.push(s)\n",
    "    visited[s] = True \n",
    "    while(not stack.isEmpty()):\n",
    "        u = stack.pop()\n",
    "        if not visited[u]:\n",
    "            visited[u] = True \n",
    "            for v in AList[u]:\n",
    "                stack.push(v)\n",
    "    return visited\n",
    "\n",
    "AList ={0: [1, 2], 1: [3, 4], 2: [4, 3], 3: [4], 4: []}\n",
    "print(DFSList(AList,0))"
   ]
  },
  {
   "cell_type": "code",
   "execution_count": 29,
   "metadata": {},
   "outputs": [
    {
     "name": "stdout",
     "output_type": "stream",
     "text": [
      "{0: True, 1: True, 2: True, 3: True, 4: True}\n"
     ]
    }
   ],
   "source": [
    "# ATTEMPT - 2\n",
    "# Previous Mistake\n",
    "    # Wrote visited[s] = True outside the while loop\n",
    "def DFSList(AList, s):\n",
    "    visited = {k:False for k in AList.keys()}\n",
    "    stack = Stack()\n",
    "    stack.push(s)\n",
    "    while(not stack.isEmpty()):\n",
    "        u = stack.pop()\n",
    "        if not visited[u]:\n",
    "            visited[u] = True \n",
    "            for v in AList[u]:\n",
    "                stack.push(v)\n",
    "    return visited\n",
    "\n",
    "AList ={0: [1, 2], 1: [3, 4], 2: [4, 3], 3: [4], 4: []}\n",
    "print(DFSList(AList,0))"
   ]
  },
  {
   "cell_type": "markdown",
   "metadata": {},
   "source": [
    "##### DFS global for adjacency list of graph"
   ]
  },
  {
   "cell_type": "code",
   "execution_count": 30,
   "metadata": {},
   "outputs": [
    {
     "data": {
      "text/plain": [
       "{0: True, 1: True, 2: True, 3: True, 4: True}"
      ]
     },
     "execution_count": 30,
     "metadata": {},
     "output_type": "execute_result"
    }
   ],
   "source": [
    "# ATTEMPT - 1\n",
    "AList ={0: [1, 2], 1: [3, 4], 2: [4, 3], 3: [4], 4: []}\n",
    "visited = {k:False for k in AList.keys()}\n",
    "\n",
    "def DFSList(AList,s):\n",
    "    visited[s] = True \n",
    "    for v in AList[s]:\n",
    "        if not visited[v]:\n",
    "            DFSList(AList,v)\n",
    "\n",
    "DFSList(AList,0)\n",
    "visited"
   ]
  },
  {
   "cell_type": "markdown",
   "metadata": {},
   "source": [
    "##### DFS Recursive (without using external stack)"
   ]
  },
  {
   "cell_type": "code",
   "execution_count": 31,
   "metadata": {},
   "outputs": [
    {
     "data": {
      "text/plain": [
       "{0: True, 1: True, 2: True, 3: True, 4: True}"
      ]
     },
     "execution_count": 31,
     "metadata": {},
     "output_type": "execute_result"
    }
   ],
   "source": [
    "# ATTEMPT - 1\n",
    "def DFSListInit(AList):\n",
    "    visited = {k:False for k in AList.keys()}\n",
    "    return visited\n",
    "\n",
    "def DFSList(AList,visited,s):\n",
    "    visited[s] = True \n",
    "    for u in AList[s]:\n",
    "        if not visited[u]:\n",
    "            visited = DFSList(AList,visited,u)\n",
    "    return visited\n",
    "\n",
    "AList ={0: [1, 2], 1: [3, 4], 2: [4, 3], 3: [4], 4: []}\n",
    "v = DFSListInit(AList)\n",
    "DFSList(AList,v,0)"
   ]
  },
  {
   "cell_type": "markdown",
   "metadata": {},
   "source": [
    "##### Implementation of Find Connected Components in graph using BFS"
   ]
  },
  {
   "cell_type": "code",
   "execution_count": 32,
   "metadata": {},
   "outputs": [
    {
     "name": "stdout",
     "output_type": "stream",
     "text": [
      "{0: 0, 1: 0, 2: 0, 3: 1, 4: 1, 5: 1, 6: 1, 7: 1, 8: 1, 9: 1}\n"
     ]
    }
   ],
   "source": [
    "# ATTEMPT - 1\n",
    "# Learnings\n",
    "    # First write the BFS code. Then think how will you modify it to find components\n",
    "def Components(AList):\n",
    "    visited = {k:False for k in AList.keys()}\n",
    "    component = {k:-1 for k in AList.keys()}\n",
    "    component_count = -1\n",
    "    for vertex in AList.keys():\n",
    "        q = Queue()\n",
    "        if not visited[vertex]:\n",
    "            component_count += 1\n",
    "            visited[vertex] = True \n",
    "            component[vertex] = component_count\n",
    "            q.enqueue(vertex)\n",
    "        while(not q.isempty()):\n",
    "            u = q.dequeue()\n",
    "            for v in AList[u]:\n",
    "                if not visited[v]:\n",
    "                    visited[v] = True\n",
    "                    component[v] = component_count\n",
    "                    q.enqueue(v)\n",
    "    return component\n",
    "\n",
    "AList = {0: [1], 1: [2], 2: [0], 3: [4, 6], 4: [3, 7], 5: [3, 7], 6: [5], 7: [4, 8], 8: [5, 9], 9: [8]}\n",
    "print(Components(AList))"
   ]
  },
  {
   "cell_type": "markdown",
   "metadata": {},
   "source": [
    "##### Implementation of Pre and Post numbering on graph using DFS"
   ]
  },
  {
   "cell_type": "code",
   "execution_count": 33,
   "metadata": {},
   "outputs": [
    {
     "name": "stdout",
     "output_type": "stream",
     "text": [
      "{0: True, 1: True, 2: False, 3: False, 4: True, 5: False, 6: False, 7: False, 8: True, 9: True}\n",
      "{0: 0, 1: 1, 2: -1, 3: -1, 4: 3, 5: -1, 6: -1, 7: -1, 8: 4, 9: 5}\n",
      "{0: 9, 1: 2, 2: -1, 3: -1, 4: 8, 5: -1, 6: -1, 7: -1, 8: 7, 9: 6}\n"
     ]
    }
   ],
   "source": [
    "# ATTEMPT - 1\n",
    "# Learnings \n",
    "    # First implement DFS then try to find how to get pre post numbers\n",
    "def DFSListInit(AList):\n",
    "    visited = {k:False for k in AList.keys()}\n",
    "    pre = {k:-1 for k in AList.keys()}\n",
    "    post = {k:-1 for k in AList.keys()}\n",
    "    count = -1\n",
    "    return visited,pre,post,count\n",
    "\n",
    "def DFSList(AList,s):\n",
    "    global count\n",
    "    visited[s] = True\n",
    "    count += 1\n",
    "    pre[s]  = count\n",
    "    for u in AList[s]:\n",
    "        if not visited[u]:\n",
    "            DFSList(AList,u)\n",
    "    count += 1\n",
    "    post[s] = count\n",
    "\n",
    "\n",
    "AList = {0: [1, 4],1: [0],2: [],3: [],4: [0, 8, 9],5: [],6: [],7: [],8: [4, 9],9: [8, 4]}\n",
    "visited,pre,post,count = DFSListInit(AList)\n",
    "DFSList(AList,0)\n",
    "print(visited)\n",
    "print(pre)\n",
    "print(post)"
   ]
  },
  {
   "cell_type": "markdown",
   "metadata": {},
   "source": [
    "##### Implementation of Topological Sort for Adjacency list"
   ]
  },
  {
   "cell_type": "code",
   "execution_count": 34,
   "metadata": {},
   "outputs": [
    {
     "name": "stdout",
     "output_type": "stream",
     "text": [
      "[0, 1, 3, 4, 2, 3, 4, 2, 4, 2, 5, 7, 6, 6]\n"
     ]
    }
   ],
   "source": [
    "# ATTEMPT - 1\n",
    "def toposortlist(AList):\n",
    "    flist = []\n",
    "    indegree = {k:0 for k in AList.keys()}\n",
    "    for u in AList.keys():\n",
    "        for v in AList[u]:\n",
    "            indegree[v] += 1\n",
    "    start_vertices = [v for v in indegree.keys() if indegree[v]==0]\n",
    "    q = Queue()\n",
    "    for start_vertex in start_vertices:\n",
    "        q.enqueue(start_vertex)\n",
    "        indegree[start_vertex] -= 1\n",
    "    while(not q.isempty()):\n",
    "        u = q.dequeue()\n",
    "        indegree[u] -= 1\n",
    "        flist.append(u)\n",
    "        for v in AList[u]:\n",
    "            indegree[v] -= 1\n",
    "        next_vertices = [v for v in indegree.keys() if indegree[v]==0]\n",
    "        for nextv in next_vertices:\n",
    "            q.enqueue(nextv)\n",
    "    return flist\n",
    "\n",
    "AList={0: [2, 3, 4], 1: [2, 7], 2: [5], 3: [5, 7], 4: [7], 5: [6], 6: [7], 7: []}\n",
    "print(toposortlist(AList))"
   ]
  },
  {
   "cell_type": "code",
   "execution_count": 35,
   "metadata": {},
   "outputs": [
    {
     "name": "stdout",
     "output_type": "stream",
     "text": [
      "[0, 1, 3, 4, 2, 5, 6, 7]\n"
     ]
    }
   ],
   "source": [
    "# ATTEMPT - 2\n",
    "# Previous Mistakes\n",
    "    # Instead of running another for loop (this adds duplicates) to add vertex\n",
    "    # with zero in-degree, use the same for loop to enqueue.\n",
    "def toposortlist(AList):\n",
    "    flist = []\n",
    "    indegree = {k:0 for k in AList.keys()}\n",
    "    for u in AList.keys():\n",
    "        for v in AList[u]:\n",
    "            indegree[v] += 1\n",
    "    q = Queue()\n",
    "    for k in indegree.keys():\n",
    "        if indegree[k]==0:\n",
    "            q.enqueue(k)\n",
    "    while(not q.isempty()):\n",
    "        u = q.dequeue()\n",
    "        flist.append(u)\n",
    "        for v in AList[u]:\n",
    "            indegree[v] -= 1\n",
    "            if indegree[v] == 0:\n",
    "                q.enqueue(v)\n",
    "    return flist\n",
    "\n",
    "\n",
    "AList={0: [2, 3, 4], 1: [2, 7], 2: [5], 3: [5, 7], 4: [7], 5: [6], 6: [7], 7: []}\n",
    "print(toposortlist(AList))"
   ]
  },
  {
   "cell_type": "markdown",
   "metadata": {},
   "source": [
    "##### Implementation for Longest Path on DAG"
   ]
  },
  {
   "cell_type": "code",
   "execution_count": 36,
   "metadata": {},
   "outputs": [
    {
     "name": "stdout",
     "output_type": "stream",
     "text": [
      "{0: 0, 1: 0, 2: 1, 3: 1, 4: 1, 5: 2, 6: 3, 7: 4}\n"
     ]
    }
   ],
   "source": [
    "# ATTEMPT - 1\n",
    "def longestpathlist(AList):\n",
    "    indegree = {k:0 for k in AList.keys()}\n",
    "    lpath = {k:0 for k in AList.keys()}\n",
    "    for u in AList.keys():\n",
    "        for v in AList[u]:\n",
    "            indegree[v] += 1\n",
    "    q = Queue()\n",
    "    for k in indegree.keys():\n",
    "        if indegree[k]==0:\n",
    "            q.enqueue(k)\n",
    "    while(not q.isempty()):\n",
    "        u = q.dequeue()\n",
    "        for v in AList[u]:\n",
    "            lpath[v] = max(lpath[v],lpath[u]+1)\n",
    "            indegree[v] -= 1\n",
    "            if indegree[v] == 0:\n",
    "                q.enqueue(v)\n",
    "    return lpath\n",
    "\n",
    "\n",
    "AList={0: [2, 3, 4], 1: [2, 7], 2: [5], 3: [5, 7], 4: [7], 5: [6], 6: [7], 7: []}\n",
    "print(longestpathlist(AList))"
   ]
  },
  {
   "cell_type": "markdown",
   "metadata": {},
   "source": [
    "##### Implementation Dijkstra's For Adjacency List"
   ]
  },
  {
   "cell_type": "code",
   "execution_count": null,
   "metadata": {},
   "outputs": [],
   "source": [
    "# ATTEMPT - 1\n",
    "def dijkstralist(WList,s):\n",
    "    visited = {k:False for k in WL.keys()}\n",
    "    distance = {k:float('inf') for k in WL.keys()}\n",
    "    visited[s] = True \n",
    "    distance[s] = 0\n",
    "    for u in WList.keys():\n",
    "        min_dist = min([d for v,d in WList[u] if not visited[v]])\n",
    "        next_vlist = [v for v,d in WList[u] if distance[v]==min_dist and not visited[v]]\n",
    "        if next_vlist:\n",
    "            nextv = min(next_vlist)\n",
    "\n",
    "\n",
    "\n",
    "dedges = [(0,1,10),(0,2,80),(1,2,6),(1,4,20),(2,3,70),(4,5,50),(4,6,5),(5,6,10)]\n",
    "size = 7\n",
    "WL = {}\n",
    "for i in range(size):\n",
    "    WL[i] = []\n",
    "for (i,j,d) in dedges:\n",
    "    WL[i].append((j,d))\n",
    "WL"
   ]
  },
  {
   "cell_type": "code",
   "execution_count": null,
   "metadata": {},
   "outputs": [],
   "source": [
    "# ATTEMPT - 2\n",
    "def dijkstralist(WList,s):\n",
    "    visited = {k:False for k in WList.keys()}\n",
    "    distance = {k:float('inf') for k in WList.keys()}\n",
    "    distance[s] = 0\n",
    "    visited[s] = True \n",
    "    for _ in WList.keys():\n",
    "        min_dist = min([distance[k] for k in WList.keys() if not visited[k]])\n",
    "        next_vlist = [v for v in WList.keys() if (not visited[v]) and (distance[v]==min_dist)]\n",
    "        nextv = min(next_vlist)\n",
    "        visited[nextv] = True \n",
    "        for v,d in WList[nextv]:\n",
    "            if distance[v] > (distance[nextv] + d):\n",
    "                distance[v] = distance[nextv] + d\n",
    "    return distance\n",
    "            \n",
    "\n",
    "dedges = [(0,1,10),(0,2,80),(1,2,6),(1,4,20),(2,3,70),(4,5,50),(4,6,5),(5,6,10)]\n",
    "size = 7\n",
    "WL = {}\n",
    "for i in range(size):\n",
    "    WL[i] = []\n",
    "for (i,j,d) in dedges:\n",
    "    WL[i].append((j,d))"
   ]
  },
  {
   "cell_type": "code",
   "execution_count": 37,
   "metadata": {},
   "outputs": [
    {
     "name": "stdout",
     "output_type": "stream",
     "text": [
      "{0: 0, 1: 10, 2: 16, 3: 86, 4: 30, 5: 80, 6: 35}\n"
     ]
    }
   ],
   "source": [
    "# ATTEMPT - 3\n",
    "# Previous Mistake\n",
    "    # Got error: min() iterable argument is empty\n",
    "    # `for v,d in WList[nextv]` in this loop ONLY update if `v` is not visited\n",
    "    # Added visited[s]=True outside the loop\n",
    "# Learnings\n",
    "    # If you add visited[True] before `for` loop then in min_dist the source\n",
    "    # vertex wont be recognized...thus we wont be able explore its neighbors\n",
    "def dijkstralist(WList,s):\n",
    "    visited = {k:False for k in WList.keys()}\n",
    "    distance = {k:float('inf') for k in WList.keys()}\n",
    "    distance[s] = 0\n",
    "    for _ in WList.keys():\n",
    "        min_dist = min([distance[v] for v in WList.keys() if not visited[v]])\n",
    "        next_vlist = [v for v in WList.keys() if (distance[v]==min_dist) and (not visited[v])]\n",
    "        nextv = min(next_vlist)\n",
    "        visited[nextv] = True\n",
    "        for neighbor,d in WList[nextv]:\n",
    "            if not visited[neighbor]:\n",
    "                if distance[nextv] + d < distance[neighbor]:\n",
    "                    distance[neighbor] = distance[nextv] + d\n",
    "    return distance\n",
    "            \n",
    "\n",
    "dedges = [(0,1,10),(0,2,80),(1,2,6),(1,4,20),(2,3,70),(4,5,50),(4,6,5),(5,6,10)]\n",
    "size = 7\n",
    "WL = {}\n",
    "for i in range(size):\n",
    "    WL[i] = []\n",
    "for (i,j,d) in dedges:\n",
    "    WL[i].append((j,d))\n",
    "print(dijkstralist(WL,0))"
   ]
  },
  {
   "cell_type": "markdown",
   "metadata": {},
   "source": [
    "##### Implementation Dijkstra's For Adjacency matrix"
   ]
  },
  {
   "cell_type": "code",
   "execution_count": null,
   "metadata": {},
   "outputs": [],
   "source": [
    "# ATTEMPT - 1\n",
    "def dijkstra(WMat,s):\n",
    "    (rows,cols,x) = WMat.shape\n",
    "    visited = {k:False for k in range(rows)}\n",
    "    distance = {k:float('inf') for k in range(rows)}\n",
    "    distance[s] = 0\n",
    "    for _ in range(rows):\n",
    "        min_dist = min([distance[v] for v in range(rows) if not visited[v]])\n",
    "        next_vlist = [v for v in range(rows) if distance[v]==min_dist and not visited[v]]\n",
    "        nextv = min(next_vlist)\n",
    "        visited[nextv] = True \n",
    "        for v in range(cols):\n",
    "            if WMat[nextv,v,0] == 1 and not visited[v]:\n",
    "                if WMat[nextv,v,1] + distance[nextv] < distance[v]:\n",
    "                    distance[v] = WMat[nextv,v,1] + distance[nextv]\n",
    "    return distance\n",
    "\n",
    "dedges = [(0,1,10),(0,2,80),(1,2,6),(1,4,20),(2,3,70),(4,5,50),(4,6,5),(5,6,10)]\n",
    "size = 7\n",
    "import numpy as np\n",
    "W = np.zeros(shape=(size,size,2))\n",
    "for (i,j,w) in dedges:\n",
    "    W[i,j,0] = 1\n",
    "    W[i,j,1] = w\n",
    "print(dijkstra(W,0))"
   ]
  },
  {
   "cell_type": "markdown",
   "metadata": {},
   "source": [
    "##### Implementation of Bellman Ford for adjacency list"
   ]
  },
  {
   "cell_type": "code",
   "execution_count": null,
   "metadata": {},
   "outputs": [],
   "source": [
    "# ATTEMPT - 1\n",
    "def bellmanfordlist(WList,s):\n",
    "    distance = {k:float('inf') for k in WList.keys()}\n",
    "    distance[s] = 0\n",
    "    for i in WList.keys():\n",
    "        for u in WList.keys():\n",
    "            for v,d in WList[u]:\n",
    "                if distance[v] > distance[u] + d:\n",
    "                    distance[v] = distance[u] + d\n",
    "    return distance\n",
    "\n",
    "edges = [(0,1,10),(0,7,8),(1,5,2),(2,1,1),(2,3,1),(3,4,3),(4,5,-1),(5,2,-2),(6,1,-4),(6,5,-1),(7,6,1)]\n",
    "size = 8\n",
    "WL = {}\n",
    "for i in range(size):\n",
    "    WL[i] = []\n",
    "for (i,j,d) in edges:\n",
    "    WL[i].append((j,d))\n",
    "print(bellmanfordlist(WL,0))"
   ]
  },
  {
   "cell_type": "markdown",
   "metadata": {},
   "source": [
    "##### Implementation of Prim's Algorithm"
   ]
  },
  {
   "cell_type": "code",
   "execution_count": 1,
   "metadata": {},
   "outputs": [
    {
     "name": "stdout",
     "output_type": "stream",
     "text": [
      "[(0, 1), (1, 3), None, (3, 2), None]\n"
     ]
    }
   ],
   "source": [
    "# ATTEMPT - 1\n",
    "def primlist(WList):\n",
    "    visited = {k:False for k in WList.keys()}\n",
    "    distance = {k:float('inf') for k in WList.keys()}\n",
    "    distance[0] = 0\n",
    "    visited[0] = True \n",
    "    for v,d in WList[0]:\n",
    "        distance[v] = d \n",
    "    tree_edges = []\n",
    "    for u in WList.keys():\n",
    "        mindist = float('inf')\n",
    "        next_edge = None \n",
    "        for v in WList.keys():\n",
    "            if not visited[v] and visited[u] and mindist > distance[v]:\n",
    "                mindist = distance[v]\n",
    "                nextv = v \n",
    "                next_edge = (u,v)\n",
    "        visited[nextv] = True \n",
    "        tree_edges.append(next_edge)\n",
    "        for neighbor,d in WList[nextv]:\n",
    "            if not visited[neighbor] and distance[neighbor] > d:\n",
    "                distance[neighbor] = d \n",
    "    return tree_edges\n",
    "\n",
    "dedges = [(0,1,10),(0,3,18),(1,2,20),(1,3,6),(2,4,8),(3,4,70)]\n",
    "edges = dedges + [(j,i,w) for (i,j,w) in dedges]\n",
    "size = 5\n",
    "WL = {}\n",
    "for i in range(size):\n",
    "    WL[i] = []\n",
    "for (i,j,d) in edges:\n",
    "    WL[i].append((j,d))\n",
    "print(primlist(WL))"
   ]
  },
  {
   "cell_type": "code",
   "execution_count": 2,
   "metadata": {},
   "outputs": [
    {
     "name": "stdout",
     "output_type": "stream",
     "text": [
      "[(0, 1), (1, 3), (1, 2), (2, 4)]\n"
     ]
    }
   ],
   "source": [
    "# ATTEMPT - 2\n",
    "# Learnings\n",
    "    # Keep in mind the below things\n",
    "        # There are n-1 vertices in MST, so run a for-loop for n-1\n",
    "        # In each iteration I want to find smallest edge\n",
    "\n",
    "def primlist(WList):\n",
    "    visited = {k:False for k in WList.keys()}\n",
    "    distance = {k:float('inf') for k in WList.keys()}\n",
    "    tree_edges = []\n",
    "    \n",
    "\n",
    "    visited[0] = True \n",
    "    for u,d in WList[0]:\n",
    "        distance[u] = d\n",
    "    \n",
    "    for i in range(1,len(WList.keys())):\n",
    "        mindist = float('inf')\n",
    "        nexte = None\n",
    "        nextv = None  \n",
    "        for u in WList.keys():\n",
    "            for v,d in WList[u]:\n",
    "                if visited[u] and not visited[v] and mindist > d:\n",
    "                    mindist = d \n",
    "                    nextv = v \n",
    "                    nexte = (u,v)\n",
    "        \n",
    "        visited[nextv] = True\n",
    "        tree_edges.append(nexte)\n",
    "        \n",
    "        for v,d in WList[nextv]:\n",
    "            if not visited[v]:\n",
    "                distance[v] = d \n",
    "    \n",
    "    return tree_edges\n",
    "\n",
    "\n",
    "\n",
    "dedges = [(0,1,10),(0,3,18),(1,2,20),(1,3,6),(2,4,8),(3,4,70)]\n",
    "edges = dedges + [(j,i,w) for (i,j,w) in dedges]\n",
    "size = 5\n",
    "WL = {}\n",
    "for i in range(size):\n",
    "    WL[i] = []\n",
    "for (i,j,d) in edges:\n",
    "    WL[i].append((j,d))\n",
    "print(primlist(WL))"
   ]
  },
  {
   "cell_type": "markdown",
   "metadata": {},
   "source": [
    "##### Implementation of Kruskal's Algorithm"
   ]
  },
  {
   "cell_type": "code",
   "execution_count": 3,
   "metadata": {},
   "outputs": [
    {
     "name": "stdout",
     "output_type": "stream",
     "text": [
      "[(5, 6), (1, 2), (0, 1), (4, 5), (1, 4), (2, 3)]\n"
     ]
    }
   ],
   "source": [
    "# ATTEMPT - 1\n",
    "# Learnings\n",
    "    # Visualize how Kruskal works\n",
    "    # consider n components at the start\n",
    "    # Processes edges in sorted order\n",
    "def kruskal(WList):\n",
    "    TE = []\n",
    "    edges = []\n",
    "    component = {}\n",
    "\n",
    "    for u in WList.keys():\n",
    "        edges.extend([(d,u,v) for v,d in WList[u]])\n",
    "        component[u] = u \n",
    "    \n",
    "    edges.sort()\n",
    "\n",
    "    for d,u,v in edges:\n",
    "        if component[u] != component[v]:\n",
    "            TE.append((u,v))\n",
    "            u_comp = component[u]\n",
    "            for z in WList.keys():\n",
    "                if component[z] == u_comp:\n",
    "                    component[z] = component[v]\n",
    "    return TE\n",
    "\n",
    "\n",
    "dedges = [(0,1,10),(0,2,18),(1,2,6),(1,4,20),(2,3,70),(4,5,10),(4,6,10),(5,6,5)]\n",
    "edges = dedges + [(j,i,w) for (i,j,w) in dedges]\n",
    "size = 7\n",
    "WL = {}\n",
    "for i in range(size):\n",
    "    WL[i] = []\n",
    "for (i,j,d) in edges:\n",
    "    WL[i].append((j,d))\n",
    "print(kruskal(WL))"
   ]
  },
  {
   "cell_type": "markdown",
   "metadata": {},
   "source": [
    "##### Improved Implementation of Union-Find"
   ]
  },
  {
   "cell_type": "code",
   "execution_count": null,
   "metadata": {},
   "outputs": [],
   "source": [
    "# ATTEMPT - 1\n",
    "class MakeUnionFind:\n",
    "    def __init__(self):\n",
    "        self.components = {}\n",
    "        self.size = {}\n",
    "        self.members = {}\n",
    "    def make_union_find(self,vertices):\n",
    "        for vertex in range(vertices):\n",
    "            self.components[vertex] = vertex\n",
    "            self.size[vertex] = 1\n",
    "            self.members[vertex] = [vertex]\n",
    "    def find(self,vertex):\n",
    "        return self.components[vertex]\n",
    "    def union(self,u,v):\n",
    "        u_component = self.components[u]\n",
    "        v_component = self.components[v]\n",
    "        if self.size[u_component] >= self.size[v_component]:\n",
    "            for vertex in self.members[v_component]:\n",
    "                self.components[vertex]  = u_component\n",
    "                self.size[u_component] += 1\n",
    "                self.members[u_component].append(vertex)\n",
    "        else:\n",
    "            for vertex in self.members[u_component]:\n",
    "                self.components[vertex]  = v_component\n",
    "                self.size[v_component] += 1\n",
    "                self.members[v_component].append(vertex)"
   ]
  },
  {
   "cell_type": "code",
   "execution_count": null,
   "metadata": {},
   "outputs": [],
   "source": [
    "# ATTEMPT - 2\n",
    "class MakeUnionFind:\n",
    "    def __init__(self):\n",
    "        self.memebers = {}\n",
    "        self.size = {}\n",
    "        self.components = {}\n",
    "    def make_union_find(self,vertices):\n",
    "        for vertex in range(vertices):\n",
    "            self.components[vertex] = vertex \n",
    "            self.size[vertex] = 1\n",
    "            self.memebers[vertex]  = [vertex]\n",
    "    def find(self,vertex):\n",
    "        return self.components[vertex]\n",
    "    def union(self,u,v):\n",
    "        u_comp = self.components[u]\n",
    "        v_comp = self.components[v]\n",
    "        if self.size[u_comp] >= self.size[v_comp]:\n",
    "            for vertex in self.memebers[v_comp]:\n",
    "                self.size[u_comp] += 1\n",
    "                self.memebers[u_comp].append(vertex)\n",
    "                self.components[vertex] = u_comp\n",
    "        else:\n",
    "            for vertex in self.memebers[u_comp]:\n",
    "                self.size[v_comp] += 1\n",
    "                self.memebers[v_comp].append(vertex)\n",
    "                self.components[vertex] = v_comp"
   ]
  },
  {
   "cell_type": "markdown",
   "metadata": {},
   "source": [
    "##### Implementation of Maxheap"
   ]
  },
  {
   "cell_type": "code",
   "execution_count": null,
   "metadata": {},
   "outputs": [],
   "source": [
    "# ATTEMPT - 1\n",
    "class maxheap:\n",
    "    def __init__(self):\n",
    "        self.A = []\n",
    "    def max_heapify(self,k):\n",
    "        largest = k\n",
    "        l = 2*k + 1\n",
    "        r = 2*k + 2\n",
    "        if l < len(self.A) and self.A[l] > self.A[largest]:\n",
    "            self.A[largest], self.A[l] = self.A[l], self.A[largest]\n",
    "            largest = l \n",
    "        elif r < len(self.A) and self.A[r] > self.A[largest]:\n",
    "            self.A[largest], self.A[r] = self.A[r], self.A[largest]\n",
    "            largest = r \n",
    "        if largest != k:\n",
    "            self.max_heapify(largest)\n",
    "    def build_max_heap(self,L):\n",
    "        self.A = []\n",
    "        for v in L:\n",
    "            self.A.append(v)\n",
    "        n = int((len(self.A)//2)-1)\n",
    "        for i in range(n,-1,-1):\n",
    "            self.max_heapify(i)\n",
    "    def delete_max(self):\n",
    "        if self.A == []:\n",
    "            return \n",
    "        self.A[-1], self.A[0] = self.A[0], self.A[-1]\n",
    "        max_item = self.A.pop()\n",
    "        self.max_heapify(0)\n",
    "        return max_item\n",
    "    def insert_in_maxheap(self,val):\n",
    "        self.A.append(val) \n",
    "        index = len(self.A) - 1\n",
    "        parent = (index - 1)//2\n",
    "        while index > 0:\n",
    "            if self.A[index] > self.A[parent]:\n",
    "                self.A[index], self.A[parent] = self.A[parent],self.A[index]\n",
    "                index = parent \n",
    "                parent = (index - 1)//2\n",
    "            else:\n",
    "                break \n",
    "\n",
    "\n",
    "\n",
    "heap = maxheap()\n",
    "heap.build_max_heap([1,2,3,4,5,6])\n",
    "print(heap.A)\n",
    "heap.insert_in_maxheap(7)\n",
    "print(heap.A)\n",
    "heap.insert_in_maxheap(8)\n",
    "print(heap.A)\n",
    "print(heap.delete_max())\n",
    "print(heap.delete_max())\n",
    "print(heap.A)"
   ]
  },
  {
   "cell_type": "code",
   "execution_count": 3,
   "metadata": {},
   "outputs": [
    {
     "name": "stdout",
     "output_type": "stream",
     "text": [
      "[6, 5, 3, 4, 2, 1]\n",
      "[7, 5, 6, 4, 2, 1, 3]\n",
      "[8, 7, 6, 5, 2, 1, 3, 4]\n",
      "8\n",
      "7\n",
      "[6, 5, 3, 4, 2, 1]\n"
     ]
    }
   ],
   "source": [
    "# ATTEMPT - 2\n",
    "# Previous Mistakes\n",
    "    # In the max_heapify use `if` for both l,r and inside that only update the\n",
    "    # largest variable and do not directly exchange values over there\n",
    "# Learnings\n",
    "    # Remember you DO NOT call max_heapify for leaf nodes\n",
    "\n",
    "class maxheap:\n",
    "    def __init__(self):\n",
    "        self.A = []\n",
    "    def max_heapify(self,k):\n",
    "        largest = k\n",
    "        l = 2*k + 1\n",
    "        r = 2*k + 2\n",
    "        if l < len(self.A) and self.A[l] > self.A[largest]:\n",
    "            largest = l \n",
    "        if r < len(self.A) and self.A[r] > self.A[largest]:\n",
    "            largest = r \n",
    "        if largest != k:\n",
    "            self.A[k], self.A[largest] = self.A[largest], self.A[k]\n",
    "            self.max_heapify(largest)\n",
    "    def build_max_heap(self,L):\n",
    "        self.A = []\n",
    "        for v in L:\n",
    "            self.A.append(v)\n",
    "        n = int((len(self.A)//2)-1)\n",
    "        for i in range(n,-1,-1):\n",
    "            self.max_heapify(i)\n",
    "    def delete_max(self):\n",
    "        if self.A == []:\n",
    "            return \n",
    "        self.A[-1], self.A[0] = self.A[0], self.A[-1]\n",
    "        max_item = self.A.pop()\n",
    "        self.max_heapify(0)\n",
    "        return max_item\n",
    "    def insert_in_maxheap(self,val):\n",
    "        self.A.append(val) \n",
    "        index = len(self.A) - 1\n",
    "        parent = (index - 1)//2\n",
    "        while index > 0:\n",
    "            if self.A[index] > self.A[parent]:\n",
    "                self.A[index], self.A[parent] = self.A[parent],self.A[index]\n",
    "                index = parent \n",
    "                parent = (index - 1)//2\n",
    "            else:\n",
    "                break \n",
    "\n",
    "heap = maxheap()\n",
    "heap.build_max_heap([1,2,3,4,5,6])\n",
    "print(heap.A)\n",
    "heap.insert_in_maxheap(7)\n",
    "print(heap.A)\n",
    "heap.insert_in_maxheap(8)\n",
    "print(heap.A)\n",
    "print(heap.delete_max())\n",
    "print(heap.delete_max())\n",
    "print(heap.A)"
   ]
  },
  {
   "cell_type": "markdown",
   "metadata": {},
   "source": [
    "##### Heap Sort"
   ]
  },
  {
   "cell_type": "code",
   "execution_count": 38,
   "metadata": {},
   "outputs": [
    {
     "name": "stdout",
     "output_type": "stream",
     "text": [
      "[6666, 8, 61, 6, 4, 5, 9, 3]\n"
     ]
    }
   ],
   "source": [
    "# ATTEMPT - 1\n",
    "def max_heapify(A,size,k):\n",
    "    largest = k\n",
    "    l = 2 * k + 1\n",
    "    r = 2 * k + 2\n",
    "    if l < size and A[largest] < A[l]:\n",
    "        largest = l \n",
    "    if r < size and A[largest] < A[r]:\n",
    "        largest = r \n",
    "    if largest != k:\n",
    "        A[largest],A[k] = A[k],A[largest]\n",
    "        max_heapify(A,size,largest)\n",
    "\n",
    "def build_max_heap(L):\n",
    "    n = int((len(L)//2) - 1)\n",
    "    for i in range(n,-1,-1):\n",
    "        max_heapify(L,len(L),i)\n",
    "\n",
    "def heapsort(A):\n",
    "    build_max_heap(A)\n",
    "    n = len(A)\n",
    "    for i in range(n-1, -1,-1):\n",
    "        A[0],A[-1] = A[0],A[-1]\n",
    "        max_heapify(A,i,0)\n",
    "\n",
    "\n",
    "A = [8,6,9,3,4,5,61,6666]\n",
    "heapsort(A)\n",
    "print(A)"
   ]
  },
  {
   "cell_type": "code",
   "execution_count": 1,
   "metadata": {},
   "outputs": [
    {
     "name": "stdout",
     "output_type": "stream",
     "text": [
      "[3, 4, 5, 6, 8, 9, 61, 6666]\n"
     ]
    }
   ],
   "source": [
    "# ATTEMPT - 2\n",
    "# Previous Mistake\n",
    "    # A[0],A[-1] = A[0],A[-1] instead of this, I should write \n",
    "    # this A[0],A[i] = A[i],A[0]\n",
    "def max_heapify(A,size,k):\n",
    "    largest = k\n",
    "    l = 2 * k + 1\n",
    "    r = 2 * k + 2\n",
    "    if l < size and A[largest] < A[l]:\n",
    "        largest = l \n",
    "    if r < size and A[largest] < A[r]:\n",
    "        largest = r \n",
    "    if largest != k:\n",
    "        A[largest],A[k] = A[k],A[largest]\n",
    "        max_heapify(A,size,largest)\n",
    "\n",
    "def build_max_heap(A):\n",
    "    n = (len(A)//2)-1\n",
    "    for i in range(n,-1,-1):\n",
    "        max_heapify(A,len(A),i)\n",
    "\n",
    "def heapsort(A):\n",
    "    build_max_heap(A)\n",
    "    n = len(A)\n",
    "    for i in range(n-1, -1,-1):\n",
    "        # A[0],A[-1] = A[0],A[-1]\n",
    "        A[0],A[i] = A[i],A[0]\n",
    "        max_heapify(A,i,0)\n",
    "\n",
    "\n",
    "A = [8,6,9,3,4,5,61,6666]\n",
    "heapsort(A)\n",
    "print(A)"
   ]
  },
  {
   "cell_type": "markdown",
   "metadata": {},
   "source": [
    "##### Binary Search Tree(BST)"
   ]
  },
  {
   "cell_type": "code",
   "execution_count": 39,
   "metadata": {},
   "outputs": [
    {
     "name": "stdout",
     "output_type": "stream",
     "text": [
      "Element in BST are:=  [1, 2, 3, 4, 5, 6, 7, 8, 9]\n",
      "Maximum element in BST are:=  9\n",
      "Minimum element in BST are:=  1\n",
      "4 is present or not =  True\n",
      "Element in BST after delete 3:=  [1, 2, 4, 5, 6, 7, 8, 9]\n"
     ]
    }
   ],
   "source": [
    "# Coding Along, had a many glances while writing the below code\n",
    "class Tree:\n",
    "    def __init__(self,initval=None):\n",
    "        self.value = initval\n",
    "        if self.value:\n",
    "            self.left = Tree()\n",
    "            self.right = Tree()\n",
    "        else:\n",
    "            self.right = None\n",
    "            self.left = None \n",
    "    \n",
    "    def isempty(self):\n",
    "        return (self.value == None)\n",
    "    \n",
    "    def isleaf(self):\n",
    "        return (self.isempty() and self.left.isempty() and self.right.isempty())\n",
    "    \n",
    "    def inorder(self):\n",
    "        if self.isempty():\n",
    "            return []\n",
    "        else:\n",
    "            return (self.left.inorder() + [self.value] + self.right.inorder())\n",
    "        \n",
    "    def __str__(self):\n",
    "        return str(self.inorder())\n",
    "\n",
    "    def find(self,v):\n",
    "        if self.value == v:\n",
    "            return True \n",
    "        if self.value == None:\n",
    "            return False \n",
    "        if v > self.value:\n",
    "            return self.right.find(v)\n",
    "        if v < self.value:\n",
    "            return self.left.find(v)\n",
    "    \n",
    "    def minval(self):\n",
    "        if self.left.isempty():\n",
    "            return self.value \n",
    "        else:\n",
    "            return self.left.minval()\n",
    "    \n",
    "    def maxval(self):\n",
    "        if self.right.isempty():\n",
    "            return self.value\n",
    "        else:\n",
    "            return self.right.maxval()\n",
    "    \n",
    "    def insert(self,v):\n",
    "        if self.isempty():\n",
    "            self.value = v\n",
    "            self.left = Tree()\n",
    "            self.right = Tree()\n",
    "        if self.value == v:\n",
    "            return \n",
    "        if v > self.value:\n",
    "            self.right.insert(v)\n",
    "            return \n",
    "        if v < self.value:\n",
    "            self.left.insert(v)\n",
    "            return\n",
    "    \n",
    "    def delete(self,v):\n",
    "        if self.isempty():\n",
    "            return \n",
    "        if v > self.value:\n",
    "            self.right.delete(v)\n",
    "        if v < self.value:\n",
    "            self.left.delete(v)\n",
    "        if self.value == v:\n",
    "            if self.isleaf(): # I missed this\n",
    "                self.makeempty()\n",
    "            elif self.left.isempty(): # used if instead of elif\n",
    "                self.copyright() # copied left instead of right\n",
    "            elif self.right.isempty(): # used if instead of elif\n",
    "                self.copyleft() # copied right instead of left\n",
    "            else:\n",
    "                self.value = self.left.maxval()\n",
    "                self.left.delete(self.value)\n",
    "    \n",
    "    def makeempty(self):\n",
    "        self.value = None \n",
    "        self.left = None \n",
    "        self.right = None \n",
    "    \n",
    "    def copyleft(self):\n",
    "        self.value = self.left.value\n",
    "        self.left = self.left.left \n",
    "        self.right = self.left.right\n",
    "    \n",
    "    def copyright(self):\n",
    "        self.value = self.right.value\n",
    "        self.right = self.right.right \n",
    "        self.left = self.right.left\n",
    "    \n",
    "\n",
    "T = Tree()\n",
    "bst = [9,8,7,6,5,4,3,2,1]\n",
    "k = 4\n",
    "for i in bst:\n",
    "    T.insert(i)\n",
    "print('Element in BST are:= ',T.inorder())\n",
    "print('Maximum element in BST are:= ',T.maxval())\n",
    "print('Minimum element in BST are:= ',T.minval())\n",
    "print(k,'is present or not = ',T.find(k))\n",
    "T.delete(3)\n",
    "print('Element in BST after delete 3:= ',T.inorder())"
   ]
  },
  {
   "cell_type": "markdown",
   "metadata": {},
   "source": [
    "##### Balanced search tree (AVL Tree)"
   ]
  },
  {
   "cell_type": "code",
   "execution_count": null,
   "metadata": {},
   "outputs": [],
   "source": [
    "# Code Along - 1\n",
    "class AVLTree:\n",
    "    def __init__(self,initval=None):\n",
    "        self.value = initval\n",
    "        if self.value:\n",
    "            self.left = AVLTree()\n",
    "            self.right = AVLTree()\n",
    "            self.height = 1\n",
    "        else:\n",
    "            self.left = None\n",
    "            self.right = None\n",
    "            self.height = 0\n",
    "        return\n",
    "\n",
    "    def isempty(self):\n",
    "        return (self.value == None)\n",
    "\n",
    "    def isleaf(self):\n",
    "        return (self.value != None and self.left.isempty() and self.right.isempty())\n",
    "\n",
    "    def leftrotate(self):\n",
    "        v = self.value\n",
    "        vr = self.right.value\n",
    "        tl = self.left\n",
    "        trl = self.right.left\n",
    "        trr = self.right.right\n",
    "        newleft = AVLTree(v)\n",
    "        newleft.left = tl\n",
    "        newleft.right = trl\n",
    "        self.value = vr\n",
    "        self.right = trr\n",
    "        self.left = newleft\n",
    "        return\n",
    "\n",
    "    def rightrotate(self):\n",
    "        v = self.value\n",
    "        vl = self.left.value\n",
    "        tll = self.left.left\n",
    "        tlr = self.left.right\n",
    "        tr = self.right\n",
    "        newright = AVLTree(v)\n",
    "        newright.left = tlr\n",
    "        newright.right = tr\n",
    "        self.right = newright\n",
    "        self.value = vl\n",
    "        self.left = tll\n",
    "        return\n",
    "\n",
    "\n",
    "    def insert(self,v):\n",
    "        if self.isempty():\n",
    "            self.value = v\n",
    "            self.left = AVLTree()\n",
    "            self.right = AVLTree()\n",
    "            self.height = 1\n",
    "            return        \n",
    "        if self.value == v:\n",
    "            return        \n",
    "        if v < self.value:\n",
    "            self.left.insert(v)\n",
    "            self.rebalance()\n",
    "            self.height = 1 + max(self.left.height, self.right.height)            \n",
    "        if v > self.value:\n",
    "            self.right.insert(v)\n",
    "            self.rebalance()            \n",
    "            self.height = 1 + max(self.left.height, self.right.height)    \n",
    "                              \n",
    "    def rebalance(self):\n",
    "        if self.left == None:\n",
    "            hl = 0\n",
    "        else:\n",
    "            hl = self.left.height\n",
    "        if self.right == None:\n",
    "            hr = 0\n",
    "        else:\n",
    "            hr = self.right.height                        \n",
    "        if  hl - hr > 1:\n",
    "            if self.left.left.height > self.left.right.height:\n",
    "                self.rightrotate()\n",
    "            if self.left.left.height < self.left.right.height:\n",
    "                self.left.leftrotate()\n",
    "                self.rightrotate()\n",
    "            self.updateheight()        \n",
    "        if  hl - hr < -1:\n",
    "            if self.right.left.height < self.right.right.height:\n",
    "                self.leftrotate()\n",
    "            if self.right.left.height > self.right.right.height:\n",
    "                self.right.rightrotate()\n",
    "                self.leftrotate()\n",
    "            self.updateheight()\n",
    "            \n",
    "    def updateheight(self):\n",
    "        if self.isempty():\n",
    "            return\n",
    "        else:\n",
    "            self.left.updateheight()\n",
    "            self.right.updateheight()\n",
    "            self.height = 1 + max(self.left.height, self.right.height)       \n",
    "   \n",
    "        \n",
    "    def inorder(self):\n",
    "        if self.isempty():\n",
    "            return([])\n",
    "        else:\n",
    "            return(self.left.inorder()+ [self.value]+ self.right.inorder())\n",
    "    def preorder(self):\n",
    "        if self.isempty():\n",
    "            return([])\n",
    "        else:\n",
    "            return([self.value] + self.left.preorder()+  self.right.preorder())\n",
    "    def postorder(self):\n",
    "        if self.isempty():\n",
    "            return([])\n",
    "        else:\n",
    "            return(self.left.postorder()+ self.right.postorder() + [self.value])\n",
    "\n",
    "A = AVLTree()\n",
    "nodes = eval(input())\n",
    "for i in nodes:\n",
    "    A.insert(i)\n",
    "\n",
    "print(A.inorder())\n",
    "print(A.preorder())\n",
    "print(A.postorder())\n"
   ]
  },
  {
   "cell_type": "code",
   "execution_count": null,
   "metadata": {},
   "outputs": [],
   "source": [
    "# Code Along - 2\n",
    "class AVLTree:\n",
    "    def __init__(self,initval=None):\n",
    "        self.value = initval\n",
    "        if self.value:\n",
    "            self.left = AVLTree()\n",
    "            self.right = AVLTree()\n",
    "            self.height = 1 \n",
    "        else:\n",
    "            self.left = None\n",
    "            self.right = None\n",
    "            self.height = 0 # forgot this\n",
    "\n",
    "    def isempty(self):\n",
    "        return (self.value == None)\n",
    "\n",
    "    def isleaf(self):\n",
    "        return (self.value != None and self.left.isempty() and self.right.isempty())\n",
    "    \n",
    "    def leftrotate(self):\n",
    "        v = self.value \n",
    "        vr = self.right.value \n",
    "        tl = self.left \n",
    "        trl = self.right.left \n",
    "        trr = self.right.right \n",
    "        new_left = AVLTree(v)\n",
    "        new_left.left = tl \n",
    "        new_left.right = trl \n",
    "        self.value = vr\n",
    "        self.left = new_left \n",
    "        self.right = trr \n",
    "\n",
    "    def rightrotate(self):\n",
    "        v = self.value \n",
    "        vl = self.left.value \n",
    "        tr = self.right \n",
    "        tlr = self.left.right \n",
    "        tll = self.left.left \n",
    "        new_right = AVLTree(v)\n",
    "        new_right.right = tr \n",
    "        new_right.left = tlr \n",
    "        self.value = vl \n",
    "        self.right = new_right\n",
    "        self.left = tll \n",
    "\n",
    "    def insert(self,v):\n",
    "        if self.isempty():\n",
    "            self.value = v \n",
    "            self.left = AVLTree()\n",
    "            self.right = AVLTree()\n",
    "            self.height = 1 \n",
    "        if self.value == v:\n",
    "            return \n",
    "        if v > self.value:\n",
    "            self.right.insert(v)\n",
    "            self.rebalance()\n",
    "            self.height = 1 + max(self.left.height, self.right.height)\n",
    "        if v < self.value:\n",
    "            self.left.insert(v)\n",
    "            self.rebalance()\n",
    "            self.height = 1 + max(self.left.height, self.right.height)\n",
    "    \n",
    "    def rebalance(self):\n",
    "        if self.left == None:\n",
    "            hl = 0\n",
    "        else:\n",
    "            hl = self.left.height\n",
    "        if self.right == None:\n",
    "            hr = 0\n",
    "        else:\n",
    "            hr = self.right.height\n",
    "        if hl - hr > 1:\n",
    "            if self.left.left.height > self.left.right.height:\n",
    "                self.rightrotate()\n",
    "            if self.left.left.height < self.left.right.height:\n",
    "                self.left.leftrotate()\n",
    "                self.rightrotate()\n",
    "            self.updateheight()\n",
    "        if  hl - hr < -1:\n",
    "            if self.right.left.height < self.right.right.height:\n",
    "                self.leftrotate()\n",
    "            if self.right.left.height > self.right.right.height:\n",
    "                self.right.rightrotate()\n",
    "                self.leftrotate()\n",
    "            self.updateheight()\n",
    "    \n",
    "    def updateheight(self):\n",
    "        if self.isempty():\n",
    "            return \n",
    "        else:\n",
    "            self.left.updateheight()\n",
    "            self.right.updateheight()\n",
    "            self.height = 1 + max(self.left.height,self.right.height)\n",
    "    \n",
    "    def inorder(self):\n",
    "        if self.isempty():\n",
    "            return []\n",
    "        else:\n",
    "            return (self.left.inorder() + [self.value] + self.right.inorder())\n",
    "    def preorder(self):\n",
    "        if self.isempty():\n",
    "            return []\n",
    "        else:\n",
    "            return ([self.value] + self.left.preorder() + self.right.preorder())\n",
    "    def postorder(self):\n",
    "        if self.isempty():\n",
    "            return []\n",
    "        else:\n",
    "            return (self.left.postorder() + self.right.postorder()+ [self.value])\n",
    "        \n",
    "A = AVLTree()\n",
    "nodes = [1,2,3,4,5,6,7]\n",
    "for i in nodes:\n",
    "    A.insert(i)\n",
    "\n",
    "print(A.inorder())\n",
    "print(A.preorder())\n",
    "print(A.postorder())"
   ]
  },
  {
   "cell_type": "markdown",
   "metadata": {},
   "source": [
    "##### Interval Scheduling"
   ]
  },
  {
   "cell_type": "code",
   "execution_count": 2,
   "metadata": {},
   "outputs": [
    {
     "name": "stdout",
     "output_type": "stream",
     "text": [
      "4\n"
     ]
    }
   ],
   "source": [
    "# ATTEMPT - 1\n",
    "def intervalscheduling(L):\n",
    "    count = 0\n",
    "    accepted = []\n",
    "    lastfinished = 0\n",
    "    L = sorted(L, key=lambda x : x[2])\n",
    "    for job in L:\n",
    "        job_start_time = job[1]\n",
    "        job_finish_time = job[2]\n",
    "        if job_start_time > lastfinished:\n",
    "            count += 1\n",
    "            accepted.append(job)\n",
    "            lastfinished = job_finish_time\n",
    "    return count\n",
    "\n",
    "L = [(0, 1, 2),(1, 1, 3),(2, 1, 5),(3, 3, 4),(4, 4, 5),(5, 5, 8),(6, 7, 9),(7, 10, 13),(8, 11, 12)]\n",
    "print(intervalscheduling(L))"
   ]
  },
  {
   "cell_type": "markdown",
   "metadata": {},
   "source": [
    "##### Minimize Lateness"
   ]
  },
  {
   "cell_type": "code",
   "execution_count": 3,
   "metadata": {},
   "outputs": [
    {
     "name": "stdout",
     "output_type": "stream",
     "text": [
      "Maximum lateness is :1\n",
      "JobId= 1, start time= 0, finish time= 3\n",
      "JobId= 3, start time= 3, finish time= 4\n",
      "JobId= 2, start time= 4, finish time= 6\n",
      "JobId= 4, start time= 6, finish time= 10\n",
      "JobId= 5, start time= 10, finish time= 13\n",
      "JobId= 6, start time= 13, finish time= 15\n"
     ]
    }
   ],
   "source": [
    "# ATTEMPT - 1\n",
    "def minimizelateness(L):\n",
    "    L = sorted(L, key=lambda x: x[2])\n",
    "    time = 0\n",
    "    schedule = []\n",
    "    maxlate = 0 \n",
    "    for job in L:\n",
    "        deadline = job[2]\n",
    "        time_req_to_finish_job = job[1]\n",
    "        start_time = time \n",
    "        end_time = start_time + time_req_to_finish_job\n",
    "        time = end_time\n",
    "        job_id = job[0]\n",
    "        schedule.append((job_id,start_time,end_time))\n",
    "        if end_time > deadline:\n",
    "            maxlate = max(maxlate,end_time-deadline)\n",
    "    return maxlate,schedule\n",
    "\n",
    "\n",
    "jobs = [(1, 3, 6), (2, 2, 9), (3, 1, 8), (4, 4, 9), (5, 3, 14), (6, 2, 15)]\n",
    "max_lateness, sc = minimizelateness(jobs)\n",
    "print (\"Maximum lateness is :\" + str(max_lateness))\n",
    "for t in sc:\n",
    "    print ('JobId= {0}, start time= {1}, finish time= {2}'.format(t[0],t[1],t[2]))"
   ]
  },
  {
   "cell_type": "markdown",
   "metadata": {},
   "source": [
    "##### Huffman Algorithm"
   ]
  },
  {
   "cell_type": "code",
   "execution_count": 4,
   "metadata": {},
   "outputs": [
    {
     "name": "stdout",
     "output_type": "stream",
     "text": [
      "  101\n",
      "a 01\n",
      "b 00\n",
      "c 100\n",
      "d 110\n",
      "e 111\n"
     ]
    }
   ],
   "source": [
    "# Code Along - 1\n",
    "class Node:\n",
    "    def __init__(self,frequency,symbol=None,left=None,right=None):\n",
    "        self.symbol = symbol\n",
    "        self.frequency = frequency \n",
    "        self.left = left \n",
    "        self.right = right \n",
    "\n",
    "def Huffman(s):\n",
    "    huffcode = {}\n",
    "    char = list(s)\n",
    "    freqlist = []\n",
    "    unique_char = set(char)\n",
    "    for c in unique_char:\n",
    "        freqlist.append((char.count(c), c))\n",
    "    nodes = []\n",
    "    for nd in sorted(freqlist):\n",
    "        nodes.append((nd, Node(nd[0],nd[1])))\n",
    "    while len(nodes) > 1:\n",
    "        nodes.sort()\n",
    "        L = nodes[0][1]\n",
    "        R = nodes[1][1]\n",
    "        new_node = Node(L.frequency + R.frequency, L.symbol+R.symbol, L,R)\n",
    "        nodes.pop(0)\n",
    "        nodes.pop(0)\n",
    "        nodes.append(((L.frequency + R.frequency, L.symbol + R.symbol), new_node))\n",
    "    for ch in unique_char:\n",
    "        temp = new_node \n",
    "        code = ''\n",
    "        while temp.symbol != ch:\n",
    "            if ch in temp.left.symbol:\n",
    "                code += '0'\n",
    "                temp = temp.left \n",
    "            else:\n",
    "                code += '1'\n",
    "                temp = temp.right\n",
    "        huffcode[ch] = code \n",
    "    return huffcode\n",
    "    \n",
    "\n",
    "s = 'abbcaaaabbcdddee   e'\n",
    "res = Huffman(s)\n",
    "for char in sorted(res):\n",
    "    print(char,res[char])"
   ]
  },
  {
   "cell_type": "code",
   "execution_count": 5,
   "metadata": {},
   "outputs": [
    {
     "name": "stdout",
     "output_type": "stream",
     "text": [
      "a 10\n",
      "b 01\n",
      "c 110\n",
      "d 111\n",
      "e 00\n"
     ]
    }
   ],
   "source": [
    "# ATTEMPT - 2\n",
    "class Node:\n",
    "    def __init__(self,frequency,symbol=None,left=None,right=None):\n",
    "        self.frequency = frequency\n",
    "        self.symbol = symbol \n",
    "        self.left = left \n",
    "        self.right = right \n",
    "\n",
    "def Huffman(s):\n",
    "    char = list(s)\n",
    "    unique_char = set(s)\n",
    "    nodes = []\n",
    "    freqlist = []\n",
    "    huffman_code = {}\n",
    "    for ch in unique_char:\n",
    "        freqlist.append((char.count(ch), ch))\n",
    "    for nd in sorted(freqlist): # forgot to apply sorted() function\n",
    "        nodes.append((nd, Node(nd[0], nd[1])))\n",
    "    while len(nodes) > 1:\n",
    "        nodes.sort()\n",
    "        L = nodes[0][1]\n",
    "        R = nodes[1][1]\n",
    "        new_node = Node(L.frequency+R.frequency, L.symbol+R.symbol,L,R)\n",
    "        nodes.pop(0)\n",
    "        nodes.pop(0)\n",
    "        nodes.append(((L.frequency+R.frequency,L.symbol+R.symbol),new_node)) # forgot this to append\n",
    "    \n",
    "    for ch in unique_char:\n",
    "        code = ''\n",
    "        temp = new_node \n",
    "        while temp.symbol != ch:\n",
    "            if ch in temp.left.symbol:\n",
    "                code += '0'\n",
    "                temp = temp.left \n",
    "            else:\n",
    "                code += '1'\n",
    "                temp = temp.right \n",
    "        huffman_code[ch] = code \n",
    "    return huffman_code\n",
    "\n",
    "        \n",
    "\n",
    "\n",
    "\n",
    "s = 'abbcaaaabbcdddeee'\n",
    "res = Huffman(s)\n",
    "for char in sorted(res):\n",
    "    print(char,res[char])"
   ]
  },
  {
   "cell_type": "markdown",
   "metadata": {},
   "source": [
    "##### Counting inversions (Merge and Count)"
   ]
  },
  {
   "cell_type": "code",
   "execution_count": null,
   "metadata": {},
   "outputs": [],
   "source": [
    "# ATTEMPT - 1\n",
    "    # Forgot what to use if or elif\n",
    "def mergeAndCount(A,B):\n",
    "    m,n = len(A),len(B)\n",
    "    count = 0 \n",
    "    (C,i,j,k) = ([],0,0,0)\n",
    "    while k < m + n:\n",
    "        if i == m:\n",
    "            C.append(B[j])\n",
    "            j += 1\n",
    "            k += 1\n",
    "        elif j == n: # If you use `if` you will get indexOutOfBound Error\n",
    "            C.append(A[i])\n",
    "            i += 1\n",
    "            k += 1\n",
    "        elif A[i] < B[j]:\n",
    "            C.append(A[i])\n",
    "            k += 1\n",
    "            i+= 1\n",
    "        else:\n",
    "            C.append(B[j])\n",
    "            k += 1\n",
    "            j += 1\n",
    "            count += 1\n",
    "    return(count,C)\n",
    "\n",
    "def inversionCount(A):\n",
    "    n = len(A)\n",
    "    (countL, L) = inversionCount(A[:n//2])\n",
    "    (countR, R) = inversionCount(A[n//2:])\n",
    "    (countB, B) = mergeAndCount(L,R)\n",
    "    return(countB, B)\n",
    "\n",
    "L = [2,4,3,1,5]"
   ]
  },
  {
   "cell_type": "code",
   "execution_count": 6,
   "metadata": {},
   "outputs": [
    {
     "name": "stdout",
     "output_type": "stream",
     "text": [
      "4\n"
     ]
    }
   ],
   "source": [
    "# ATTEMPT - 2\n",
    "# Previous Mistakes\n",
    "    # returned this `(countB, B)` instead of `(countB+countL+countR, B)`\n",
    "    # Did not handle the base case if len(A)<=1\n",
    "    # did `count+=1` instead of `count+= m-i`\n",
    "\n",
    "def mergeAndCount(A,B):\n",
    "    m,n=len(A),len(B)\n",
    "    count = 0\n",
    "    (C,i,j,k) = ([],0,0,0)\n",
    "    while k < m+n:\n",
    "        if i == m:\n",
    "            C.append(B[j])\n",
    "            j+= 1\n",
    "            k+=1\n",
    "        elif j ==n:\n",
    "            C.append(A[i])\n",
    "            i+=1\n",
    "            k+=1\n",
    "        elif A[i] < B[j]:\n",
    "            C.append(A[i])\n",
    "            i+=1\n",
    "            k+=1\n",
    "        else:\n",
    "            C.append(B[j])\n",
    "            k+=1\n",
    "            j+=1\n",
    "            count += m-i\n",
    "    return(count,C)\n",
    "\n",
    "def inversionCount(A):\n",
    "    n = len(A)\n",
    "    if n <= 1:\n",
    "        return(0,A)\n",
    "    (cL, L) = inversionCount(A[:n//2])\n",
    "    (cR,R) = inversionCount(A[n//2:])\n",
    "    (cB,B) = mergeAndCount(L,R)\n",
    "    return(cL+cR+cB,B)\n",
    "\n",
    "L = [2,4,3,1,5]\n",
    "print(inversionCount(L)[0])"
   ]
  },
  {
   "cell_type": "markdown",
   "metadata": {},
   "source": [
    "##### Closest pair of points"
   ]
  },
  {
   "cell_type": "code",
   "execution_count": null,
   "metadata": {},
   "outputs": [],
   "source": [
    "# Code Along - 1\n",
    "import math\n",
    "def distance(p1,p2):\n",
    "    return math.sqrt((p1[0]-p2[0])**2 + (p1[1]-p2[1])**2)\n",
    "\n",
    "def minDistanceRec(Px,Py):\n",
    "    s = len(Px)\n",
    "    if (s==2):\n",
    "        return distance(Px[0],Px[1])\n",
    "    elif (s==3):\n",
    "        return min(distance(Px[0],Px[1]),distance(Px[0],Px[2]),distance(Px[1],Px[2]))\n",
    "    \n",
    "    m = s//2\n",
    "    Qx = Px[:m]\n",
    "    Rx = Px[m:]\n",
    "    xR = Rx[0][0]\n",
    "    Qy = []\n",
    "    Ry = []\n",
    "    for p in Py:\n",
    "        if p[0] > xR:\n",
    "            Ry.append(p)\n",
    "        else:\n",
    "            Qy.append(p)\n",
    "    \n",
    "    delta = min(minDistanceRec(Qx,Qy),minDistanceRec(Rx,Ry))\n",
    "    Sy = []\n",
    "    for p in Py:\n",
    "        if abs(p[0] - xR) <= delta:\n",
    "            Sy.append(p)\n",
    "\n",
    "    sizeS = len(Sy)\n",
    "    if sizeS > 1:\n",
    "        minS = distance(Sy[0],Sy[1])\n",
    "        for i in range(1, sizeS-1):\n",
    "            for j in range(i, min(i+15, sizeS-1)):\n",
    "                minS = min(minS, distance(Sy[i],Sy[j+1]))\n",
    "        return min(delta, minS)\n",
    "    else:\n",
    "        return delta \n",
    "    \n",
    "\n",
    "def minDistance(Points):\n",
    "    Px = sorted(Points, key=lambda x:x[0])\n",
    "    Py = sorted(Points, key=lambda x:x[1])\n",
    "    return round(minDistanceRec(Px,Py), 2)\n",
    "\n",
    "\n",
    "pts =  [(2, 15), (40, 5), (20, 1), (21, 14), (1,4), (3, 11)]\n",
    "result = minDistance(pts)\n",
    "print(result)"
   ]
  },
  {
   "cell_type": "code",
   "execution_count": null,
   "metadata": {},
   "outputs": [],
   "source": [
    "# Code Along - 2\n",
    "import math \n",
    "def distance(p1,p2):\n",
    "    return math.sqrt((p1[0]-p2[0])**2 + (p1[1]-p2[1])**2)\n",
    "\n",
    "def minDistanceRec(Px,Py):\n",
    "    s = len(Px)\n",
    "    # Missed the below checks (if and elif)\n",
    "    if s == 2:\n",
    "        return distance(Px[0],Px[1])\n",
    "    elif s==3:\n",
    "        return min(distance(Px[0],Px[1]),distance(Px[2],Px[1]),distance(Px[0],Px[2]))\n",
    "\n",
    "    m = s//2\n",
    "    Qx = Px[:m]\n",
    "    Rx = Px[m:]\n",
    "    xR = Rx[0][0]\n",
    "    Qy,Ry = [],[]\n",
    "    for p in Py:\n",
    "        if p[0] > xR:\n",
    "            Ry.append(p)\n",
    "        else:\n",
    "            Qy.append(p)\n",
    "    \n",
    "    delta = min(minDistanceRec(Qx,Qy), minDistanceRec(Rx,Ry))\n",
    "    Sy = []\n",
    "    for p in Py:\n",
    "        if abs(p[0] - xR) <= delta:\n",
    "            Sy.append(p)\n",
    "    \n",
    "    sizeS = len(Sy)\n",
    "    if sizeS > 1:\n",
    "        minS = distance(Sy[0],Sy[1])\n",
    "        for i in range(1,sizeS-1):\n",
    "            for j in range(i,min(i+15,sizeS-1)):\n",
    "                minS = min(minS, distance(Sy[i],Sy[j+1]))\n",
    "        return min(delta,minS)\n",
    "    else:\n",
    "        return delta \n",
    "\n",
    "def minDistance(Points):\n",
    "  Px = sorted(Points)\n",
    "  Py = Points\n",
    "  Py.sort(key=lambda x: x[-1])\n",
    "  return round(minDistanceRec(Px, Py), 2)\n",
    "\n",
    "\n",
    "pts =  [(2, 15), (40, 5), (20, 1), (21, 14), (1,4), (3, 11)]\n",
    "result = minDistance(pts)\n",
    "print(result)"
   ]
  },
  {
   "cell_type": "markdown",
   "metadata": {},
   "source": [
    "##### Integer multiplication (Karatsuba)"
   ]
  },
  {
   "cell_type": "code",
   "execution_count": 7,
   "metadata": {},
   "outputs": [
    {
     "data": {
      "text/plain": [
       "30765312"
      ]
     },
     "execution_count": 7,
     "metadata": {},
     "output_type": "execute_result"
    }
   ],
   "source": [
    "# Code Along \n",
    "def karatsuba(x,y):\n",
    "    # Forgot to add the base case\n",
    "    if x <10 or y<10:\n",
    "        return x * y \n",
    "    else:\n",
    "        n = max(len(str(x)),len(str(y)))\n",
    "        half = n//2 \n",
    "        a = x // (10**half) \n",
    "        b = x % (10**half)\n",
    "        c = y // (10**half) \n",
    "        d = y % (10**half)\n",
    "        ac = karatsuba(a,c)\n",
    "        bd = karatsuba(b,d)\n",
    "        ad_plus_bc = karatsuba(a+b,c+d) - ac - bd\n",
    "        return ((ac * 10**n)+(ad_plus_bc*(10**half))) + bd \n",
    "\n",
    "karatsuba(3456,8902)"
   ]
  },
  {
   "cell_type": "code",
   "execution_count": 8,
   "metadata": {},
   "outputs": [
    {
     "data": {
      "text/plain": [
       "30765312"
      ]
     },
     "execution_count": 8,
     "metadata": {},
     "output_type": "execute_result"
    }
   ],
   "source": [
    "# Code Along - 2\n",
    "def karatsuba(x,y):\n",
    "    if x<10 or y<10:\n",
    "        return x*y \n",
    "    else:\n",
    "        n = max(len(str(x)),len(str(y)))\n",
    "        half = n//2 \n",
    "        a = x // (10**half)\n",
    "        b = x % (10**half)\n",
    "        c = y // (10**half)\n",
    "        d = y % (10**half)\n",
    "        ac = karatsuba(a,c)\n",
    "        bd = karatsuba(b,d)\n",
    "        ad_plus_bc = karatsuba(a+b,c+d)-ac-bd \n",
    "        return ((ac * 10**n) + (ad_plus_bc * 10**half) + bd)\n",
    "    \n",
    "karatsuba(3456,8902)"
   ]
  },
  {
   "cell_type": "markdown",
   "metadata": {},
   "source": [
    "##### Quick select"
   ]
  },
  {
   "cell_type": "code",
   "execution_count": null,
   "metadata": {},
   "outputs": [],
   "source": [
    "# Code Along - 1\n",
    "def quickselect(L,l,r,k):\n",
    "    if (k < 1) or (k > r-l):\n",
    "        return \n",
    "    (pivot,lower,upper) = (L[l],l+1,l+1)\n",
    "    for i in range(l+1,r):\n",
    "        if L[i] > pivot:\n",
    "            upper += 1 \n",
    "        else:\n",
    "            L[lower],L[i] = L[i],L[lower]\n",
    "            lower+=1\n",
    "            upper+=1\n",
    "    (L[l],L[lower-1]) = (L[lower-1],L[l])\n",
    "    lower-=1\n",
    "\n",
    "    if k == lower-1:\n",
    "        return L[lower]\n",
    "    elif k < lower-1:\n",
    "        return quickselect(L,l,lower,k)\n",
    "    else:\n",
    "        return quickselect(L,lower,r,k-lower-1)"
   ]
  },
  {
   "cell_type": "code",
   "execution_count": 9,
   "metadata": {},
   "outputs": [
    {
     "name": "stdout",
     "output_type": "stream",
     "text": [
      "2\n"
     ]
    }
   ],
   "source": [
    "# Code Along - 2\n",
    "# Learning\n",
    "    # REMEMBER: lower is the pivot position after line-16\n",
    "def quickselect(L,l,r,k):\n",
    "    if (k < 1) or (k > r-l):\n",
    "        return \n",
    "    (pivot,lower,upper) = (L[l],l+1,l+1)\n",
    "    for i in range(l+1,r):\n",
    "        if L[i] > pivot:\n",
    "            upper += 1 \n",
    "        else:\n",
    "            L[lower],L[i] = L[i],L[lower]\n",
    "            lower+=1\n",
    "            upper+=1\n",
    "    (L[l],L[lower-1]) = (L[lower-1],L[l])\n",
    "    lower = lower - 1\n",
    "\n",
    "    # Recursive calls\n",
    "    lowerlen = lower - l\n",
    "    if k <= lowerlen:\n",
    "        return(quickselect(L,l,lower,k))\n",
    "    elif k == lower:\n",
    "        return(L[lower])\n",
    "    else:\n",
    "        return(quickselect(L,lower+1,r,k-(lowerlen+1)))\n",
    "\n",
    "print(quickselect([5,3,7,2,1],0,5,2))"
   ]
  },
  {
   "cell_type": "markdown",
   "metadata": {},
   "source": [
    "##### Median of Medians(MoM)"
   ]
  },
  {
   "cell_type": "code",
   "execution_count": 10,
   "metadata": {},
   "outputs": [
    {
     "name": "stdout",
     "output_type": "stream",
     "text": [
      "8\n"
     ]
    }
   ],
   "source": [
    "# Attempt - 1\n",
    "def MoM(L):\n",
    "    n = len(L)\n",
    "    if n <=5:\n",
    "        L.sort()\n",
    "        return L[n//2]\n",
    "    else:\n",
    "        m = []\n",
    "        for i in range(0,n,5):\n",
    "            X = L[i:i+5]\n",
    "            X.sort()\n",
    "            m.append(X[5//2])\n",
    "    return MoM(m)\n",
    "\n",
    "print(MoM([4,3,5,6,2,1,8,9,7,10,13,15,18,17,11]))"
   ]
  }
 ],
 "metadata": {
  "kernelspec": {
   "display_name": "Python 3",
   "language": "python",
   "name": "python3"
  },
  "language_info": {
   "codemirror_mode": {
    "name": "ipython",
    "version": 3
   },
   "file_extension": ".py",
   "mimetype": "text/x-python",
   "name": "python",
   "nbconvert_exporter": "python",
   "pygments_lexer": "ipython3",
   "version": "3.12.2"
  }
 },
 "nbformat": 4,
 "nbformat_minor": 2
}
