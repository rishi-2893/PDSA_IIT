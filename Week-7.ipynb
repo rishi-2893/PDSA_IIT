{
 "cells": [
  {
   "cell_type": "markdown",
   "id": "776511c6",
   "metadata": {},
   "source": [
    "# Balanced Search Trees\n",
    "---\n",
    "### Left Rotation\n",
    "<img src=\"./images/12.png\" width = 400 height = 400>\n",
    "\n",
    "```python\n",
    "class Tree:\n",
    "    ...\n",
    "    def leftrotate(self):\n",
    "        v = self.value\n",
    "        # value right\n",
    "        vr = self.right.value\n",
    "        # tree left\n",
    "        tl = self.left\n",
    "        # tree-right-left\n",
    "        trl = self.right.left\n",
    "        # tree-right-right\n",
    "        trr = self.right.right\n",
    "        \n",
    "        newleft = Tree(v)\n",
    "        newleft.left = tl\n",
    "        newleft.right = trl\n",
    "        \n",
    "        self.value = vr\n",
    "        self.right = trr\n",
    "        self.left = newleft\n",
    "        return\n",
    "```\n",
    "---\n",
    "### Right Rotation\n",
    "\n",
    "<img src=\"./images/13.png\" width = 400 height = 400>\n",
    "\n",
    "```python\n",
    "class Tree:\n",
    "    ...\n",
    "    def rightrotate(self):\n",
    "        v = self.value\n",
    "        vl = self.left.value\n",
    "        tll = self.left.left\n",
    "        tlr = self.left.right\n",
    "        tr = self.right\n",
    "        \n",
    "        newright = Tree(v)\n",
    "        newright.left = tlr\n",
    "        newright.right = tr\n",
    "        \n",
    "        self.value = vl\n",
    "        self.left = tll\n",
    "        self.right = newright\n",
    "        return\n",
    "```\n",
    "---\n",
    "### Updated Implementation: `rebalance()`, `self.height`\n",
    "```python\n",
    "class Tree:\n",
    "    ...\n",
    "    def insert(self,v):\n",
    "        ...\n",
    "        if v < self.value:\n",
    "            self.left.insert(v)\n",
    "            self.left.rebalance()\n",
    "            self.height = 1 + max(self.left.height, self.right.height)\n",
    "            return\n",
    "        if v > self.value:\n",
    "            self.right.insert(v)\n",
    "            self.right.rebalance()\n",
    "            self.height = 1 + max(self.left.height, self.right.height)\n",
    "        return\n",
    "```"
   ]
  },
  {
   "cell_type": "code",
   "execution_count": 1,
   "id": "face9bf1",
   "metadata": {},
   "outputs": [],
   "source": [
    "class Tree:\n",
    "    # Constructor\n",
    "    def __init__(self, initval=None):\n",
    "        self.value = initval\n",
    "        # initialization for a non-empty node\n",
    "        if self.value:\n",
    "            self.left = Tree()\n",
    "            self.right = Tree()\n",
    "        # initialization for a empty node\n",
    "        else:\n",
    "            self.left = None\n",
    "            self.right = None\n",
    "        return\n",
    "        \n",
    "    def leftrotate(self):\n",
    "        v = self.value\n",
    "        # value right\n",
    "        vr = self.right.value\n",
    "        # tree left\n",
    "        tl = self.left\n",
    "        # tree-right-left\n",
    "        trl = self.right.left\n",
    "        # tree-right-right\n",
    "        trr = self.right.right\n",
    "        \n",
    "        newleft = Tree(v)\n",
    "        newleft.left = tl\n",
    "        newleft.right = trl\n",
    "        \n",
    "        self.value = vr\n",
    "        self.right = trr\n",
    "        self.left = newleft\n",
    "        return\n",
    "    \n",
    "    def rightrotate(self):\n",
    "        v = self.value\n",
    "        vl = self.left.value\n",
    "        tll = self.left.left\n",
    "        tlr = self.left.right\n",
    "        tr = self.right\n",
    "        \n",
    "        newright = Tree(v)\n",
    "        newright.left = tlr\n",
    "        newright.right = tr\n",
    "        \n",
    "        self.value = vl\n",
    "        self.left = tll\n",
    "        self.right = newright\n",
    "        return"
   ]
  },
  {
   "cell_type": "markdown",
   "id": "904ad94b",
   "metadata": {},
   "source": [
    "## Interval Scheduling"
   ]
  },
  {
   "cell_type": "code",
   "execution_count": 2,
   "id": "f370f788",
   "metadata": {},
   "outputs": [
    {
     "name": "stdout",
     "output_type": "stream",
     "text": [
      "4\n"
     ]
    }
   ],
   "source": [
    "def intervalscheduling(jobs):\n",
    "    jobs.sort(key=lambda x : x[2])\n",
    "    count = 0\n",
    "    accepted = []\n",
    "    lastfinished = 0\n",
    "    for i in L:\n",
    "        if i[1] > lastfinished:\n",
    "            count += 1\n",
    "            accepted.append(i)\n",
    "            lastfinished = i[2]\n",
    "    return count\n",
    "\n",
    "L = [(0, 1, 2),(1, 1, 3),(2, 1, 5),(3, 3, 4),(4, 4, 5),(5, 5, 8),(6, 7, 9),(7, 10, 13),(8, 11, 12)]\n",
    "print(intervalscheduling(L))"
   ]
  },
  {
   "cell_type": "markdown",
   "id": "8c791e49",
   "metadata": {},
   "source": [
    "## Minimize Lateness"
   ]
  },
  {
   "cell_type": "code",
   "execution_count": 4,
   "id": "5b1ac044",
   "metadata": {},
   "outputs": [
    {
     "name": "stdout",
     "output_type": "stream",
     "text": [
      "Maximum lateness is :1\n",
      "JobId= 1, start time= 0, finish time= 3\n",
      "JobId= 3, start time= 3, finish time= 4\n",
      "JobId= 2, start time= 4, finish time= 6\n",
      "JobId= 4, start time= 6, finish time= 10\n",
      "JobId= 5, start time= 10, finish time= 13\n",
      "JobId= 6, start time= 13, finish time= 15\n"
     ]
    }
   ],
   "source": [
    "def minimizelateness(jobs):\n",
    "    jobs.sort(key=lambda x : x[2])\n",
    "    maxlate=0\n",
    "    schedule = []\n",
    "    time=0\n",
    "    for job in jobs:\n",
    "        starttime=time\n",
    "        endtime=time+job[1]\n",
    "        time=endtime\n",
    "        schedule.append((job[0],starttime,endtime))\n",
    "        if endtime > job[2]:\n",
    "            maxlate  = max(maxlate, endtime - job[2])\n",
    "    return maxlate, schedule\n",
    "\n",
    "jobs = [(1, 3, 6), (2, 2, 9), (3, 1, 8), (4, 4, 9), (5, 3, 14), (6, 2, 15)]\n",
    "max_lateness, sc = minimizelateness(jobs)\n",
    "print (\"Maximum lateness is :\" + str(max_lateness))\n",
    "for t in sc:\n",
    "    print ('JobId= {0}, start time= {1}, finish time= {2}'.format(t[0],t[1],t[2]))"
   ]
  }
 ],
 "metadata": {
  "kernelspec": {
   "display_name": "Python 3 (ipykernel)",
   "language": "python",
   "name": "python3"
  },
  "language_info": {
   "codemirror_mode": {
    "name": "ipython",
    "version": 3
   },
   "file_extension": ".py",
   "mimetype": "text/x-python",
   "name": "python",
   "nbconvert_exporter": "python",
   "pygments_lexer": "ipython3",
   "version": "3.12.2"
  }
 },
 "nbformat": 4,
 "nbformat_minor": 5
}
