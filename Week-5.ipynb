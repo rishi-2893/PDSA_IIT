{
 "cells": [
  {
   "cell_type": "markdown",
   "id": "6f519a5d",
   "metadata": {},
   "source": [
    "### Data"
   ]
  },
  {
   "cell_type": "code",
   "execution_count": 5,
   "id": "3e08b639",
   "metadata": {
    "ExecuteTime": {
     "end_time": "2023-09-19T05:04:18.824894Z",
     "start_time": "2023-09-19T05:04:18.734462Z"
    }
   },
   "outputs": [],
   "source": [
    "import numpy as np\n",
    "def convert_to_Alist(WMat):\n",
    "    WList = {}\n",
    "    (rows, cols, x) = WMat.shape\n",
    "    for i in range(rows):\n",
    "        WList[i] = []\n",
    "        for j in range(cols):\n",
    "            if(WMat[i, j, 0]!=0):\n",
    "                WList[i].append((j,WMat[i, j, 1] ))    \n",
    "    return WList\n",
    "# WList = {source1 : [(target1, edge_weight1), (target2, edge_weight2)...], source2 : [(),()...]...}\n",
    "\n",
    "\n",
    "WMat = np.array([[(0, 0), (1, 6), (1, 2)],[(1, 4), (0, 0), (0, 0)],[(0, 0), (1, 1), (0, 0)]])\n",
    "WMatNeg = np.array([[(0, 0), (1, 1), (1, -1)], [(0, 0), (0, 0), (1, 2)], [(0, 0), (0, 0), (0, 0)]])\n",
    "WMatNegUD = np.array([[(0, 0), (1, 5), (1, 3)], [(1, 5), (0, 0), (1, -2)], [(1, 3), (1, -2), (0, 0)]])\n",
    "WList = convert_to_Alist(WMat)\n",
    "WListNeg = convert_to_Alist(WMatNeg)\n",
    "WListNegUD = convert_to_Alist(WMatNegUD)"
   ]
  },
  {
   "cell_type": "markdown",
   "id": "4234a58a",
   "metadata": {},
   "source": [
    "## Dijkstra's Algorithm: Weighted Matrix\n",
    "- Time complexity: $O(n^2)$"
   ]
  },
  {
   "cell_type": "code",
   "execution_count": 137,
   "id": "e1ab2b0a",
   "metadata": {},
   "outputs": [
    {
     "data": {
      "text/plain": [
       "{0: 0, 1: 3, 2: 2}"
      ]
     },
     "execution_count": 137,
     "metadata": {},
     "output_type": "execute_result"
    }
   ],
   "source": [
    "def dijkstra(WMat, s): # WMat: weighted matrix, s: source vertex to find single source shortest path\n",
    "    (rows, cols, x) = WMat.shape # x: dimension of the tuple (edge? 0: 1, weight)\n",
    "    \n",
    "    infinity = np.max(WMat)*rows+1 # this takes O(n^2) to find max weight in n*n matrix\n",
    "    # (max weight) * (rows) = longest path possible by repeating the highest weight n times\n",
    "    # This happens when vertex v and s have n edges between them, and each edge has a weight equal to the highest weight in the graph\n",
    "    \n",
    "    (visited, distance) = ({}, {})\n",
    "    for v in range(rows): # initialization of all nodes, runs n times\n",
    "        (visited[v], distance[v]) = (False, infinity)\n",
    "    distance[s] = 0 # setting distance of source vertex\n",
    "    for u in range(rows): #  Visit each node from the source\n",
    "        nextd = min([distance[v] for v in range(rows) if not visited[v]]) # Find the minimum distance to the nearest unvisited node\n",
    "        nextvlist = [v for v in range(rows) if distance[v]==nextd and (not visited[v])] # returns list of nearest unvisited nodes\n",
    "        if nextvlist == []: # Break the loop if there are no more unvisited nodes\n",
    "            break\n",
    "        nextv = min(nextvlist) # selecting minimum vertex out of the list\n",
    "        visited[nextv] = True\n",
    "        for v in range(cols): # updating the distance for neighbours\n",
    "            if WMat[nextv, v, 0] == 1 and (not visited[v]): # Check if there is an edge between nextv and v, and v is unvisited\n",
    "                distance[v] = min(distance[v], distance[nextv]+WMat[nextv, v, 1])\n",
    "    return distance\n",
    "\n",
    "dijkstra(WMat,0)"
   ]
  },
  {
   "cell_type": "markdown",
   "id": "b28bf176",
   "metadata": {},
   "source": [
    "## Dijkstra's Algorithm: Weighted Adjacency List\n",
    "- Time complexity: $O(n^2)$"
   ]
  },
  {
   "cell_type": "code",
   "execution_count": 111,
   "id": "14296ec8",
   "metadata": {
    "scrolled": false
   },
   "outputs": [
    {
     "data": {
      "text/plain": [
       "{0: 0, 1: 3, 2: 2}"
      ]
     },
     "execution_count": 111,
     "metadata": {},
     "output_type": "execute_result"
    }
   ],
   "source": [
    "def dijkstralist(WList, s):\n",
    "    inifinity = 1 + len(WList.keys()) * max([d for u in WList.keys() for (v, d) in WList[u]]) # O(m)\n",
    "    (visited, distance) = ({}, {})\n",
    "    for v in WList.keys():\n",
    "        (visited[v], distance[v]) = (False, inifinity)\n",
    "    distance[s] = 0\n",
    "    for u in WList.keys(): # O(n)\n",
    "        nextd = min([distance[v] for v in WList.keys() if not visited[v]]) # O(n)\n",
    "        nextvlist = [v for v in WList.keys() if (not visited[v]) and distance[v]==nextd] # O(n)\n",
    "        if nextvlist == []:\n",
    "            break\n",
    "        nextv = min(nextvlist)\n",
    "        visited[nextv] = True\n",
    "        for (v, d) in WList[nextv]: # O(m) - amortised\n",
    "            if not visited[v]:\n",
    "                distance[v] = min(distance[v], distance[nextv]+d)\n",
    "    return distance\n",
    "dijkstralist(WList,0)"
   ]
  },
  {
   "cell_type": "markdown",
   "id": "ad3df176",
   "metadata": {},
   "source": [
    "## Bellman-Ford Algorithm: Weighted Adjacency Matrix\n",
    "- *Check slide-7 in 5.3 pdf of week-5*\n",
    "- Time complexity: $O(n^3)$"
   ]
  },
  {
   "cell_type": "code",
   "execution_count": 112,
   "id": "03b808b0",
   "metadata": {
    "scrolled": true
   },
   "outputs": [
    {
     "data": {
      "text/plain": [
       "{0: 0, 1: 1, 2: -1}"
      ]
     },
     "execution_count": 112,
     "metadata": {},
     "output_type": "execute_result"
    }
   ],
   "source": [
    "def bellmanford(WMat, s):\n",
    "    (rows, cols, x) = WMat.shape\n",
    "    infinity = np.max(WMat) * rows + 1\n",
    "    distance = {}\n",
    "    for v in range(rows):\n",
    "        distance[v] = infinity\n",
    "    distance[s] = 0\n",
    "    for i in range(rows): # iterates over each vertex\n",
    "        for u in range(rows): # updates the distance value for each neighbour\n",
    "            for v in range(cols): # makes all possible pairs (u, v) in the graph\n",
    "                if WMat[u, v, 0] == 1: # if there is an edge from u to v\n",
    "                    distance[v] = min(distance[v], distance[u]+WMat[u, v, 1])\n",
    "    return distance\n",
    "\n",
    "bellmanford(WMatNeg, 0)"
   ]
  },
  {
   "cell_type": "markdown",
   "id": "3dd258a1",
   "metadata": {},
   "source": [
    "## Bellman-Ford Algorithm: Weighted Adjacency List\n",
    "- Time complexity: $O(mn)$"
   ]
  },
  {
   "cell_type": "code",
   "execution_count": 192,
   "id": "d35ff3b7",
   "metadata": {},
   "outputs": [
    {
     "data": {
      "text/plain": [
       "{0: 0, 1: 1, 2: -1}"
      ]
     },
     "execution_count": 192,
     "metadata": {},
     "output_type": "execute_result"
    }
   ],
   "source": [
    "def bellmanfordlist(WList, s):\n",
    "    infinity = len(WList.keys()) * max([d for u in WList.keys() for (v, d) in WList[u]]) # takes O(m)\n",
    "    distance = {}\n",
    "    for v in WList.keys(): # O(n)\n",
    "        distance[v] = infinity\n",
    "    distance[s] = 0\n",
    "    for i in WList.keys(): # O(n)\n",
    "        for u in WList.keys(): # O(m)\n",
    "            for (v, d) in WList[u]:\n",
    "                distance[v] = min(distance[v], distance[u]+d)\n",
    "    return distance\n",
    "\n",
    "bellmanfordlist(WListNeg, 0)"
   ]
  },
  {
   "cell_type": "markdown",
   "id": "ea544b18",
   "metadata": {},
   "source": [
    "## Floyd-Warhsall\n",
    "- Time complexity: $O(n^3)$"
   ]
  },
  {
   "cell_type": "code",
   "execution_count": 167,
   "id": "523a1530",
   "metadata": {
    "scrolled": true
   },
   "outputs": [
    {
     "data": {
      "text/plain": [
       "array([[18.,  1., -1.],\n",
       "       [19., 19.,  2.],\n",
       "       [19., 19., 18.]])"
      ]
     },
     "execution_count": 167,
     "metadata": {},
     "output_type": "execute_result"
    }
   ],
   "source": [
    "def floydwarshall(WMat):\n",
    "    (rows, cols, x) = WMat.shape\n",
    "    infinity = np.max(WMat)*rows*rows+1 # np.max(WMat)*rows+1 is also valid\n",
    "    \n",
    "    SP = np.zeros(shape=(rows, cols, cols+1))\n",
    "    # rows X cols matrix, each cell of matrix contains a list of size cols + 1\n",
    "    # cols + 1: list will contain Shortest path data at each stage... SP^0, SP^1,...SP^n\n",
    "    \n",
    "    for i in range(rows): # initializing each to infinity\n",
    "        for j in range(cols):\n",
    "            SP[i, j, 0] = infinity\n",
    "    for i in range(rows): # setting stage SP^0 -- initializing direct edge weights\n",
    "        for j in range(cols):\n",
    "            if WMat[i, j, 0]==1:\n",
    "                SP[i, j, 0] = WMat[i, j, 1] # [i, j, 0] : 0 used to set the SP^0\n",
    "    \n",
    "    for k in range(1, cols+1): # Runs for each stage, SP^1, SP^2, ..., SP^n\n",
    "        # we have entered SP^k stage\n",
    "        for i in range(rows):\n",
    "            for j in range(cols):\n",
    "                # update the kth stage - SP^k\n",
    "                SP[i, j, k] = min(SP[i, j, k-1], SP[i, k-1, k-1]+ SP[k-1, j, k-1])\n",
    "    return (SP[:, :, cols]) # return the last stage SP^n\n",
    "\n",
    "floydwarshall(WMatNeg)"
   ]
  },
  {
   "cell_type": "markdown",
   "id": "3b4ee17d",
   "metadata": {},
   "source": [
    "## Floyd-Warhsall - Alternative Implementation\n",
    "- Time complexity: $O(n^3)$"
   ]
  },
  {
   "cell_type": "code",
   "execution_count": 4,
   "id": "d8b7260c",
   "metadata": {
    "ExecuteTime": {
     "end_time": "2023-09-19T04:19:38.234103Z",
     "start_time": "2023-09-19T04:19:38.214690Z"
    }
   },
   "outputs": [
    {
     "data": {
      "text/plain": [
       "array([[inf,  1., -1.],\n",
       "       [inf, inf,  2.],\n",
       "       [inf, inf, inf]])"
      ]
     },
     "execution_count": 4,
     "metadata": {},
     "output_type": "execute_result"
    }
   ],
   "source": [
    "def floydwarshallAlter(WMat):\n",
    "    (rows, cols, x) = WMat.shape\n",
    "    distance = np.zeros(shape=(rows, cols)) # Matrix to store shortest paths\n",
    "    for i in range(rows): # Initializing distance matrix\n",
    "        for j in range(cols):\n",
    "            if WMat[i, j, 0] == 1:\n",
    "                distance[i, j] = WMat[i, j, 1]\n",
    "            else:\n",
    "                distance[i, j] = float('inf')\n",
    "\n",
    "    for k in range(rows): # For creating n matrices\n",
    "        for i in range(rows): # Two for loops for filling n*n matrix\n",
    "            for j in range(rows):\n",
    "                distance[i, j] = min(distance[i, j], distance[i, k] + distance[k, j])\n",
    "    return distance\n",
    "floydwarshallAlter(WMatNeg)"
   ]
  },
  {
   "cell_type": "markdown",
   "id": "68af41d5",
   "metadata": {},
   "source": [
    "## Prims Algorithm\n",
    "- `visited[v]` – is v already in the spanning tree?\n",
    "- `distance[v]` – shortest distance from v to the tree\n",
    "- `TreeEdges` – edges in the current spanning tree\n",
    "---\n",
    "#### Time Complexity Analysis\n",
    "- Initialization takes $O(n)$\n",
    "- Loop to add nodes to the tree runs $O(n)$ times\n",
    "- Each iteration takes $O(m)$ time to find a node to add\n",
    "- Overall time is $O(mn)$, which could be $O(n^3)$!"
   ]
  },
  {
   "cell_type": "code",
   "execution_count": 184,
   "id": "8d2d0544",
   "metadata": {},
   "outputs": [
    {
     "data": {
      "text/plain": [
       "[(0, 2), (2, 1)]"
      ]
     },
     "execution_count": 184,
     "metadata": {},
     "output_type": "execute_result"
    }
   ],
   "source": [
    "def primlist(WList):\n",
    "    infinity = 1 + max([d for u in WList.keys() for (v, d) in WList[u]]) # finding maximum weight in the graph\n",
    "    (visited, distance, TreeEdges) = ({}, {}, [])\n",
    "    for v in WList.keys(): # initialize distance to infinite, set each vertex to not visited\n",
    "        (visited[v], distance[v]) = (False, infinity)\n",
    "    visited[0] = True # starting the tree from vertex 0\n",
    "    for (v, d) in WList[0]: # update distance from infinte to direct edge weight\n",
    "        distance[v] = d # direct edge weight is the distance from tree for now\n",
    "        # now find vertex with minimum edge weight to grow the tree\n",
    "    for i in WList.keys(): # runs n times as we want to add total n nodes to the tree\n",
    "        (mindist, nextv) = (infinity, None)\n",
    "        for u in WList.keys(): # helps finding next vertex to visit\n",
    "            for (v, d) in WList[u]:\n",
    "                if visited[u] and (not visited[v]) and d < mindist:\n",
    "                    (mindist, nextv, nexte) = (d, v, (u, v))\n",
    "                    # returns a edge and vertext the minimum cost edge which is not visited\n",
    "        if nextv is None: # triggers when graph is not connected\n",
    "            break\n",
    "        visited[nextv] = True\n",
    "        TreeEdges.append(nexte)\n",
    "        for (v, d) in WList[nextv]: # updating distance from tree of its neighbour\n",
    "            if not visited[v]: # if true then means distance[v] = infinity\n",
    "                distance[v] = min(distance[v], d) # since nextv is now part of the tree and directly connected to its neighbor.\n",
    "    return TreeEdges\n",
    "\n",
    "primlist(WListNegUD)"
   ]
  },
  {
   "cell_type": "markdown",
   "id": "9cc5b28e",
   "metadata": {},
   "source": [
    "## Prims Algorithm: Improved Implementation\n",
    "- `nbr[v]` – nearest neighbour of v in tree\n",
    "---\n",
    "#### Time Complexity Analysis\n",
    "- Now scan to find the next vertex to add is $O(n)$\n",
    "- Very similar to Dijkstra’s algorithm\n",
    "- Time complexity $O(n^2)$\n",
    "    - Bottleneck is identifying unvisited vertex with minimum distance\n",
    "- Need a better **data structure** to identify and remove minimum (or maximum) from a collection"
   ]
  },
  {
   "cell_type": "code",
   "execution_count": 186,
   "id": "7a7d203f",
   "metadata": {
    "scrolled": true
   },
   "outputs": [
    {
     "data": {
      "text/plain": [
       "{0: -1, 1: 2, 2: 0}"
      ]
     },
     "execution_count": 186,
     "metadata": {},
     "output_type": "execute_result"
    }
   ],
   "source": [
    "def primlist2(WList):\n",
    "    infinity = max([d for u in WList.keys() for (v, d) in WList[u]])\n",
    "    (visited, distance, nbr) = ({},{},{})\n",
    "    for v in WList.keys(): # initializing\n",
    "        (visited[v], distance[v], nbr[v]) = (False, infinity, -1)\n",
    "    visited[0] = True\n",
    "    for (v, d) in WList[0]: # updating neighbour data...\n",
    "        (distance[v], nbr[v]) = (d, 0) # as 0th vertex is now the tree\n",
    "    for i in range(1, len(WList.keys())): # helps growing the tree, runs n-1 times\n",
    "        nextd = min([distance[v] for v in WList.keys() if not visited[v]]) # get minimum weight from tree (runs n times)\n",
    "        nextvlist = [v for v in WList.keys() if (not visited[v]) and distance[v] == nextd] # list of all minimum weight vertex from tree\n",
    "        if nextvlist == []: # handle not connected graph\n",
    "            break\n",
    "        nextv = min(nextvlist)\n",
    "        visited[nextv] = True\n",
    "        for (v, d) in WList[nextv]: # updating neighbour data...\n",
    "            # now nextv is a part of tree!\n",
    "            if not visited[v]:\n",
    "                (distance[v], nbr[v]) = (min(distance[v], d), nextv)\n",
    "    return nbr\n",
    "\n",
    "primlist2(WListNegUD)"
   ]
  },
  {
   "cell_type": "markdown",
   "id": "6425dcde",
   "metadata": {},
   "source": [
    "## Kruskal's Algorithm\n",
    "---\n",
    "#### Algorithm\n",
    "- Start with `n` components, each an isolated vertex\n",
    "- Scan edges in ascending order of cost\n",
    "- Whenever an edge merges disjoint components, add it to the MCST\n",
    "\n",
    "---\n",
    "#### Time Complexity\n",
    "- Time complexity: $O(n^2)$\n",
    "---\n",
    "#### The Problem and Way to Improve Complexity\n",
    "- **Bottleneck** is naive strategy to label and merge components\n",
    "- Data structure to maintain collection of components (or disjoint sets)\n",
    "    - `find(v)` — return set containing v\n",
    "    - `union(u,v)` — merge sets of u, v\n",
    "- Efficient **union-find** brings complexity down to $O(m log n)$"
   ]
  },
  {
   "cell_type": "code",
   "execution_count": 189,
   "id": "259b70d1",
   "metadata": {},
   "outputs": [
    {
     "data": {
      "text/plain": [
       "[(1, 2), (0, 2)]"
      ]
     },
     "execution_count": 189,
     "metadata": {},
     "output_type": "execute_result"
    }
   ],
   "source": [
    "def kruskal(WList):\n",
    "    (edges, component, TE) = ([], {}, []) \n",
    "    # edges: list of edges in sorted order\n",
    "    # components: initially n components, one for each node\n",
    "    # TE: List of edges in the MCST\n",
    "    for u in WList.keys():\n",
    "        # Weight as first component to sort easily\n",
    "        edges.extend([(d, u, v) for (v, d) in WList[u]]) # v is neighbour of u\n",
    "        component[u] = u # One component for each node initially. Each component has exactly one node u\n",
    "    edges.sort()\n",
    "    \n",
    "    # Your goal now is to merge all nodes into one SINGLE component such that it is a MCST\n",
    "    for (d, u, v) in edges: # runs m times\n",
    "        if component[u] != component[v]: # runs n-1 times, need to append n-1 edges to TE\n",
    "            # if already in the same component => included in the tree => no need to process\n",
    "            # this block is executed only n-1 times and not m times => runs O(n) times\n",
    "            \n",
    "            TE.append((u, v)) \n",
    "            # add edge to tree (growing the tree)\n",
    "            # remember that edges are sorted by cost, so it ensures I get the edge with minimum cost to append first\n",
    "            \n",
    "            c = component[u]\n",
    "            # We have two options to give the name to merged component: i) component[u] ii) component[v]\n",
    "            # We will give the name to merged component = name of component of vertex v (target vertex)\n",
    "            \n",
    "            for w in WList.keys():\n",
    "                if component[w] == c: # if w belongs to u's component...\n",
    "                    component[w] = component[v]  # then new component of w would be the component of vertex v\n",
    "    return TE\n",
    "\n",
    "kruskal(WListNegUD)"
   ]
  },
  {
   "cell_type": "markdown",
   "id": "f21677d8",
   "metadata": {},
   "source": [
    "## Notes"
   ]
  },
  {
   "cell_type": "code",
   "execution_count": 39,
   "id": "170584e1",
   "metadata": {},
   "outputs": [
    {
     "name": "stdout",
     "output_type": "stream",
     "text": [
      "26\n",
      "(3, 2, 2)\n",
      "1\n"
     ]
    }
   ],
   "source": [
    "import numpy as np\n",
    "arr = np.array([\n",
    "    [(1, 5), (0, 0)],\n",
    "    [(1, 14), (1, 10)],\n",
    "    [(1, 0), (1, 26)]\n",
    "])\n",
    "\n",
    "print(arr.max()) # gives the maximum value that apperas in the 3D array\n",
    "print(arr.shape) # 3 rows, 2 columns, each item in the matrix has two elements\n",
    "print(arr[1, 0, 0]) # 1st row, 0th tuple in the 1st row, 0th item in the tuple"
   ]
  },
  {
   "cell_type": "code",
   "execution_count": 120,
   "id": "e34c6378",
   "metadata": {},
   "outputs": [
    {
     "data": {
      "text/plain": [
       "[3, 10, 10, 21, 2]"
      ]
     },
     "execution_count": 120,
     "metadata": {},
     "output_type": "execute_result"
    }
   ],
   "source": [
    "# NESTED LOOPS IN LIST COMPREHENSION\n",
    "d = {\n",
    "    0: [(1, 3), (2, 10)],\n",
    "    1: [(0, 10), (1, 21)],\n",
    "    2: [(1, 2)]\n",
    "}\n",
    "\n",
    "# Making list of all elements in tuples\n",
    "l = [element_in_tuple for key in d for (ele1, element_in_tuple) in d[key]]\n",
    "l"
   ]
  },
  {
   "cell_type": "code",
   "execution_count": 153,
   "id": "a43c1efa",
   "metadata": {},
   "outputs": [
    {
     "data": {
      "text/plain": [
       "array([[[0., 0., 0.],\n",
       "        [0., 0., 0.]],\n",
       "\n",
       "       [[0., 0., 0.],\n",
       "        [0., 0., 0.]]])"
      ]
     },
     "execution_count": 153,
     "metadata": {},
     "output_type": "execute_result"
    }
   ],
   "source": [
    "# Creates a 2 X 2 matrix\n",
    "# Each cell in the matrix has a list of length three - [0, 0, 0]\n",
    "arr = np.zeros(shape=(2, 2, 3))\n",
    "arr"
   ]
  },
  {
   "cell_type": "code",
   "execution_count": 158,
   "id": "7c86d649",
   "metadata": {},
   "outputs": [
    {
     "data": {
      "text/plain": [
       "array([[999, 999],\n",
       "       [999, 999]])"
      ]
     },
     "execution_count": 158,
     "metadata": {},
     "output_type": "execute_result"
    }
   ],
   "source": [
    "# A 2 X 2 matrix\n",
    "# Each cell has list of length 3\n",
    "arr = np.array(\n",
    "[\n",
    "    [ # row-1\n",
    "        [0, 0, 999], # col-1\n",
    "        [0, 0, 999] # col-2\n",
    "    ],\n",
    "    \n",
    "    [ # row-2\n",
    "        [0, 0, 999], # col-1\n",
    "        [0, 0, 999] # col-2\n",
    "    ]\n",
    "]\n",
    ")\n",
    "\n",
    "arr[:,:,2]\n",
    "# 2 X 2 matrix structure stays intact\n",
    "# now each cell has the last element of the list"
   ]
  }
 ],
 "metadata": {
  "kernelspec": {
   "display_name": "Python 3 (ipykernel)",
   "language": "python",
   "name": "python3"
  },
  "language_info": {
   "codemirror_mode": {
    "name": "ipython",
    "version": 3
   },
   "file_extension": ".py",
   "mimetype": "text/x-python",
   "name": "python",
   "nbconvert_exporter": "python",
   "pygments_lexer": "ipython3",
   "version": "3.9.12"
  }
 },
 "nbformat": 4,
 "nbformat_minor": 5
}
